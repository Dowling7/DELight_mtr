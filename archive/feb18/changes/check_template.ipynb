{
 "cells": [
  {
   "cell_type": "markdown",
   "id": "3d15c78f-b327-433f-9c76-d6c7228e8c93",
   "metadata": {},
   "source": [
    "# Read before\n",
    "the dimension of template should be (2, 32768), 2 is for import scheme for uv and qp, and 32768 need to match the length of traces(or after chunking events marked by the trigger)  \n",
    "And for the psd, the length of psd is len(event)/2 +1"
   ]
  },
  {
   "cell_type": "code",
   "execution_count": 2,
   "id": "6aadd541-0271-478e-a1a0-a502ea95687a",
   "metadata": {},
   "outputs": [
    {
     "name": "stdout",
     "output_type": "stream",
     "text": [
      "Shape of default_templates.npy: (2, 32768)\n",
      "Shape of template_K_alpha_tight.npy: (32768,)\n",
      "Shape of double_level2_template.npy: (2, 32768)\n"
     ]
    }
   ],
   "source": [
    "import numpy as np\n",
    "\n",
    "def return_npy_shape(file):\n",
    "    data = np.load(file)\n",
    "\n",
    "    shape = data.shape\n",
    "\n",
    "    print(f\"Shape of {file}: {shape}\")\n",
    "\n",
    "\n",
    "\n",
    "# Example usage\n",
    "file1 = \"default_templates.npy\"\n",
    "file2 = \"template_K_alpha_tight.npy\"\n",
    "file3 = \"double_level2_template.npy\"\n",
    "\n",
    "return_npy_shape(file1)\n",
    "return_npy_shape(file2)\n",
    "return_npy_shape(file3)\n",
    "\n"
   ]
  },
  {
   "cell_type": "code",
   "execution_count": 3,
   "id": "59eadbaf-5ed0-4a03-9b13-2db2df95fe57",
   "metadata": {},
   "outputs": [
    {
     "name": "stdout",
     "output_type": "stream",
     "text": [
      "Shape of noise_psd_from_MMC.npy: (16385,)\n"
     ]
    }
   ],
   "source": [
    "file4 = \"noise_psd_from_MMC.npy\"\n",
    "return_npy_shape(file4)\n"
   ]
  },
  {
   "cell_type": "code",
   "execution_count": null,
   "id": "c4a0949e-c176-454b-9432-03346439a76a",
   "metadata": {},
   "outputs": [],
   "source": []
  }
 ],
 "metadata": {
  "kernelspec": {
   "display_name": "Python 3 (ipykernel)",
   "language": "python",
   "name": "python3"
  },
  "language_info": {
   "codemirror_mode": {
    "name": "ipython",
    "version": 3
   },
   "file_extension": ".py",
   "mimetype": "text/x-python",
   "name": "python",
   "nbconvert_exporter": "python",
   "pygments_lexer": "ipython3",
   "version": "3.12.8"
  }
 },
 "nbformat": 4,
 "nbformat_minor": 5
}
