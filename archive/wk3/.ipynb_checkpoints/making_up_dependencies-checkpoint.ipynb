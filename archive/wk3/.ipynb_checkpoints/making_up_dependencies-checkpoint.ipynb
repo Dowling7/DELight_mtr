{
 "cells": [
  {
   "cell_type": "code",
   "execution_count": null,
   "id": "ed73bd0b-d3f7-4c17-8a94-aabc44eafc7f",
   "metadata": {},
   "outputs": [],
   "source": [
    "from helix import units\n",
    "\n",
    "def make_default_templates():\n",
    "    uv_template = hx.get_analytical_template(length=hx.DEFAULT_OF_LENGTH, sampling_dt=hx.DEFAULT_SAMPLING_DT)\n",
    "    qp_template = hx.get_analytical_template(2 * units.ms, length=hx.DEFAULT_OF_LENGTH,\n",
    "                                             sampling_dt=hx.DEFAULT_SAMPLING_DT)\n",
    "    templates = np.array([uv_template, qp_template])\n",
    "\n",
    "    np.save('plugins/event_rqs/default_mmc_templates.npy', templates)"
   ]
  },
  {
   "cell_type": "code",
   "execution_count": null,
   "id": "e9f0ace9-89b4-43b3-bc20-8b3f1e39e576",
   "metadata": {},
   "outputs": [],
   "source": [
    "make_default_templates()"
   ]
  },
  {
   "cell_type": "code",
   "execution_count": null,
   "id": "11d58571-b336-4cc6-96db-3b3767b93d2b",
   "metadata": {},
   "outputs": [],
   "source": [
    "from datetime import datetime, timedelta\n",
    "import json\n",
    "from bson import json_util\n",
    "\n",
    "def generate_run_metadata(durations=(10, 300, 3600, 28800)):\n",
    "    for duration in durations:\n",
    "        metadata_path = os.path.join('test_helix_data', f'run{duration}-metadata.json')\n",
    "        start = datetime.now().replace(microsecond=0)\n",
    "        end = start + timedelta(seconds=10)\n",
    "        metadata = {'start': start, 'end': end}\n",
    "        with open(metadata_path, 'w') as f:\n",
    "            json.dump(metadata, f, default=json_util.default)\n",
    "    exit()"
   ]
  },
  {
   "cell_type": "code",
   "execution_count": null,
   "id": "80f2f089-a8d3-4d9b-a1e5-07458189143a",
   "metadata": {},
   "outputs": [],
   "source": [
    "generate_run_metadata()"
   ]
  },
  {
   "cell_type": "code",
   "execution_count": null,
   "id": "2f8e2f1e-1e59-4c84-8eef-9564dc72e1cd",
   "metadata": {},
   "outputs": [],
   "source": []
  },
  {
   "cell_type": "code",
   "execution_count": null,
   "id": "7644f6da-fcef-4df9-96a7-9fb18dab3ea0",
   "metadata": {},
   "outputs": [],
   "source": []
  },
  {
   "cell_type": "code",
   "execution_count": null,
   "id": "a6003cdc-d64d-42e5-8ac7-2176bd998eab",
   "metadata": {},
   "outputs": [],
   "source": []
  }
 ],
 "metadata": {
  "kernelspec": {
   "display_name": "Python 3 (ipykernel)",
   "language": "python",
   "name": "python3"
  },
  "language_info": {
   "codemirror_mode": {
    "name": "ipython",
    "version": 3
   },
   "file_extension": ".py",
   "mimetype": "text/x-python",
   "name": "python",
   "nbconvert_exporter": "python",
   "pygments_lexer": "ipython3",
   "version": "3.12.8"
  }
 },
 "nbformat": 4,
 "nbformat_minor": 5
}
