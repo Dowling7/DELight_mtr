{
 "cells": [
  {
   "cell_type": "code",
   "execution_count": 1,
   "id": "0092483e-cb28-483c-a5a2-f4e040ee1c06",
   "metadata": {},
   "outputs": [],
   "source": [
    "import numpy as np\n",
    "from bson import json_util\n",
    "import helix as hx\n",
    "from helix import units\n",
    "import numpy as np\n",
    "import strax as sx                    \n",
    "from matplotlib import pyplot as plt\n",
    "from glob import glob \n",
    "import os\n",
    "import shutil\n",
    "\n",
    "raw_data_dir = 'toy_data'  # to save the raw toy data\n",
    "helix_data_dir = 'test_helix_data'  # to save the run metadata\n",
    "run = 'run10' \n",
    "duration = 10  # seconds\n",
    "baseline_step = 0  # add a baseline equal to baseline_step*channel_index to each channel "
   ]
  },
  {
   "cell_type": "code",
   "execution_count": 2,
   "id": "d58d9acc-a7f3-4964-9811-40b2b6fc92c8",
   "metadata": {},
   "outputs": [],
   "source": [
    "context = sx.Context(storage=[sx.DataDirectory(helix_data_dir, provide_run_metadata=True), ],\n",
    "                     register=[hx.MMCRecords,\n",
    "                               hx.QPTriggers, hx.UVTriggers,\n",
    "                               hx.Events, hx.NoiseEvents,\n",
    "                               hx.NoisePSDs, hx.FitResults])    # all the plugins required for getting fit_results\n",
    "config = {'run_metadata_directory': helix_data_dir,      # for the hx.ToyDataRawRecords plugin\n",
    "          'noise_events_random_seed': 0}  # for the hx.NoiseEvents plugin\n",
    "context.set_config(config)"
   ]
  },
  {
   "cell_type": "code",
   "execution_count": 3,
   "id": "c4ec30f5-95b3-4487-97e3-be491dd7ab90",
   "metadata": {},
   "outputs": [
    {
     "data": {
      "text/plain": [
       "\u001b[0;31mInit signature:\u001b[0m\n",
       "\u001b[0mhx\u001b[0m\u001b[0;34m.\u001b[0m\u001b[0mOptimumFilter\u001b[0m\u001b[0;34m(\u001b[0m\u001b[0;34m\u001b[0m\n",
       "\u001b[0;34m\u001b[0m    \u001b[0mtemplate\u001b[0m\u001b[0;34m,\u001b[0m\u001b[0;34m\u001b[0m\n",
       "\u001b[0;34m\u001b[0m    \u001b[0mnoise_psd\u001b[0m\u001b[0;34m,\u001b[0m\u001b[0;34m\u001b[0m\n",
       "\u001b[0;34m\u001b[0m    \u001b[0msampling_frequency\u001b[0m\u001b[0;34m,\u001b[0m\u001b[0;34m\u001b[0m\n",
       "\u001b[0;34m\u001b[0m    \u001b[0mallowed_shifts\u001b[0m\u001b[0;34m=\u001b[0m\u001b[0;32mNone\u001b[0m\u001b[0;34m,\u001b[0m\u001b[0;34m\u001b[0m\n",
       "\u001b[0;34m\u001b[0m\u001b[0;34m)\u001b[0m\u001b[0;34m\u001b[0m\u001b[0;34m\u001b[0m\u001b[0m\n",
       "\u001b[0;31mDocstring:\u001b[0m     \n",
       "Class to perform one-template Optimum Filter fits. Inspired by QETpy\n",
       "If noise_psd and template are 1-dimensional, traces can be any-dimensional.\n",
       "If noise_psd or template is 2-dimensional (i.e., N PSDs or N templates, or both N PSDs and N templates are\n",
       "provided), traces can be:\n",
       "    1-dimensional: one trace, fitted with N different PSDs and/or templates. Outputs have shapes (N,)\n",
       "    2-dimensional: must have shape (N, L), where L is the trace length. i-th trace is fitted with i-th PSD and/or\n",
       "        template. The outputs have shapes (N,)\n",
       "    3-dimensional: must have shape (M, N, L), where M is arbitrary. The outputs have shapes (M, N).\n",
       "\u001b[0;31mInit docstring:\u001b[0m\n",
       "Makes an OF object to perform one-template Optimum Filter fits. Inspired by QETpy.\n",
       "If noise_psd and template are 1-dimensional, traces can be any-dimensional.\n",
       "If noise_psd or template is 2-dimensional (i.e., N PSDs or N templates, or both N PSDs and N templates are\n",
       "provided), traces can be:\n",
       "    1-dimensional: one trace, fitted with N different PSDs and/or templates. Outputs have shapes (N,)\n",
       "    2-dimensional: must have shape (N, L), where L is the trace length. i-th trace is fitted with i-th PSD\n",
       "        and/or template. The outputs have shapes (N,)\n",
       "    3-dimensional: must have shape (M, N, L), where M is arbitrary. The outputs have shapes (M, N).\n",
       "\n",
       ":param template: 1- or 2-dimensional array with either one template or N templates of length L\n",
       ":param noise_psd: 1- or 2-dimensional arrays of folded noise PSDs. If both template and noise_psd are\n",
       "2-dimensional, their first dimension must match.\n",
       ":param sampling_frequency: sampling frequency in Hz\n",
       ":param allowed_shifts: a tuple of allowed range of template rolls in time samples\n",
       "\u001b[0;31mFile:\u001b[0m           ~/Documents/helix/helix/optimum_filter.py\n",
       "\u001b[0;31mType:\u001b[0m           type\n",
       "\u001b[0;31mSubclasses:\u001b[0m     "
      ]
     },
     "metadata": {},
     "output_type": "display_data"
    }
   ],
   "source": [
    "hx.OptimumFilter?"
   ]
  },
  {
   "cell_type": "code",
   "execution_count": 5,
   "id": "4dd82b45-f969-484c-b67e-c723de8cec47",
   "metadata": {},
   "outputs": [
    {
     "name": "stderr",
     "output_type": "stream",
     "text": [
      "Loading raw_records: |              | 0.00 % [00:00<?], #1 (0.05 s). 2371.4 MB/s\n",
      "Loading events: |                   | 0.00 % [00:00<?], #1 (0.03 s). 4320.0 MB/s\n",
      "Loading fit_results: |                 | 0.00 % [00:02<?], #1 (2.63 s). 5.6 kB/s\n"
     ]
    }
   ],
   "source": [
    "records = context.get_array(run, 'raw_records')\n",
    "events = context.get_array(run, 'events')\n",
    "fit_results = context.get_array(run, 'fit_results')  \n",
    "raw_data = events['channel_data']"
   ]
  },
  {
   "cell_type": "code",
   "execution_count": null,
   "id": "77e0d458-d065-4255-924e-065e3227911c",
   "metadata": {},
   "outputs": [],
   "source": []
  }
 ],
 "metadata": {
  "kernelspec": {
   "display_name": "Python 3 (ipykernel)",
   "language": "python",
   "name": "python3"
  },
  "language_info": {
   "codemirror_mode": {
    "name": "ipython",
    "version": 3
   },
   "file_extension": ".py",
   "mimetype": "text/x-python",
   "name": "python",
   "nbconvert_exporter": "python",
   "pygments_lexer": "ipython3",
   "version": "3.12.8"
  }
 },
 "nbformat": 4,
 "nbformat_minor": 5
}
