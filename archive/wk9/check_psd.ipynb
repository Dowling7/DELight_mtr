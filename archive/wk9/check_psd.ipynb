{
 "cells": [
  {
   "cell_type": "code",
   "execution_count": 14,
   "id": "fe82db96-378c-4915-be69-a441142b1889",
   "metadata": {},
   "outputs": [],
   "source": [
    "import numpy as np\n",
    "from bson import json_util\n",
    "import helix as hx\n",
    "from helix import units\n",
    "import numpy as np\n",
    "import strax as sx                    \n",
    "from matplotlib import pyplot as plt\n",
    "from glob import glob \n",
    "import os\n",
    "import shutil\n",
    "\n",
    "raw_data_dir = 'toy_data'  # to save the raw toy data\n",
    "helix_data_dir = 'test_helix_data'  # to save the run metadata\n",
    "run = 'run10' \n",
    "duration = 10  # seconds\n",
    "baseline_step = 0  # add a baseline equal to baseline_step*channel_index to each channel "
   ]
  },
  {
   "cell_type": "code",
   "execution_count": 6,
   "id": "813bfe9b-cc67-4b3e-a493-43f68a880860",
   "metadata": {},
   "outputs": [
    {
     "data": {
      "text/plain": [
       "\u001b[0;31mInit signature:\u001b[0m \u001b[0mhx\u001b[0m\u001b[0;34m.\u001b[0m\u001b[0mNoisePSDs\u001b[0m\u001b[0;34m(\u001b[0m\u001b[0;34m)\u001b[0m\u001b[0;34m\u001b[0m\u001b[0;34m\u001b[0m\u001b[0m\n",
       "\u001b[0;31mDocstring:\u001b[0m      Plugin to calculate noise Power Spectrum and Cross-Spectrum Densities (PSDs and CSDs) from the noise events\n",
       "\u001b[0;31mFile:\u001b[0m           ~/Documents/helix/helix/plugins/noise_psds/noise_psds.py\n",
       "\u001b[0;31mType:\u001b[0m           type\n",
       "\u001b[0;31mSubclasses:\u001b[0m     "
      ]
     },
     "metadata": {},
     "output_type": "display_data"
    }
   ],
   "source": [
    "hx.NoisePSDs?"
   ]
  },
  {
   "cell_type": "code",
   "execution_count": 15,
   "id": "227cfa3f-1e66-4c46-9926-d6c7f9139420",
   "metadata": {},
   "outputs": [],
   "source": [
    "context = sx.Context(storage=[sx.DataDirectory(helix_data_dir, provide_run_metadata=True), ],\n",
    "                     register=[hx.MMCRecords,\n",
    "                               hx.QPTriggers, hx.UVTriggers,\n",
    "                               hx.Events, hx.NoiseEvents,\n",
    "                               hx.NoisePSDs, hx.FitResults])    # all the plugins required for getting fit_results\n",
    "config = {'run_metadata_directory': helix_data_dir,      # for the hx.ToyDataRawRecords plugin\n",
    "          'noise_events_random_seed': 0}  # for the hx.NoiseEvents plugin\n",
    "context.set_config(config)"
   ]
  },
  {
   "cell_type": "code",
   "execution_count": 16,
   "id": "7ba49e26-cfd4-404a-9b70-e5701ac7bb09",
   "metadata": {},
   "outputs": [
    {
     "name": "stdout",
     "output_type": "stream",
     "text": [
      "Plugin successfully loaded!\n"
     ]
    }
   ],
   "source": [
    "noise_psds_plugin = context.get_single_plugin(run_id='test_run', data_type='noise_psds')\n",
    "print(\"Plugin successfully loaded!\")\n"
   ]
  },
  {
   "cell_type": "code",
   "execution_count": 18,
   "id": "2070c205-ede1-4432-a5fa-0120c0b88de0",
   "metadata": {},
   "outputs": [
    {
     "name": "stdout",
     "output_type": "stream",
     "text": [
      "❌ No Finished Cached PSD.\n",
      "\n",
      "❌ No Unfinished Cached PSD.\n"
     ]
    }
   ],
   "source": [
    "# Check if cached PSDs exist\n",
    "if noise_psds_plugin.finished_cached_psd is not None:\n",
    "    print(\"✅ Finished Cached PSD Exists!\")\n",
    "    print(\"Shape:\", noise_psds_plugin.finished_cached_psd.shape)\n",
    "    print(\"Time Range:\", noise_psds_plugin.finished_cached_psd[0]['time'], \"to\", noise_psds_plugin.finished_cached_psd[0]['endtime'])\n",
    "    print(\"Number of Events:\", noise_psds_plugin.finished_cached_psd[0]['n_events'])\n",
    "    print(\"Frequencies:\", noise_psds_plugin.finished_cached_psd[0]['frequencies'])\n",
    "    print(\"PSD Values:\", noise_psds_plugin.finished_cached_psd[0]['psds'])\n",
    "else:\n",
    "    print(\"❌ No Finished Cached PSD.\")\n",
    "\n",
    "if noise_psds_plugin.unfinished_cached_psd is not None:\n",
    "    print(\"\\n⚠️ Unfinished Cached PSD Exists (Still Collecting Data)\")\n",
    "    print(\"Time Range:\", noise_psds_plugin.unfinished_cached_psd[0]['time'], \"to\", noise_psds_plugin.unfinished_cached_psd[0]['endtime'])\n",
    "    print(\"Number of Events:\", noise_psds_plugin.unfinished_cached_psd[0]['n_events'])\n",
    "else:\n",
    "    print(\"\\n❌ No Unfinished Cached PSD.\")\n"
   ]
  },
  {
   "cell_type": "code",
   "execution_count": null,
   "id": "16abc8a6-ef16-49bd-9bb1-c1bf12dc0a01",
   "metadata": {},
   "outputs": [],
   "source": []
  }
 ],
 "metadata": {
  "kernelspec": {
   "display_name": "Python 3 (ipykernel)",
   "language": "python",
   "name": "python3"
  },
  "language_info": {
   "codemirror_mode": {
    "name": "ipython",
    "version": 3
   },
   "file_extension": ".py",
   "mimetype": "text/x-python",
   "name": "python",
   "nbconvert_exporter": "python",
   "pygments_lexer": "ipython3",
   "version": "3.12.8"
  }
 },
 "nbformat": 4,
 "nbformat_minor": 5
}
