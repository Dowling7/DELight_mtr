{
 "cells": [
  {
   "cell_type": "code",
   "execution_count": 1,
   "id": "e82b53e6",
   "metadata": {},
   "outputs": [],
   "source": [
    "import yaml\n",
    "import numpy as np\n",
    "from TraceSimulator import LongTraceSimulator\n",
    "import matplotlib.pyplot as plt\n",
    "from trace_IO import *\n",
    "\n",
    "\n",
    "def read_yaml_to_dict(file_path):\n",
    "    with open(file_path, 'r') as file:\n",
    "        config_dict = yaml.safe_load(file)\n",
    "    return config_dict\n",
    "\n",
    "config = read_yaml_to_dict('/home/dwong/DELight_mtr/trigger_study/archive/wk11/config.yaml')\n",
    "lts = LongTraceSimulator(config)\n",
    "\n"
   ]
  },
  {
   "cell_type": "code",
   "execution_count": 2,
   "id": "e5284b58",
   "metadata": {},
   "outputs": [
    {
     "name": "stderr",
     "output_type": "stream",
     "text": [
      "Generating Traces: 100%|██████████| 20/20 [10:31<00:00, 31.56s/it]  \n"
     ]
    }
   ],
   "source": [
    "import numpy as np\n",
    "import threading\n",
    "from concurrent.futures import ThreadPoolExecutor, as_completed\n",
    "from pathlib import Path\n",
    "from tqdm import tqdm\n",
    "\n",
    "\n",
    "def generate_and_save_traces(energy):\n",
    "    all_traces = []\n",
    "    n_sets = 100\n",
    "    for _ in range(n_sets):\n",
    "        trace, _ = lts.generate(E=energy, x=-94, y=0, z=-1800,\n",
    "            no_noise=False,\n",
    "            type_recoil='NR',\n",
    "            quantize=True,\n",
    "            phonon_only=True,\n",
    "            long_trace_samples = 250000)\n",
    "        qp_trace = trace[0][-9:]\n",
    "        all_traces.append(np.asarray(qp_trace, dtype=np.float16))\n",
    "\n",
    "    output_path = Path(f\"/ceph/dwong/trigger_samples/lts/traces_energy_{energy}.zst\")\n",
    "    save_traces_to_zstd(all_traces, output_path)\n",
    "\n",
    "\n",
    "def main():\n",
    "    energy_values = list(range(5, 101, 5))\n",
    "    max_threads = 15\n",
    "\n",
    "    with ThreadPoolExecutor(max_workers=max_threads) as executor:\n",
    "        futures = {executor.submit(generate_and_save_traces, energy): energy for energy in energy_values}\n",
    "        for _ in tqdm(as_completed(futures), total=len(futures), desc=\"Generating Traces\"):\n",
    "            pass\n",
    "\n",
    "\n",
    "if __name__ == \"__main__\":\n",
    "    main()\n"
   ]
  },
  {
   "cell_type": "code",
   "execution_count": 3,
   "id": "8d802a34",
   "metadata": {},
   "outputs": [],
   "source": [
    "loaded_trace = load_traces_from_zstd(\"/ceph/dwong/trigger_samples/lts/traces_energy_10.zst\", 100)"
   ]
  },
  {
   "cell_type": "code",
   "execution_count": 4,
   "id": "febab763",
   "metadata": {},
   "outputs": [
    {
     "data": {
      "text/plain": [
       "(100, 9, 250000)"
      ]
     },
     "execution_count": 4,
     "metadata": {},
     "output_type": "execute_result"
    }
   ],
   "source": [
    "loaded_trace.shape"
   ]
  },
  {
   "cell_type": "code",
   "execution_count": 8,
   "id": "4ba56ecf",
   "metadata": {},
   "outputs": [],
   "source": [
    "energy = 0\n",
    "all_traces = []\n",
    "n_sets = 100\n",
    "for _ in range(n_sets):\n",
    "    trace, _ = lts.generate(E=energy, x=-94, y=0, z=-1800,\n",
    "        no_noise=False,\n",
    "        type_recoil='NR',\n",
    "        quantize=True,\n",
    "        phonon_only=True,\n",
    "        long_trace_samples = 250000)\n",
    "    qp_trace = trace[0][-9:]\n",
    "    all_traces.append(np.asarray(qp_trace, dtype=np.float16))\n",
    "\n",
    "output_path = Path(f\"/ceph/dwong/trigger_samples/lts/traces_energy_{energy}.zst\")\n",
    "save_traces_to_zstd(all_traces, output_path)\n"
   ]
  },
  {
   "cell_type": "code",
   "execution_count": null,
   "id": "6be65f92",
   "metadata": {},
   "outputs": [],
   "source": []
  }
 ],
 "metadata": {
  "kernelspec": {
   "display_name": "base",
   "language": "python",
   "name": "python3"
  },
  "language_info": {
   "codemirror_mode": {
    "name": "ipython",
    "version": 3
   },
   "file_extension": ".py",
   "mimetype": "text/x-python",
   "name": "python",
   "nbconvert_exporter": "python",
   "pygments_lexer": "ipython3",
   "version": "3.12.7"
  }
 },
 "nbformat": 4,
 "nbformat_minor": 5
}
