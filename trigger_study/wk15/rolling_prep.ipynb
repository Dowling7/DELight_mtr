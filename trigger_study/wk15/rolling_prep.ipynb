{
 "cells": [
  {
   "cell_type": "code",
   "execution_count": 1,
   "id": "b30199c0",
   "metadata": {},
   "outputs": [],
   "source": [
    "import numpy as np\n",
    "import matplotlib.pyplot as plt\n",
    "from tqdm import tqdm\n",
    "from trace_IO import *\n",
    "from OptimumFilter import *\n",
    "\n",
    "fs = 3906250\n",
    "sigma = 0.7674\n",
    "thresholds = [round(n * sigma, 4) for n in [3, 4, 5]]\n",
    "energy_values = list(range(5, 101, 5))\n",
    "pass_rates_by_threshold = {th: [] for th in thresholds}\n",
    "n_sets = 100\n",
    "\n",
    "# Load templates and noise PSD\n",
    "qp_template = np.load(\"templates/vac_ch_template.npy\")\n",
    "noise_psd = np.load(\"../../templates/noise_psd_from_MMC.npy\")\n",
    "\n",
    "vac_of = OptimumFilter(qp_template, noise_psd, fs)\n"
   ]
  },
  {
   "cell_type": "code",
   "execution_count": 4,
   "id": "5c18c4af",
   "metadata": {},
   "outputs": [],
   "source": [
    "energy = 5\n",
    "trace_path = f\"/ceph/dwong/trigger_samples/lts/traces_energy_{energy}.zst\"\n",
    "loaded_traces = load_traces_from_zstd(trace_path, n_traces=n_sets)\n",
    "example = loaded_traces[91][0][:32768]"
   ]
  },
  {
   "cell_type": "code",
   "execution_count": 7,
   "id": "c9718367",
   "metadata": {},
   "outputs": [
    {
     "name": "stdout",
     "output_type": "stream",
     "text": [
      "Time taken: 0.001983 seconds\n"
     ]
    }
   ],
   "source": [
    "import time\n",
    "\n",
    "start_time = time.time()\n",
    "ampl = vac_of.fit(example)\n",
    "end_time = time.time()\n",
    "\n",
    "elapsed_time = end_time - start_time\n",
    "print(f\"Time taken: {elapsed_time:.6f} seconds\")\n"
   ]
  },
  {
   "cell_type": "code",
   "execution_count": null,
   "id": "360eebb7",
   "metadata": {},
   "outputs": [],
   "source": [
    "energy = 5\n",
    "trace_path = f\"/ceph/dwong/trigger_samples/lts/traces_energy_{energy}.zst\"\n",
    "loaded_traces = load_traces_from_zstd(trace_path, n_traces=n_sets)"
   ]
  },
  {
   "cell_type": "code",
   "execution_count": 10,
   "id": "6068f786",
   "metadata": {},
   "outputs": [
    {
     "name": "stdout",
     "output_type": "stream",
     "text": [
      "(250000,)\n"
     ]
    }
   ],
   "source": []
  },
  {
   "cell_type": "code",
   "execution_count": null,
   "id": "2d4b235a",
   "metadata": {},
   "outputs": [],
   "source": [
    "example = loaded_traces[91][0]\n",
    "\n",
    "window_size = 32768\n",
    "num_windows = len(example) - window_size + 1\n",
    "\n",
    "def fit_window(i):\n",
    "    segment = example[i:i+window_size]\n",
    "    return vac_of.fit(segment)\n",
    "\n",
    "\n",
    "ampl_arr = []\n",
    "chisq_arr = []\n",
    "for i in range(num_windows):\n",
    "    ampl = fit_window(i)\n",
    "    ampl_arr.append(ampl)\n",
    "ampl_arr = np.array(ampl_arr)\n"
   ]
  },
  {
   "cell_type": "code",
   "execution_count": 14,
   "id": "e39f76e3",
   "metadata": {},
   "outputs": [],
   "source": [
    "import numpy as np\n",
    "\n",
    "# Parameters\n",
    "window_size = 32768\n",
    "num_traces = 9\n",
    "\n",
    "# Infer shape from the first trace\n",
    "trace_length = loaded_traces[0][0].shape[0]\n",
    "num_windows = trace_length - window_size + 1\n",
    "\n",
    "# Output array: (9 traces, num_windows per trace)\n",
    "all_ampl_arr = np.empty((num_traces, num_windows), dtype=np.float32)\n",
    "\n",
    "# Allocate a reusable buffer to hold each window\n",
    "window = np.empty(window_size, dtype=loaded_traces[0][0].dtype)\n",
    "\n",
    "# Loop over traces\n",
    "for trace_idx in range(num_traces):\n",
    "    trace = loaded_traces[trace_idx][0]  # 1D array\n",
    "\n",
    "    # Direct reference to row in output for speed\n",
    "    ampl_arr = all_ampl_arr[trace_idx]\n",
    "\n",
    "    # Slide window across trace\n",
    "    for i in range(num_windows):\n",
    "        # Copy segment to buffer instead of slicing\n",
    "        window[:] = trace[i:i+window_size]\n",
    "        ampl_arr[i] = vac_of.fit(window)\n"
   ]
  },
  {
   "cell_type": "code",
   "execution_count": 17,
   "id": "0c5d8029",
   "metadata": {},
   "outputs": [
    {
     "data": {
      "text/plain": [
       "(9, 217233)"
      ]
     },
     "execution_count": 17,
     "metadata": {},
     "output_type": "execute_result"
    }
   ],
   "source": [
    "all_ampl_arr.shape"
   ]
  },
  {
   "cell_type": "code",
   "execution_count": null,
   "id": "c8a44ba0",
   "metadata": {},
   "outputs": [],
   "source": []
  }
 ],
 "metadata": {
  "kernelspec": {
   "display_name": "base",
   "language": "python",
   "name": "python3"
  },
  "language_info": {
   "codemirror_mode": {
    "name": "ipython",
    "version": 3
   },
   "file_extension": ".py",
   "mimetype": "text/x-python",
   "name": "python",
   "nbconvert_exporter": "python",
   "pygments_lexer": "ipython3",
   "version": "3.12.7"
  }
 },
 "nbformat": 4,
 "nbformat_minor": 5
}
