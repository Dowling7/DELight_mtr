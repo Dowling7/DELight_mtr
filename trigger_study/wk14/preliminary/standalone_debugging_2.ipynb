{
 "cells": [
  {
   "cell_type": "code",
   "execution_count": 2,
   "id": "9bffee52",
   "metadata": {},
   "outputs": [],
   "source": [
    "import yaml\n",
    "import numpy as np\n",
    "from TraceSimulator import LongTraceSimulator\n",
    "import matplotlib.pyplot as plt\n",
    "from scipy.fft import fft, ifft\n",
    "from scipy.signal import fftconvolve\n",
    "\n",
    "\n",
    "def read_yaml_to_dict(file_path):\n",
    "    with open(file_path, 'r') as file:\n",
    "        config_dict = yaml.safe_load(file)\n",
    "    return config_dict\n",
    "\n",
    "config = read_yaml_to_dict('/home/dwong/DELight_mtr/trigger_study/archive/wk11/config.yaml')\n",
    "lts = LongTraceSimulator(config)\n",
    "\n",
    "\n",
    "sampling_frequency = 3906250\n",
    "vac_template = np.load(\"templates/vac_ch_template.npy\")\n",
    "template = np.load(\"templates/sub_ch_template.npy\")\n",
    "noise_psd = np.load(\"../../templates/noise_psd_from_MMC.npy\")\n",
    "length = len(template)\n",
    "\n",
    "if length%2==0:\n",
    "    noise_psd_unfolded = np.concatenate(([np.inf],\n",
    "                                                noise_psd[1:-1]/2,\n",
    "                                                [noise_psd[-1]],\n",
    "                                                noise_psd[-2:0:-1]/2))\n",
    "else:\n",
    "    noise_psd_unfolded = np.concatenate(([np.inf],\n",
    "                                                noise_psd[1:]/2,\n",
    "                                                noise_psd[-1:0:-1]/2))\n",
    "    \n",
    "template_fft = fft(template)/sampling_frequency\n",
    "\n",
    "kernel_fft = template_fft.conjugate() / noise_psd_unfolded\n",
    "kernel_normalization = np.real(np.dot(kernel_fft, template_fft))*sampling_frequency/3276800\n",
    "filter_kernel = kernel_fft / kernel_normalization\n",
    "kernel_td = np.real(ifft(filter_kernel)) * sampling_frequency\n"
   ]
  },
  {
   "cell_type": "code",
   "execution_count": 3,
   "id": "a505d99f",
   "metadata": {},
   "outputs": [],
   "source": [
    "trace, idx= lts.generate(\n",
    "            E=70000,\n",
    "            x=-94, y=0, z=-1800,\n",
    "            no_noise=False,\n",
    "            type_recoil='NR',\n",
    "            quantize=True,\n",
    "            phonon_only=False\n",
    "        )\n",
    "trace = trace[0]"
   ]
  },
  {
   "cell_type": "code",
   "execution_count": 7,
   "id": "7bb6d680",
   "metadata": {},
   "outputs": [
    {
     "name": "stdout",
     "output_type": "stream",
     "text": [
      "715293\n",
      "732444\n"
     ]
    },
    {
     "data": {
      "image/png": "[encoded data removed]",
      "text/plain": [
       "<Figure size 640x480 with 1 Axes>"
      ]
     },
     "metadata": {},
     "output_type": "display_data"
    }
   ],
   "source": [
    "filtered_trace = fftconvolve(trace[7], kernel_td[::-1], mode='valid')\n",
    "plt.plot(filtered_trace)\n",
    "print(np.argmax(filtered_trace))\n",
    "print(idx)"
   ]
  },
  {
   "cell_type": "code",
   "execution_count": 5,
   "id": "054ee4fe",
   "metadata": {},
   "outputs": [],
   "source": [
    "example = trace[7][idx:idx+32768]\n",
    "\n",
    "allowed_shift_range=None\n",
    "\n",
    "trace_fft = fft(example, axis=-1)/sampling_frequency # V\n",
    "trace_filtered = filter_kernel * trace_fft\n",
    "trace_filtered_td = np.real(\n",
    "    ifft(trace_filtered, axis=-1)\n",
    ") * sampling_frequency\n",
    "\n",
    "chi0 = np.real((trace_fft.conj() * trace_fft / noise_psd_unfolded).sum()) * sampling_frequency / length\n",
    "chit_withdelay = (trace_filtered_td ** 2) * kernel_normalization\n",
    "chi = chi0 - chit_withdelay\n",
    "\n",
    "if allowed_shift_range is None:\n",
    "    ind = np.arange(len(chi))\n",
    "else:\n",
    "    ind = np.concatenate((np.arange(length+allowed_shift_range[0], length),\n",
    "                            np.arange(allowed_shift_range[1]+1)))\n",
    "\n",
    "best_ind = ind[np.argmin(chi[ind], axis=-1)]\n",
    "\n",
    "amp = trace_filtered_td[best_ind]\n",
    "chisq = chi[best_ind]/(length-3)\n",
    "t0 = best_ind if best_ind<length//2 else best_ind-length\n",
    "        \n"
   ]
  },
  {
   "cell_type": "code",
   "execution_count": 29,
   "id": "24db521b",
   "metadata": {},
   "outputs": [
    {
     "data": {
      "text/plain": [
       "227.84763616413446"
      ]
     },
     "execution_count": 29,
     "metadata": {},
     "output_type": "execute_result"
    }
   ],
   "source": [
    "amp"
   ]
  },
  {
   "cell_type": "code",
   "execution_count": 7,
   "id": "2838be1a",
   "metadata": {},
   "outputs": [],
   "source": [
    "example = trace[7]"
   ]
  },
  {
   "cell_type": "code",
   "execution_count": 36,
   "id": "5956662d",
   "metadata": {},
   "outputs": [
    {
     "data": {
      "text/plain": [
       "500276"
      ]
     },
     "execution_count": 36,
     "metadata": {},
     "output_type": "execute_result"
    }
   ],
   "source": [
    "\n",
    "idx"
   ]
  },
  {
   "cell_type": "code",
   "execution_count": 12,
   "id": "43020193",
   "metadata": {},
   "outputs": [],
   "source": [
    "kernel_normalization = np.real(np.dot(kernel_fft, template_fft)) * sampling_frequency / 3276800\n"
   ]
  },
  {
   "cell_type": "code",
   "execution_count": 8,
   "id": "7caf222e",
   "metadata": {},
   "outputs": [],
   "source": [
    "def center_of_mass(template, use_abs=False):\n",
    "    if use_abs:\n",
    "        weights = np.abs(template)\n",
    "    else:\n",
    "        weights = template\n",
    "\n",
    "    indices = np.arange(len(template))\n",
    "    return np.sum(indices * weights) / np.sum(weights)\n",
    "com = center_of_mass(template)"
   ]
  },
  {
   "cell_type": "code",
   "execution_count": 9,
   "id": "413f5b8b",
   "metadata": {},
   "outputs": [
    {
     "data": {
      "text/plain": [
       "12239.352775760633"
      ]
     },
     "execution_count": 9,
     "metadata": {},
     "output_type": "execute_result"
    }
   ],
   "source": [
    "com"
   ]
  },
  {
   "cell_type": "code",
   "execution_count": 10,
   "id": "37dcbad1",
   "metadata": {},
   "outputs": [
    {
     "name": "stdout",
     "output_type": "stream",
     "text": [
      "True\n"
     ]
    }
   ],
   "source": [
    "import numpy as np\n",
    "\n",
    "x = np.array([1, 2, 3])\n",
    "h = np.array([4, 5])\n",
    "N = len(x) + len(h) - 1\n",
    "\n",
    "# Time-domain convolution\n",
    "y_time = np.convolve(x, h)\n",
    "\n",
    "# Frequency-domain convolution\n",
    "x_padded = np.pad(x, (0, N - len(x)))\n",
    "h_padded = np.pad(h, (0, N - len(h)))\n",
    "y_fft = np.fft.ifft(np.fft.fft(x_padded) * np.fft.fft(h_padded)).real\n",
    "\n",
    "print(np.allclose(y_time, y_fft))  # ✅ True\n"
   ]
  },
  {
   "cell_type": "code",
   "execution_count": null,
   "id": "0eee98a9",
   "metadata": {},
   "outputs": [],
   "source": []
  }
 ],
 "metadata": {
  "kernelspec": {
   "display_name": "base",
   "language": "python",
   "name": "python3"
  },
  "language_info": {
   "codemirror_mode": {
    "name": "ipython",
    "version": 3
   },
   "file_extension": ".py",
   "mimetype": "text/x-python",
   "name": "python",
   "nbconvert_exporter": "python",
   "pygments_lexer": "ipython3",
   "version": "3.12.7"
  }
 },
 "nbformat": 4,
 "nbformat_minor": 5
}
