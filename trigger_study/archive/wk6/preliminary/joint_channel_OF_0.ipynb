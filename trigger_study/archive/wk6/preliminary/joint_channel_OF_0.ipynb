{
 "cells": [
  {
   "cell_type": "code",
   "execution_count": 2,
   "id": "b1c03912",
   "metadata": {},
   "outputs": [],
   "source": [
    "import numpy as np\n",
    "import scipy.fft as sp_fft\n",
    "\n",
    "class JointChannelOF:\n",
    "\n",
    "    def __init__(self, templates, noise_psds, sampling_frequency):\n",
    "        \"\"\"\n",
    "        templates: list of 1D numpy arrays, one per channel\n",
    "        noise_psds: list of 1D numpy arrays, one per channel\n",
    "        \"\"\"\n",
    "        self._sampling_frequency = sampling_frequency\n",
    "        self._n_channels = len(templates)\n",
    "        self._length = len(templates[0])\n",
    "\n",
    "        self.set_templates(templates)\n",
    "        self.set_noise_psds(noise_psds)\n",
    "\n",
    "    def set_templates(self, templates):\n",
    "        self._templates = templates\n",
    "        self._template_ffts = [sp_fft.rfft(tpl) / self._sampling_frequency for tpl in templates]\n",
    "        self._update_kernels()\n",
    "\n",
    "    def set_noise_psds(self, noise_psds):\n",
    "        self._noise_psds = noise_psds\n",
    "\n",
    "        self._inv_psds = []\n",
    "        for psd in noise_psds:\n",
    "            inv_psd = np.zeros_like(psd)\n",
    "            inv_psd[1:] = 1.0 / (psd[1:] + 1e-30)\n",
    "            if self._length % 2 == 0:\n",
    "                inv_psd[-1] = 1.0 / (psd[-1] + 1e-30)\n",
    "            inv_psd[0] = 0.0\n",
    "            self._inv_psds.append(inv_psd)\n",
    "\n",
    "        self._update_kernels()\n",
    "\n",
    "    def _update_kernels(self):\n",
    "        if hasattr(self, '_template_ffts') and hasattr(self, '_inv_psds'):\n",
    "            self._kernels = []\n",
    "            norms = []\n",
    "            for tpl_fft, inv_psd in zip(self._template_ffts, self._inv_psds):\n",
    "                kernel = tpl_fft.conjugate() * inv_psd\n",
    "                norm = np.real(np.sum(kernel * tpl_fft)) * self._sampling_frequency / self._length\n",
    "                self._kernels.append(kernel)\n",
    "                norms.append(norm)\n",
    "\n",
    "            self._kernel_normalization = np.sum(norms)\n",
    "\n",
    "    def fit_with_shift(self, traces, allowed_shift_range=[-2000, 2000]):\n",
    "        \"\"\"\n",
    "        traces: list of 1D numpy arrays, one per channel\n",
    "        \"\"\"\n",
    "        filtered_traces_fft = []\n",
    "        trace_ffts = []\n",
    "        chisq0_total = 0.0\n",
    "\n",
    "        for trace, kernel, norm, inv_psd in zip(\n",
    "            traces, self._kernels,\n",
    "            [np.real(np.sum(k * t)) * self._sampling_frequency / self._length for k, t in zip(self._kernels, self._template_ffts)],\n",
    "            self._inv_psds\n",
    "        ):\n",
    "            tr_fft = sp_fft.rfft(trace) / self._sampling_frequency\n",
    "            trace_ffts.append(tr_fft)\n",
    "            filtered = kernel * tr_fft / norm\n",
    "            filtered_traces_fft.append(filtered)\n",
    "\n",
    "            chisq0 = np.real(np.vdot(tr_fft, tr_fft * inv_psd)) * self._sampling_frequency / self._length\n",
    "            chisq0_total += chisq0\n",
    "\n",
    "        # Sum of inverse FFTs of all channels => joint A(t0)\n",
    "        amp_series = 0.5 * sum(sp_fft.irfft(filt) * self._sampling_frequency for filt in filtered_traces_fft)\n",
    "\n",
    "        chisq_series = chisq0_total - amp_series**2 * self._kernel_normalization\n",
    "\n",
    "        if allowed_shift_range is None:\n",
    "            ind = np.arange(len(chisq_series))\n",
    "        else:\n",
    "            start = (self._length + allowed_shift_range[0]) % self._length\n",
    "            stop = (allowed_shift_range[1] + 1) % self._length\n",
    "            if start < stop:\n",
    "                ind = np.arange(start, stop)\n",
    "            else:\n",
    "                ind = np.concatenate((np.arange(start, self._length), np.arange(0, stop)))\n",
    "\n",
    "        best_ind = ind[np.argmin(chisq_series[ind])]\n",
    "        amp = amp_series[best_ind]\n",
    "        chisq = chisq_series[best_ind] / (self._length - 3)\n",
    "        t0 = best_ind if best_ind < self._length // 2 else best_ind - self._length\n",
    "\n",
    "        return amp, chisq, t0\n"
   ]
  },
  {
   "cell_type": "code",
   "execution_count": 1,
   "id": "8c635a94",
   "metadata": {},
   "outputs": [],
   "source": [
    "import yaml\n",
    "import numpy as np\n",
    "import zstandard as zstd\n",
    "import os\n",
    "from TraceSimulator import TraceSimulator\n",
    "from trace_IO import *\n",
    "from OF_trigger import *\n",
    "\n",
    "import matplotlib.pyplot as plt\n",
    "\n",
    "def plot_trace_set(trace_set, offset=50):\n",
    "    \"\"\"\n",
    "    Plot a single trace set (shape: 54 x N) with vertical offsets.\n",
    "\n",
    "    Parameters:\n",
    "    - trace_set: ndarray, shape (54, N)\n",
    "    - offset: float, vertical offset between channels\n",
    "    \"\"\"\n",
    "    n_channels, n_samples = trace_set.shape\n",
    "\n",
    "    for i in range(n_channels):\n",
    "        color = 'r' if i > 44 else 'b'\n",
    "        plt.plot(np.arange(n_samples), trace_set[i] + i * offset, color=color, lw=0.2)\n",
    "\n",
    "    plt.xlabel(\"Sample Index\")\n",
    "    plt.yticks([])\n",
    "    plt.ylim(-10, offset * n_channels)\n",
    "    plt.title(\"Trace Set\")\n",
    "    plt.grid(False)\n",
    "    plt.tight_layout()\n",
    "    plt.show()\n",
    "\n",
    "def read_yaml_to_dict(file_path):\n",
    "    with open(file_path, 'r') as file:\n",
    "        config_dict = yaml.safe_load(file)\n",
    "    return config_dict\n",
    "\n",
    "config = read_yaml_to_dict('../archive/config.yaml')\n",
    "ts = TraceSimulator(config)"
   ]
  },
  {
   "cell_type": "code",
   "execution_count": null,
   "id": "c197dc12",
   "metadata": {},
   "outputs": [],
   "source": [
    "trace = ts.generate(E=1000, x=-40, y=80, z=-1800, no_noise=False, type_recoil='NR', quantize=True, phonon_only=True)\n",
    "plot_trace_set(trace[0])"
   ]
  },
  {
   "cell_type": "code",
   "execution_count": 64,
   "id": "4cce48c0",
   "metadata": {},
   "outputs": [
    {
     "name": "stdout",
     "output_type": "stream",
     "text": [
      "UV template Amplitude: 92.3330, Chi²: 1.2601, t₀: 1999 samples\n"
     ]
    }
   ],
   "source": [
    "fs = 3906250\n",
    "template = np.load(\"../templates/template_K_alpha_no_baseline.npy\")\n",
    "noise_psd = np.load(\"../templates/noise_psd_from_MMC.npy\")\n",
    "\n",
    "# 1. Extract 9 vacuum channels\n",
    "trace_vacuum = trace[0][45:]  # shape: (9, 32768)\n",
    "\n",
    "# 2. Prepare replicated template and PSD\n",
    "templates = [template] * 9     # template: 1D array, e.g., (32768,)\n",
    "psds = [noise_psd] * 9         # noise_psd: 1D array, e.g., (16385,)\n",
    "\n",
    "# 3. Initialize JointChannelOF\n",
    "of = JointChannelOF(templates=templates, noise_psds=psds, sampling_frequency=fs)\n",
    "\n",
    "# 4. Fit trace\n",
    "amp, chisq, t0 = of.fit_with_shift(trace_vacuum)\n",
    "print(f\"UV template Amplitude: {amp:.4f}, Chi²: {chisq:.4f}, t₀: {t0} samples\")\n"
   ]
  },
  {
   "cell_type": "code",
   "execution_count": 65,
   "id": "aa711ada",
   "metadata": {},
   "outputs": [
    {
     "name": "stdout",
     "output_type": "stream",
     "text": [
      "QP Amplitude: -73.8852, Chi²: 1.6495, t₀: -2000 samples\n"
     ]
    }
   ],
   "source": [
    "fs = 3906250\n",
    "template = np.load(\"../templates/template_qp_toy.npy\")\n",
    "noise_psd = np.load(\"../templates/noise_psd_from_MMC.npy\")\n",
    "\n",
    "# 1. Extract 9 vacuum channels\n",
    "trace_vacuum = trace[0][45:]  # shape: (9, 32768)\n",
    "\n",
    "# 2. Prepare replicated template and PSD\n",
    "templates = [template] * 9     # template: 1D array, e.g., (32768,)\n",
    "psds = [noise_psd] * 9         # noise_psd: 1D array, e.g., (16385,)\n",
    "\n",
    "# 3. Initialize JointChannelOF\n",
    "of = JointChannelOF(templates=templates, noise_psds=psds, sampling_frequency=fs)\n",
    "\n",
    "# 4. Fit trace\n",
    "amp, chisq, t0 = of.fit_with_shift(trace_vacuum)\n",
    "print(f\"QP Amplitude: {amp:.4f}, Chi²: {chisq:.4f}, t₀: {t0} samples\")\n"
   ]
  },
  {
   "cell_type": "code",
   "execution_count": 71,
   "id": "ebed75d3",
   "metadata": {},
   "outputs": [],
   "source": [
    "\n",
    "sampling_frequency = 3906250\n",
    "template = np.load(\"../templates/template_qp_toy.npy\")\n",
    "noise_psd = np.load(\"../templates/noise_psd_from_MMC.npy\")\n",
    "\n",
    "# Initialize Optimum Filter\n",
    "trigger = OFtrigger(template, noise_psd, sampling_frequency)"
   ]
  },
  {
   "cell_type": "code",
   "execution_count": 72,
   "id": "b7781d52",
   "metadata": {},
   "outputs": [
    {
     "name": "stdout",
     "output_type": "stream",
     "text": [
      "Trace 45: Amplitude = 15.1586, Chi2 = 0.2396, t0 = 1687.0000\n",
      "Trace 46: Amplitude = -29.9525, Chi2 = 0.2741, t0 = -2000.0000\n",
      "Trace 47: Amplitude = -18.2251, Chi2 = 0.2535, t0 = -2000.0000\n",
      "Trace 48: Amplitude = 4.2518, Chi2 = 0.2299, t0 = 1945.0000\n",
      "Trace 49: Amplitude = -2.9934, Chi2 = 0.2222, t0 = -1942.0000\n",
      "Trace 50: Amplitude = -1.0230, Chi2 = 0.2202, t0 = -2000.0000\n",
      "Trace 51: Amplitude = -3.0948, Chi2 = 0.2213, t0 = -1957.0000\n",
      "Trace 52: Amplitude = -2.9016, Chi2 = 0.2239, t0 = -1370.0000\n",
      "Trace 53: Amplitude = -6.7726, Chi2 = 0.2392, t0 = -1921.0000\n"
     ]
    }
   ],
   "source": [
    "# Initialize lists to hold fit results\n",
    "amplitudes = []\n",
    "chi2s = []\n",
    "t0s = []\n",
    "\n",
    "# Loop over all 54 channels\n",
    "for i in range(45, 54):\n",
    "    ampl, chi2, t0 = trigger.fit_with_shift(trace[0][i])\n",
    "    amplitudes.append(ampl)\n",
    "    chi2s.append(chi2)\n",
    "    t0s.append(t0)\n",
    "    print(f\"Trace {i}: Amplitude = {ampl:.4f}, Chi2 = {chi2:.4f}, t0 = {t0:.4f}\")\n",
    "\n",
    "# Optionally convert to NumPy arrays\n",
    "import numpy as np\n",
    "amplitudes = np.array(amplitudes)\n",
    "chi2s = np.array(chi2s)\n",
    "t0s = np.array(t0s)\n"
   ]
  },
  {
   "cell_type": "code",
   "execution_count": 73,
   "id": "1a60d8f7",
   "metadata": {},
   "outputs": [
    {
     "data": {
      "text/plain": [
       "[<matplotlib.lines.Line2D at 0x7fb15f5a6300>]"
      ]
     },
     "execution_count": 73,
     "metadata": {},
     "output_type": "execute_result"
    },
    {
     "data": {
      "image/png": "[encoded data removed]",
      "text/plain": [
       "<Figure size 640x480 with 1 Axes>"
      ]
     },
     "metadata": {},
     "output_type": "display_data"
    }
   ],
   "source": [
    "plt.plot(trace[0][46])"
   ]
  },
  {
   "cell_type": "code",
   "execution_count": null,
   "id": "868440b7",
   "metadata": {},
   "outputs": [],
   "source": []
  }
 ],
 "metadata": {
  "kernelspec": {
   "display_name": "base",
   "language": "python",
   "name": "python3"
  },
  "language_info": {
   "codemirror_mode": {
    "name": "ipython",
    "version": 3
   },
   "file_extension": ".py",
   "mimetype": "text/x-python",
   "name": "python",
   "nbconvert_exporter": "python",
   "pygments_lexer": "ipython3",
   "version": "3.12.7"
  }
 },
 "nbformat": 4,
 "nbformat_minor": 5
}
