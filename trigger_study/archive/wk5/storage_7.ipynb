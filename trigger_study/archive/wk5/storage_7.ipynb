{
 "cells": [
  {
   "cell_type": "code",
   "execution_count": 2,
   "id": "9d71864d",
   "metadata": {},
   "outputs": [],
   "source": [
    "import yaml\n",
    "import numpy as np\n",
    "import zstandard as zstd\n",
    "import os\n",
    "from TraceSimulator import TraceSimulator\n",
    "from trace_IO import *\n",
    "\n",
    "def read_yaml_to_dict(file_path):\n",
    "    with open(file_path, 'r') as file:\n",
    "        config_dict = yaml.safe_load(file)\n",
    "    return config_dict\n",
    "\n",
    "config = read_yaml_to_dict('../config.yaml')\n",
    "ts = TraceSimulator(config)"
   ]
  },
  {
   "cell_type": "code",
   "execution_count": 3,
   "id": "6101a340",
   "metadata": {},
   "outputs": [],
   "source": [
    "energy = 0\n",
    "n_sets = 1000\n",
    "all_traces = []\n",
    "for _ in range(n_sets):\n",
    "    trace = ts.generate(E=energy, x=-40, y=80, z=-1800, no_noise=False, type_recoil='ER', quantize=True, phonon_only=False)\n",
    "    \n",
    "    all_traces.append(np.asarray(trace[0], dtype=np.float16))\n",
    "\n",
    "save_traces_to_zstd(all_traces, f\"/ceph/dwong/trigger_samplesMMC_noise_1000.zst\")\n",
    "\n"
   ]
  },
  {
   "cell_type": "code",
   "execution_count": 4,
   "id": "dd9a8a67",
   "metadata": {},
   "outputs": [],
   "source": [
    "loaded_traces = load_traces_from_zstd(f\"/ceph/dwong/trigger_samples/NR/traces_energy_{energy}.zst\", n_traces=n_sets)"
   ]
  },
  {
   "cell_type": "code",
   "execution_count": null,
   "id": "841326d7",
   "metadata": {},
   "outputs": [],
   "source": []
  },
  {
   "cell_type": "code",
   "execution_count": null,
   "id": "1951b65d",
   "metadata": {},
   "outputs": [
    {
     "name": "stderr",
     "output_type": "stream",
     "text": [
      "Generating Traces:  33%|███▎      | 10/30 [07:10<03:03,  9.18s/it]  "
     ]
    }
   ],
   "source": [
    "import numpy as np\n",
    "import threading\n",
    "from concurrent.futures import ThreadPoolExecutor, as_completed\n",
    "from pathlib import Path\n",
    "from tqdm import tqdm\n",
    "\n",
    "# Placeholder for the trace generation and saving functions\n",
    "# Assume ts.generate and save_traces_to_zstd are already defined\n",
    "\n",
    "def generate_and_save_traces(energy):\n",
    "    all_traces = []\n",
    "    n_sets = 200\n",
    "    for _ in range(n_sets):\n",
    "        trace = ts.generate(E=energy, x=-40, y=80, z=-1800,\n",
    "                            no_noise=False, type_recoil='ER',\n",
    "                            quantize=True, phonon_only=False)\n",
    "        all_traces.append(np.asarray(trace[0], dtype=np.float16))\n",
    "\n",
    "    output_path = Path(f\"/ceph/dwong/trigger_samples/test0/traces_energy_{energy}.zst\")\n",
    "    save_traces_to_zstd(all_traces, output_path)\n",
    "\n",
    "\n",
    "def main():\n",
    "    energy_values = list(range(5, 151, 5))\n",
    "    max_threads = 10\n",
    "\n",
    "    with ThreadPoolExecutor(max_workers=max_threads) as executor:\n",
    "        futures = {executor.submit(generate_and_save_traces, energy): energy for energy in energy_values}\n",
    "        for _ in tqdm(as_completed(futures), total=len(futures), desc=\"Generating Traces\"):\n",
    "            pass\n",
    "\n",
    "\n",
    "if __name__ == \"__main__\":\n",
    "    main()\n"
   ]
  },
  {
   "cell_type": "code",
   "execution_count": null,
   "id": "f297e8f4",
   "metadata": {},
   "outputs": [],
   "source": [
    "plot_trace_set(trace_set)"
   ]
  },
  {
   "cell_type": "code",
   "execution_count": null,
   "id": "d0fbe774",
   "metadata": {},
   "outputs": [],
   "source": []
  },
  {
   "cell_type": "code",
   "execution_count": null,
   "id": "a0e13940",
   "metadata": {},
   "outputs": [],
   "source": []
  }
 ],
 "metadata": {
  "kernelspec": {
   "display_name": "base",
   "language": "python",
   "name": "python3"
  },
  "language_info": {
   "codemirror_mode": {
    "name": "ipython",
    "version": 3
   },
   "file_extension": ".py",
   "mimetype": "text/x-python",
   "name": "python",
   "nbconvert_exporter": "python",
   "pygments_lexer": "ipython3",
   "version": "3.12.7"
  }
 },
 "nbformat": 4,
 "nbformat_minor": 5
}
