{
 "cells": [
  {
   "cell_type": "code",
   "execution_count": 1,
   "id": "a60036b0",
   "metadata": {},
   "outputs": [],
   "source": [
    "import numpy as np\n",
    "from trace_IO import *\n",
    "from TraceSimulator import TraceSimulator\n",
    "import matplotlib.pyplot as plt\n",
    "from OptimumFilter import *\n"
   ]
  },
  {
   "cell_type": "code",
   "execution_count": 2,
   "id": "097e3e1b",
   "metadata": {},
   "outputs": [],
   "source": [
    "# Assumptions\n",
    "sampling_frequency = 3906250  # Hz\n",
    "dt_ms = 1e3 / sampling_frequency  # Time step in ms\n",
    "time_axis = np.arange(32768) * dt_ms  # Assuming traces have length 32768\n",
    "\n",
    "# Load template and all PSDs\n",
    "template = np.load(\"./sub_ch_template.npy\")\n",
    "mmc_psd = np.load(\"../../templates/noise_psd_from_MMC.npy\")"
   ]
  },
  {
   "cell_type": "code",
   "execution_count": 6,
   "id": "0b9d0b4e",
   "metadata": {},
   "outputs": [],
   "source": [
    "traces = load_traces_from_zstd(\"/ceph/dwong/trigger_samples/MMC_noise_no_quantize.zst\", n_traces=1000)"
   ]
  },
  {
   "cell_type": "code",
   "execution_count": 7,
   "id": "0819da24",
   "metadata": {},
   "outputs": [],
   "source": [
    "mmc_trigger = OptimumFilter(template, mmc_psd, sampling_frequency)"
   ]
  },
  {
   "cell_type": "code",
   "execution_count": 11,
   "id": "4a30078d",
   "metadata": {},
   "outputs": [],
   "source": [
    "n_batches, n_channels, _ = traces.shape\n",
    "ampls = np.zeros((n_batches, n_channels))\n",
    "chisqs = np.zeros((n_batches, n_channels))\n",
    "\n",
    "for i in range(n_batches):\n",
    "    for j in range(n_channels):\n",
    "        trace = traces[i, j]\n",
    "        result = mmc_trigger.fit(trace)\n",
    "        ampls[i, j], chisqs[i, j] = result[0], result[1]"
   ]
  },
  {
   "cell_type": "code",
   "execution_count": 12,
   "id": "85b03882",
   "metadata": {},
   "outputs": [
    {
     "data": {
      "text/plain": [
       "array([[0.99403696, 0.99401942, 0.99405955, ..., 0.99403286, 0.99407113,\n",
       "        0.99399612],\n",
       "       [0.99406054, 0.99407052, 0.99405682, ..., 0.99404638, 0.99405466,\n",
       "        0.99406905],\n",
       "       [0.99404328, 0.99404739, 0.99404038, ..., 0.99394916, 0.99397249,\n",
       "        0.99403862],\n",
       "       ...,\n",
       "       [0.99406425, 0.99392687, 0.99403509, ..., 0.99403325, 0.99405564,\n",
       "        0.99406088],\n",
       "       [0.99393229, 0.99407054, 0.99400944, ..., 0.99404496, 0.99406744,\n",
       "        0.99404195],\n",
       "       [0.99405353, 0.99402802, 0.99394625, ..., 0.99379459, 0.99405287,\n",
       "        0.99403232]])"
      ]
     },
     "execution_count": 12,
     "metadata": {},
     "output_type": "execute_result"
    }
   ],
   "source": [
    "chisqs"
   ]
  },
  {
   "cell_type": "code",
   "execution_count": null,
   "id": "25860c29",
   "metadata": {},
   "outputs": [],
   "source": []
  }
 ],
 "metadata": {
  "kernelspec": {
   "display_name": "base",
   "language": "python",
   "name": "python3"
  },
  "language_info": {
   "codemirror_mode": {
    "name": "ipython",
    "version": 3
   },
   "file_extension": ".py",
   "mimetype": "text/x-python",
   "name": "python",
   "nbconvert_exporter": "python",
   "pygments_lexer": "ipython3",
   "version": "3.12.7"
  }
 },
 "nbformat": 4,
 "nbformat_minor": 5
}
