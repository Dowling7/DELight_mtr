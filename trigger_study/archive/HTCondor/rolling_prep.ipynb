{
 "cells": [
  {
   "cell_type": "code",
   "execution_count": 2,
   "id": "b30199c0",
   "metadata": {},
   "outputs": [],
   "source": [
    "import numpy as np\n",
    "import matplotlib.pyplot as plt\n",
    "from trace_IO import *\n",
    "from OptimumFilter import *\n",
    "\n",
    "fs = 3906250\n",
    "sigma = 0.7674\n",
    "thresholds = [round(n * sigma, 4) for n in [3, 4, 5]]\n",
    "energy_values = list(range(5, 101, 5))\n",
    "pass_rates_by_threshold = {th: [] for th in thresholds}\n",
    "n_sets = 100\n",
    "\n",
    "# Load templates and noise PSD\n",
    "qp_template = np.load(\"/home/dwong/DELight_mtr/trigger_study/wk15/templates/vac_ch_template.npy\")\n",
    "noise_psd = np.load(\"/home/dwong/DELight_mtr/templates/noise_psd_from_MMC.npy\")\n",
    "\n",
    "vac_of = OptimumFilter(qp_template, noise_psd, fs)\n"
   ]
  },
  {
   "cell_type": "code",
   "execution_count": 2,
   "id": "5c18c4af",
   "metadata": {},
   "outputs": [],
   "source": [
    "energy = 5\n",
    "trace_path = f\"/ceph/dwong/trigger_samples/lts/traces_energy_{energy}.zst\"\n",
    "loaded_traces = load_traces_from_zstd(trace_path, n_traces=n_sets)\n",
    "example = loaded_traces[91][0][:32768]"
   ]
  },
  {
   "cell_type": "code",
   "execution_count": 3,
   "id": "f0de8fc6",
   "metadata": {},
   "outputs": [
    {
     "data": {
      "text/plain": [
       "numpy.float32"
      ]
     },
     "execution_count": 3,
     "metadata": {},
     "output_type": "execute_result"
    }
   ],
   "source": [
    "type(example[0])"
   ]
  },
  {
   "cell_type": "code",
   "execution_count": 4,
   "id": "c9718367",
   "metadata": {},
   "outputs": [
    {
     "name": "stdout",
     "output_type": "stream",
     "text": [
      "Time taken: 0.001729 seconds\n"
     ]
    }
   ],
   "source": [
    "import time\n",
    "\n",
    "start_time = time.time()\n",
    "ampl = vac_of.fit(example)\n",
    "end_time = time.time()\n",
    "\n",
    "elapsed_time = end_time - start_time\n",
    "print(f\"Time taken: {elapsed_time:.6f} seconds\")\n"
   ]
  },
  {
   "cell_type": "code",
   "execution_count": 2,
   "id": "360eebb7",
   "metadata": {},
   "outputs": [],
   "source": [
    "energy = 5\n",
    "trace_path = f\"/ceph/dwong/trigger_samples/lts/traces_energy_{energy}.zst\"\n",
    "loaded_traces = load_traces_from_zstd(trace_path, n_traces=n_sets)"
   ]
  },
  {
   "cell_type": "code",
   "execution_count": 4,
   "id": "0686a5db",
   "metadata": {},
   "outputs": [
    {
     "data": {
      "text/plain": [
       "(100, 9, 250000)"
      ]
     },
     "execution_count": 4,
     "metadata": {},
     "output_type": "execute_result"
    }
   ],
   "source": [
    "loaded_traces.shape"
   ]
  },
  {
   "cell_type": "code",
   "execution_count": 6,
   "id": "2d4b235a",
   "metadata": {},
   "outputs": [],
   "source": [
    "example = loaded_traces[91][0]\n",
    "\n",
    "window_size = 32768\n",
    "num_windows = len(example) - window_size + 1\n",
    "\n",
    "def fit_window(i):\n",
    "    segment = example[i:i+window_size]\n",
    "    return vac_of.fit(segment)\n",
    "\n",
    "\n",
    "ampl_arr = []\n",
    "chisq_arr = []\n",
    "for i in range(num_windows):\n",
    "    ampl = fit_window(i)\n",
    "    ampl_arr.append(ampl)\n",
    "ampl_arr = np.array(ampl_arr)\n"
   ]
  },
  {
   "cell_type": "code",
   "execution_count": 3,
   "id": "c8a44ba0",
   "metadata": {},
   "outputs": [
    {
     "name": "stdout",
     "output_type": "stream",
     "text": [
      "(100, 9, 250000)\n"
     ]
    },
    {
     "name": "stderr",
     "output_type": "stream",
     "text": [
      "Processing Energy 0 (100 Traces): 100%|██████████| 100/100 [00:00<00:00, 3991.88it/s]\n"
     ]
    }
   ],
   "source": [
    "import numpy as np\n",
    "from joblib import Parallel, delayed\n",
    "from tqdm import tqdm\n",
    "from pathlib import Path\n",
    "import multiprocessing\n",
    "\n",
    "from trace_IO import *\n",
    "from OptimumFilter import *\n",
    "# ----------------------\n",
    "# Constants & Parameters\n",
    "# ----------------------\n",
    "energy = 0\n",
    "n_sets = 100\n",
    "window_size = 32768\n",
    "num_traces = 9\n",
    "trace_length = 250_000\n",
    "num_windows = trace_length - window_size + 1\n",
    "\n",
    "trace_path = f\"/ceph/dwong/trigger_samples/lts/traces_energy_{energy}.zst\"\n",
    "output_path = Path(f\"/ceph/dwong/trigger_samples/lts/ampl_energy_{energy}.zst\")\n",
    "\n",
    "template_path = \"/home/dwong/DELight_mtr/trigger_study/wk15/templates/vac_ch_template.npy\"\n",
    "noise_psd_path = \"/home/dwong/DELight_mtr/templates/noise_psd_from_MMC.npy\"\n",
    "fs = 3906250\n",
    "\n",
    "# ----------------------\n",
    "# Load template and PSD once\n",
    "# ----------------------\n",
    "template = np.load(template_path)\n",
    "noise_psd = np.load(noise_psd_path)\n",
    "\n",
    "# ----------------------\n",
    "# Process function (1 repeat = 9 traces)\n",
    "# ----------------------\n",
    "def process_one_repeat(traces, template, noise_psd, fs):\n",
    "    vac = OptimumFilter(template, noise_psd, fs)\n",
    "    result = np.empty((num_traces, num_windows), dtype=np.float32)\n",
    "    window = np.empty(window_size, dtype=traces.dtype)\n",
    "\n",
    "    for ch in range(num_traces):\n",
    "        trace = traces[ch]\n",
    "        ampl_arr = result[ch]\n",
    "        for i in range(num_windows):\n",
    "            window[:] = trace[i:i+window_size]\n",
    "            ampl_arr[i] = vac.fit(window)\n",
    "\n",
    "    return result\n",
    "\n",
    "# ----------------------\n",
    "# Main\n",
    "# ----------------------\n",
    "def main():\n",
    "    # Load traces from file\n",
    "    loaded_traces = load_traces_from_zstd(trace_path, n_traces=n_sets)  # shape: (100, 9, 250000)\n",
    "    print(loaded_traces.shape)\n",
    "    assert loaded_traces.shape == (n_sets, num_traces, trace_length), \"Trace shape mismatch\"\n",
    "\n",
    "    # Use all available CPU cores\n",
    "    n_jobs = multiprocessing.cpu_count()-2\n",
    "\n",
    "    # Parallel amplitude extraction\n",
    "    all_ampls = Parallel(n_jobs=n_jobs, backend=\"loky\")(\n",
    "        delayed(process_one_repeat)(loaded_traces[i], template, noise_psd, fs)\n",
    "        for i in tqdm(range(n_sets), desc=f\"Processing Energy {energy} ({n_sets} Traces)\")\n",
    "    )\n",
    "\n",
    "    # Save results\n",
    "    save_ampl_to_zstd(all_ampls, output_path)\n",
    "\n",
    "if __name__ == \"__main__\":\n",
    "    main()\n"
   ]
  },
  {
   "cell_type": "code",
   "execution_count": null,
   "id": "91d62ead",
   "metadata": {},
   "outputs": [],
   "source": []
  }
 ],
 "metadata": {
  "kernelspec": {
   "display_name": "base",
   "language": "python",
   "name": "python3"
  },
  "language_info": {
   "codemirror_mode": {
    "name": "ipython",
    "version": 3
   },
   "file_extension": ".py",
   "mimetype": "text/x-python",
   "name": "python",
   "nbconvert_exporter": "python",
   "pygments_lexer": "ipython3",
   "version": "3.12.7"
  }
 },
 "nbformat": 4,
 "nbformat_minor": 5
}
