{
 "cells": [
  {
   "cell_type": "code",
   "execution_count": 9,
   "id": "0cf8d8f5",
   "metadata": {},
   "outputs": [
    {
     "name": "stdout",
     "output_type": "stream",
     "text": [
      "OptimumFilter time (fit_with_shift): 4.2987s\n",
      "OFtrigger time (fit_with_shift): 2.0985s\n",
      "Speedup: 2.05x\n"
     ]
    }
   ],
   "source": [
    "import numpy as np\n",
    "import time\n",
    "from OF import OptimumFilter  # Replace with actual module path\n",
    "from OF_trigger import OFtrigger\n",
    "\n",
    "\n",
    "sampling_frequency = 3906250\n",
    "\n",
    "data = np.load(\"/ceph/dwong/delight/Ka_traces_1.npz\")\n",
    "\n",
    "template = np.load(\"../templates/template_K_alpha_tight.npy\")\n",
    "noise_psd = np.load(\"../templates/noise_psd_from_MMC.npy\")\n",
    "loaded_traces = data['data']\n",
    "data.close()\n",
    "\n",
    "# Ensure correct shape\n",
    "\n",
    "assert len(template) == loaded_traces.shape[1], \"Trace length must match template length\"\n",
    "\n",
    "# Benchmark function using fit_with_shift\n",
    "def benchmark_filter_with_shift(FilterClass, template, psd, sampling_frequency, traces):\n",
    "    of = FilterClass(template, psd, sampling_frequency)\n",
    "    start = time.time()\n",
    "    results = []\n",
    "    for i in range(traces.shape[0]):\n",
    "        results.append(of.fit(traces[i]))\n",
    "    elapsed = time.time() - start\n",
    "    return elapsed, results\n",
    "\n",
    "# Run benchmarks\n",
    "t_old, results_old = benchmark_filter_with_shift(OptimumFilter, template, noise_psd, sampling_frequency, loaded_traces)\n",
    "t_new, results_new = benchmark_filter_with_shift(OFtrigger, template, noise_psd, sampling_frequency, loaded_traces)\n",
    "print(f\"OptimumFilter time (fit_with_shift): {t_old:.4f}s\")\n",
    "print(f\"OFtrigger time (fit_with_shift): {t_new:.4f}s\")\n",
    "print(f\"Speedup: {t_old / t_new:.2f}x\")"
   ]
  },
  {
   "cell_type": "code",
   "execution_count": 5,
   "id": "ca756571",
   "metadata": {},
   "outputs": [
    {
     "data": {
      "text/plain": [
       "[(10414.42191904015, 1.030801645592369),\n",
       " (10405.665579890223, 0.9785365274571997),\n",
       " (10416.386487652877, 1.0108269016491889),\n",
       " (10411.39540220257, 0.9890808943602902),\n",
       " (10395.465460254754, 1.0254867881971248),\n",
       " (10414.140305288478, 0.9932377290421555),\n",
       " (10411.829155000516, 1.032540640745023),\n",
       " (10416.330759369554, 1.0021761522403765),\n",
       " (10415.423674732101, 1.0033656299552631),\n",
       " (10416.520771292313, 1.0048662332395768)]"
      ]
     },
     "execution_count": 5,
     "metadata": {},
     "output_type": "execute_result"
    }
   ],
   "source": [
    "results_old[10:20] "
   ]
  },
  {
   "cell_type": "code",
   "execution_count": 6,
   "id": "fd616caa",
   "metadata": {},
   "outputs": [
    {
     "data": {
      "text/plain": [
       "[(10414.421090248574, 0.2577644309104817),\n",
       " (10405.6662550171, 0.24467661264522758),\n",
       " (10416.386732229108, 0.2527123004807928),\n",
       " (10411.395212886395, 0.24727356397963912),\n",
       " (10395.465671545377, 0.2563758578990752),\n",
       " (10414.14057650647, 0.24831628806896788),\n",
       " (10411.829917958335, 0.2581894130602971),\n",
       " (10416.331222260222, 0.2505640080841584),\n",
       " (10415.422702388238, 0.25092952484588427),\n",
       " (10416.520472719629, 0.2512248667950818)]"
      ]
     },
     "execution_count": 6,
     "metadata": {},
     "output_type": "execute_result"
    }
   ],
   "source": [
    "results_new[10:20]"
   ]
  },
  {
   "cell_type": "code",
   "execution_count": 8,
   "id": "0e847aac",
   "metadata": {},
   "outputs": [
    {
     "data": {
      "text/plain": [
       "2182"
      ]
     },
     "execution_count": 8,
     "metadata": {},
     "output_type": "execute_result"
    }
   ],
   "source": [
    "len(results_new)"
   ]
  },
  {
   "cell_type": "code",
   "execution_count": null,
   "id": "a96dda8b",
   "metadata": {},
   "outputs": [],
   "source": []
  }
 ],
 "metadata": {
  "kernelspec": {
   "display_name": "Python (conda base)",
   "language": "python",
   "name": "base"
  },
  "language_info": {
   "codemirror_mode": {
    "name": "ipython",
    "version": 3
   },
   "file_extension": ".py",
   "mimetype": "text/x-python",
   "name": "python",
   "nbconvert_exporter": "python",
   "pygments_lexer": "ipython3",
   "version": "3.12.7"
  }
 },
 "nbformat": 4,
 "nbformat_minor": 5
}
