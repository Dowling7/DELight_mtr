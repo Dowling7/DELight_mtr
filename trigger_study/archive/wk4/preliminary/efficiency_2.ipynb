{
 "cells": [
  {
   "cell_type": "code",
   "execution_count": null,
   "id": "0cf8d8f5",
   "metadata": {},
   "outputs": [],
   "source": [
    "from trace_IO import *\n",
    "from OF_trigger import *\n",
    "from OF import OptimumFilter  # Replace with actual module path\n",
    "\n",
    "import matplotlib.pyplot as plt\n",
    "import numpy as np\n",
    "import time\n",
    "\n",
    "\n",
    "sampling_frequency = 3906250\n",
    "\n",
    "\n",
    "template = np.load(\"../templates/template_K_alpha_no_baseline.npy\")\n",
    "noise_psd = np.load(\"../templates/noise_psd_from_MMC.npy\")\n",
    "# Parameters\n",
    "\n",
    "# Initialize Optimum Filter\n",
    "trigger = OFtrigger(template, noise_psd, sampling_frequency)\n",
    "\n"
   ]
  },
  {
   "cell_type": "code",
   "execution_count": 2,
   "id": "5e57dc13",
   "metadata": {},
   "outputs": [],
   "source": [
    "import yaml\n",
    "import numpy as np\n",
    "import zstandard as zstd\n",
    "import os\n",
    "from TraceSimulator import TraceSimulator\n",
    "\n",
    "def read_yaml_to_dict(file_path):\n",
    "    with open(file_path, 'r') as file:\n",
    "        config_dict = yaml.safe_load(file)\n",
    "    return config_dict\n",
    "\n",
    "config = read_yaml_to_dict('../archive/config.yaml')\n",
    "ts = TraceSimulator(config)"
   ]
  },
  {
   "cell_type": "code",
   "execution_count": 9,
   "id": "7299eede",
   "metadata": {},
   "outputs": [],
   "source": [
    "trace = ts.generate(E=100, x=-40, y=80, z=-1800, no_noise=True, type_recoil='NR', quantize=True, phonon_only=False)"
   ]
  },
  {
   "cell_type": "code",
   "execution_count": 17,
   "id": "fa896432",
   "metadata": {},
   "outputs": [
    {
     "name": "stdout",
     "output_type": "stream",
     "text": [
      "Max values for each trace: 30\n"
     ]
    }
   ],
   "source": [
    "import numpy as np\n",
    "\n",
    "# Assuming `trace` is a NumPy array with shape (1, 54, 32768)\n",
    "# Remove the batch dimension (squeeze) and get the max value along the time axis (axis=1)\n",
    "max_values = np.max(trace.squeeze(0), axis=1)\n",
    "\n",
    "# Display the max values for each of the 54 traces\n",
    "print(\"Max values for each trace:\", max(max_values))\n",
    "\n"
   ]
  },
  {
   "cell_type": "code",
   "execution_count": 7,
   "id": "cb36f794",
   "metadata": {},
   "outputs": [],
   "source": [
    "import matplotlib.pyplot as plt\n",
    "\n",
    "def plot_trace_set(trace_set, offset=50):\n",
    "    \"\"\"\n",
    "    Plot a single trace set (shape: 54 x N) with vertical offsets.\n",
    "\n",
    "    Parameters:\n",
    "    - trace_set: ndarray, shape (54, N)\n",
    "    - offset: float, vertical offset between channels\n",
    "    \"\"\"\n",
    "    n_channels, n_samples = trace_set.shape\n",
    "\n",
    "    for i in range(n_channels):\n",
    "        color = 'r' if i > 44 else 'b'\n",
    "        plt.plot(np.arange(n_samples), trace_set[i] + i * offset, color=color, lw=0.2)\n",
    "\n",
    "    plt.xlabel(\"Sample Index\")\n",
    "    plt.yticks([])\n",
    "    plt.ylim(-10, offset * n_channels)\n",
    "    plt.title(\"Trace Set\")\n",
    "    plt.grid(False)\n",
    "    plt.tight_layout()\n",
    "    plt.show()\n"
   ]
  },
  {
   "cell_type": "code",
   "execution_count": 11,
   "id": "588dbf4d",
   "metadata": {},
   "outputs": [],
   "source": [
    "float16_trace = np.asarray(trace, dtype=np.float16)"
   ]
  },
  {
   "cell_type": "code",
   "execution_count": 12,
   "id": "f2bbc69a",
   "metadata": {},
   "outputs": [
    {
     "data": {
      "image/png": "[encoded data removed]",
      "text/plain": [
       "<Figure size 640x480 with 1 Axes>"
      ]
     },
     "metadata": {},
     "output_type": "display_data"
    }
   ],
   "source": [
    "plot_trace_set(float16_trace[0])"
   ]
  },
  {
   "cell_type": "code",
   "execution_count": 14,
   "id": "9b0510f5",
   "metadata": {},
   "outputs": [],
   "source": [
    "\n",
    "amps = [trigger.fit_with_shift(trace)[0] for trace in float16_trace[0]]\n",
    "\n"
   ]
  },
  {
   "cell_type": "code",
   "execution_count": 16,
   "id": "ca377da4",
   "metadata": {},
   "outputs": [
    {
     "data": {
      "text/plain": [
       "26.641112177204935"
      ]
     },
     "execution_count": 16,
     "metadata": {},
     "output_type": "execute_result"
    }
   ],
   "source": [
    "max(amps)"
   ]
  },
  {
   "cell_type": "code",
   "execution_count": null,
   "id": "2d47b839",
   "metadata": {},
   "outputs": [],
   "source": [
    "max()"
   ]
  }
 ],
 "metadata": {
  "kernelspec": {
   "display_name": "base",
   "language": "python",
   "name": "python3"
  },
  "language_info": {
   "codemirror_mode": {
    "name": "ipython",
    "version": 3
   },
   "file_extension": ".py",
   "mimetype": "text/x-python",
   "name": "python",
   "nbconvert_exporter": "python",
   "pygments_lexer": "ipython3",
   "version": "3.12.7"
  }
 },
 "nbformat": 4,
 "nbformat_minor": 5
}
