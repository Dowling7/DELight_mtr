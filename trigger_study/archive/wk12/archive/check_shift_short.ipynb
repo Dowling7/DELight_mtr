{
 "cells": [
  {
   "cell_type": "code",
   "execution_count": 2,
   "id": "e8ccb8ed",
   "metadata": {},
   "outputs": [],
   "source": [
    "import yaml\n",
    "import numpy as np\n",
    "import zstandard as zstd\n",
    "import os\n",
    "from OptimumFilter import *\n",
    "from TraceSimulator import TraceSimulator\n",
    "import matplotlib.pyplot as plt\n",
    "from trace_IO import *\n",
    "def read_yaml_to_dict(file_path):\n",
    "    with open(file_path, 'r') as file:\n",
    "        config_dict = yaml.safe_load(file)\n",
    "    return config_dict\n",
    "sampling_frequency = 3906250\n",
    "vac_template = np.load(\"templates/vac_ch_template.npy\")\n",
    "sub_template = np.load(\"templates/sub_ch_template.npy\")\n",
    "noise_psd = np.load(\"../../templates/noise_psd_from_MMC.npy\")\n",
    "config = read_yaml_to_dict('/home/dwong/DELight_mtr/trigger_study/archive/wk11/config.yaml')\n",
    "ts = TraceSimulator(config)\n",
    "vac_of = OptimumFilter(vac_template, noise_psd, sampling_frequency)\n",
    "sub_of = OptimumFilter(sub_template, noise_psd, sampling_frequency)"
   ]
  },
  {
   "cell_type": "code",
   "execution_count": null,
   "id": "66db4224",
   "metadata": {},
   "outputs": [],
   "source": [
    "trace = ts.generate(\n",
    "            E=7000,\n",
    "            x=-94, y=0, z=-1800,\n",
    "            no_noise=False,\n",
    "            type_recoil='ER',\n",
    "            quantize=True,\n",
    "            phonon_only=False\n",
    "        )\n",
    "trace = trace[0]\n",
    "amps = []\n",
    "chisqs = []\n",
    "shifts = []\n",
    "for ch in range(54):\n",
    "    if ch < 45:\n",
    "        ampl, chisq, shift, position = sub_of.rolling_fit_with_shift(trace[ch])\n",
    "    else:\n",
    "        ampl, chisq, shift, position = vac_of.rolling_fit_with_shift(trace[ch])\n",
    "    \n",
    "    # Store raw arrays\n",
    "    amps.append(ampl)\n",
    "    chisqs.append(chisq)\n",
    "    shifts.append(shift)\n",
    "    print(\"Channels with abs(shift) > 2000:\")\n",
    "for idx in bad_indices:\n",
    "    shift_val = shifts[idx].item() if isinstance(shifts[idx], np.ndarray) else shifts[idx]\n",
    "    amp_val = amps[idx].item() if isinstance(amps[idx], np.ndarray) else amps[idx]\n",
    "    chisq_val = chisqs[idx].item() if isinstance(chisqs[idx], np.ndarray) else chisqs[idx]\n",
    "    print(f\"Index: {idx}, Shift: {shift_val}, Amplitude: {amp_val:.2f}, Chi²: {chisq_val:.2f}\")\n"
   ]
  },
  {
   "cell_type": "code",
   "execution_count": 44,
   "id": "c3592dc5",
   "metadata": {},
   "outputs": [
    {
     "name": "stdout",
     "output_type": "stream",
     "text": [
      "\n",
      "--- Iteration 1 ---\n",
      "Channels with abs(shift) > 2000:\n",
      "Index: 41, Shift: 11905, Amplitude: -2.07, Chi²: 0.87\n",
      "Index: 45, Shift: -3556, Amplitude: 58.17, Chi²: 1.07\n",
      "Index: 46, Shift: 2880, Amplitude: 10.92, Chi²: 0.94\n",
      "Index: 48, Shift: -4704, Amplitude: 56.95, Chi²: 1.21\n",
      "Index: 49, Shift: -3402, Amplitude: 101.43, Chi²: 1.21\n",
      "Index: 50, Shift: -2358, Amplitude: 243.21, Chi²: 2.78\n",
      "Index: 52, Shift: -3550, Amplitude: 22.71, Chi²: 1.01\n",
      "\n",
      "--- Iteration 2 ---\n",
      "Channels with abs(shift) > 2000:\n",
      "Index: 20, Shift: -4049, Amplitude: 2.32, Chi²: 0.87\n",
      "Index: 46, Shift: -4907, Amplitude: 50.78, Chi²: 1.21\n",
      "Index: 47, Shift: -4845, Amplitude: 55.05, Chi²: 1.25\n",
      "Index: 48, Shift: -4342, Amplitude: 42.95, Chi²: 1.10\n",
      "Index: 50, Shift: -3203, Amplitude: 258.83, Chi²: 2.80\n",
      "Index: 51, Shift: -2441, Amplitude: 85.81, Chi²: 1.14\n",
      "\n",
      "--- Iteration 3 ---\n",
      "Channels with abs(shift) > 2000:\n",
      "Index: 45, Shift: -4260, Amplitude: 65.59, Chi²: 1.13\n",
      "Index: 46, Shift: -4587, Amplitude: 30.55, Chi²: 1.08\n",
      "Index: 47, Shift: -4773, Amplitude: 29.40, Chi²: 1.05\n",
      "Index: 49, Shift: -2884, Amplitude: 93.16, Chi²: 1.17\n",
      "Index: 50, Shift: -2372, Amplitude: 240.88, Chi²: 2.75\n",
      "\n",
      "--- Iteration 4 ---\n",
      "Channels with abs(shift) > 2000:\n",
      "Index: 5, Shift: -5276, Amplitude: -2.68, Chi²: 0.87\n",
      "Index: 19, Shift: 16093, Amplitude: -2.40, Chi²: 0.87\n",
      "Index: 32, Shift: -10285, Amplitude: 29.17, Chi²: 0.96\n",
      "Index: 41, Shift: -4191, Amplitude: -2.12, Chi²: 0.87\n",
      "Index: 46, Shift: -4742, Amplitude: 15.17, Chi²: 1.01\n",
      "Index: 48, Shift: -4703, Amplitude: 81.67, Chi²: 1.45\n",
      "Index: 49, Shift: -3140, Amplitude: 89.36, Chi²: 1.16\n",
      "Index: 50, Shift: -2886, Amplitude: 249.38, Chi²: 2.74\n",
      "Index: 53, Shift: -3887, Amplitude: 17.24, Chi²: 1.00\n",
      "\n",
      "--- Iteration 5 ---\n",
      "Channels with abs(shift) > 2000:\n",
      "Index: 6, Shift: 13979, Amplitude: -1.92, Chi²: 0.87\n",
      "Index: 8, Shift: 8445, Amplitude: 2.32, Chi²: 0.87\n",
      "Index: 46, Shift: 2468, Amplitude: 11.35, Chi²: 0.95\n",
      "Index: 47, Shift: -4988, Amplitude: 61.01, Chi²: 1.30\n",
      "Index: 48, Shift: -4687, Amplitude: 60.25, Chi²: 1.23\n",
      "Index: 49, Shift: -3502, Amplitude: 109.76, Chi²: 1.26\n",
      "Index: 50, Shift: -2426, Amplitude: 247.37, Chi²: 2.79\n",
      "\n",
      "--- Iteration 6 ---\n",
      "Channels with abs(shift) > 2000:\n",
      "Index: 18, Shift: 4468, Amplitude: 2.42, Chi²: 0.87\n",
      "Index: 19, Shift: 6877, Amplitude: 2.14, Chi²: 0.87\n",
      "Index: 45, Shift: -3413, Amplitude: 48.21, Chi²: 1.05\n",
      "Index: 46, Shift: -4286, Amplitude: 22.64, Chi²: 1.03\n",
      "Index: 47, Shift: -4846, Amplitude: 43.64, Chi²: 1.14\n",
      "Index: 48, Shift: -4406, Amplitude: 43.38, Chi²: 1.10\n",
      "Index: 49, Shift: -2818, Amplitude: 85.82, Chi²: 1.14\n",
      "Index: 50, Shift: -2141, Amplitude: 232.03, Chi²: 2.57\n",
      "Index: 51, Shift: -2559, Amplitude: 82.70, Chi²: 1.13\n",
      "Index: 52, Shift: -4466, Amplitude: 39.60, Chi²: 1.08\n",
      "Index: 53, Shift: 2090, Amplitude: 9.88, Chi²: 0.93\n",
      "\n",
      "--- Iteration 7 ---\n",
      "Channels with abs(shift) > 2000:\n",
      "Index: 32, Shift: -5004, Amplitude: -2.25, Chi²: 0.87\n",
      "Index: 45, Shift: -3897, Amplitude: 58.53, Chi²: 1.10\n",
      "Index: 46, Shift: -4304, Amplitude: 18.74, Chi²: 1.01\n",
      "Index: 47, Shift: -5111, Amplitude: 105.92, Chi²: 1.91\n",
      "Index: 50, Shift: -3177, Amplitude: 245.42, Chi²: 2.65\n",
      "\n",
      "--- Iteration 8 ---\n",
      "Channels with abs(shift) > 2000:\n",
      "Index: 7, Shift: -2262, Amplitude: 2.19, Chi²: 0.87\n",
      "Index: 8, Shift: -4768, Amplitude: 2.46, Chi²: 0.87\n",
      "Index: 15, Shift: 15755, Amplitude: 1.98, Chi²: 0.87\n",
      "Index: 29, Shift: 4278, Amplitude: 2.38, Chi²: 0.87\n",
      "Index: 45, Shift: -3910, Amplitude: 63.62, Chi²: 1.12\n",
      "Index: 48, Shift: -4435, Amplitude: 43.84, Chi²: 1.11\n",
      "Index: 49, Shift: -3715, Amplitude: 104.65, Chi²: 1.23\n",
      "Index: 50, Shift: -2242, Amplitude: 237.69, Chi²: 2.67\n",
      "Index: 52, Shift: -4423, Amplitude: 35.47, Chi²: 1.07\n",
      "Index: 53, Shift: -3838, Amplitude: 19.17, Chi²: 1.01\n",
      "\n",
      "--- Iteration 9 ---\n",
      "Channels with abs(shift) > 2000:\n",
      "Index: 6, Shift: 5427, Amplitude: -2.00, Chi²: 0.87\n",
      "Index: 45, Shift: -4092, Amplitude: 63.10, Chi²: 1.12\n",
      "Index: 46, Shift: -3919, Amplitude: 10.83, Chi²: 0.99\n",
      "Index: 47, Shift: -4511, Amplitude: 41.78, Chi²: 1.12\n",
      "Index: 48, Shift: -3800, Amplitude: 28.43, Chi²: 1.03\n",
      "Index: 50, Shift: -2499, Amplitude: 237.17, Chi²: 2.65\n",
      "\n",
      "--- Iteration 10 ---\n",
      "Channels with abs(shift) > 2000:\n",
      "Index: 45, Shift: -4168, Amplitude: 65.17, Chi²: 1.11\n",
      "Index: 46, Shift: -3654, Amplitude: 10.91, Chi²: 0.99\n",
      "Index: 47, Shift: -5030, Amplitude: 60.81, Chi²: 1.28\n",
      "Index: 48, Shift: -4671, Amplitude: 63.93, Chi²: 1.26\n",
      "Index: 49, Shift: -3172, Amplitude: 89.47, Chi²: 1.15\n",
      "Index: 50, Shift: -2321, Amplitude: 239.39, Chi²: 2.71\n",
      "Index: 52, Shift: -4270, Amplitude: 27.47, Chi²: 1.03\n"
     ]
    }
   ],
   "source": [
    "\n",
    "for i in range(10):\n",
    "    print(f\"\\n--- Iteration {i+1} ---\")\n",
    "    \n",
    "    trace = ts.generate(\n",
    "        E=7000,\n",
    "        x=-94, y=0, z=-1800,\n",
    "        no_noise=False,\n",
    "        type_recoil='ER',\n",
    "        quantize=True,\n",
    "        phonon_only=False\n",
    "    )\n",
    "    trace = trace[0]\n",
    "    \n",
    "    amps = []\n",
    "    chisqs = []\n",
    "    shifts = []\n",
    "    \n",
    "    for ch in range(54):\n",
    "        if ch < 45:\n",
    "            ampl, chisq, shift, position = sub_of.rolling_fit_with_shift(trace[ch])\n",
    "        else:\n",
    "            ampl, chisq, shift, position = vac_of.rolling_fit_with_shift(trace[ch])\n",
    "        \n",
    "        amps.append(ampl)\n",
    "        chisqs.append(chisq)\n",
    "        shifts.append(shift)\n",
    "    \n",
    "    # Convert to numpy arrays for filtering\n",
    "    amps = np.array(amps)\n",
    "    chisqs = np.array(chisqs)\n",
    "    shifts = np.array(shifts)\n",
    "\n",
    "    # Find and report large shifts\n",
    "    mask = np.abs(shifts) > 2000\n",
    "    bad_indices = np.where(mask)[0]\n",
    "    \n",
    "    if len(bad_indices) > 0:\n",
    "        print(\"Channels with abs(shift) > 2000:\")\n",
    "        for idx in bad_indices:\n",
    "            shift_val = shifts[idx].item() if isinstance(shifts[idx], np.ndarray) else shifts[idx]\n",
    "            amp_val = amps[idx].item() if isinstance(amps[idx], np.ndarray) else amps[idx]\n",
    "            chisq_val = chisqs[idx].item() if isinstance(chisqs[idx], np.ndarray) else chisqs[idx]\n",
    "            print(f\"Index: {idx}, Shift: {shift_val}, Amplitude: {amp_val:.2f}, Chi²: {chisq_val:.2f}\")\n",
    "    else:\n",
    "        print(\"No bad shifts in this iteration.\")\n"
   ]
  },
  {
   "cell_type": "code",
   "execution_count": 40,
   "id": "69cd71e2",
   "metadata": {},
   "outputs": [
    {
     "data": {
      "text/plain": [
       "array([ 9, 14, 19, 47, 48, 49, 50, 53])"
      ]
     },
     "execution_count": 40,
     "metadata": {},
     "output_type": "execute_result"
    }
   ],
   "source": [
    "bad_indices"
   ]
  },
  {
   "cell_type": "code",
   "execution_count": 45,
   "id": "a38b7c95",
   "metadata": {},
   "outputs": [
    {
     "data": {
      "text/plain": [
       "[<matplotlib.lines.Line2D at 0x7f6f18343ef0>]"
      ]
     },
     "execution_count": 45,
     "metadata": {},
     "output_type": "execute_result"
    },
    {
     "data": {
      "image/png": "[encoded data removed]",
      "text/plain": [
       "<Figure size 640x480 with 1 Axes>"
      ]
     },
     "metadata": {},
     "output_type": "display_data"
    }
   ],
   "source": [
    "plt.plot(sub_template)"
   ]
  },
  {
   "cell_type": "code",
   "execution_count": 47,
   "id": "80556551",
   "metadata": {},
   "outputs": [
    {
     "data": {
      "text/plain": [
       "[<matplotlib.lines.Line2D at 0x7f6f182fc290>]"
      ]
     },
     "execution_count": 47,
     "metadata": {},
     "output_type": "execute_result"
    },
    {
     "data": {
      "image/png": "[encoded data removed]",
      "text/plain": [
       "<Figure size 640x480 with 1 Axes>"
      ]
     },
     "metadata": {},
     "output_type": "display_data"
    }
   ],
   "source": [
    "plt.plot(vac_template)"
   ]
  },
  {
   "cell_type": "code",
   "execution_count": null,
   "id": "7d0a2722",
   "metadata": {},
   "outputs": [],
   "source": []
  }
 ],
 "metadata": {
  "kernelspec": {
   "display_name": "base",
   "language": "python",
   "name": "python3"
  },
  "language_info": {
   "codemirror_mode": {
    "name": "ipython",
    "version": 3
   },
   "file_extension": ".py",
   "mimetype": "text/x-python",
   "name": "python",
   "nbconvert_exporter": "python",
   "pygments_lexer": "ipython3",
   "version": "3.12.7"
  }
 },
 "nbformat": 4,
 "nbformat_minor": 5
}
