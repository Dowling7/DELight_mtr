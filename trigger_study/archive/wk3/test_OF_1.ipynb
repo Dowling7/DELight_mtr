{
 "cells": [
  {
   "cell_type": "code",
   "execution_count": 115,
   "id": "5a1da782",
   "metadata": {},
   "outputs": [],
   "source": [
    "import numpy as np\n",
    "import scipy.fft as sp_fft\n",
    "\n",
    "class OFtrigger:\n",
    "\n",
    "    def __init__(self, template, noise_psd, sampling_frequency):\n",
    "        self._sampling_frequency = sampling_frequency\n",
    "        self._length = len(template)\n",
    "        self.set_template(template)\n",
    "        self.set_noise_psd(noise_psd)\n",
    "\n",
    "    def set_template(self, template):\n",
    "        self._template = template\n",
    "        self._template_fft = sp_fft.rfft(template) / self._sampling_frequency\n",
    "        self._update_kernel_fft()\n",
    "\n",
    "    def set_noise_psd(self, noise_psd):\n",
    "        self._noise_psd = noise_psd.copy()\n",
    "\n",
    "        self._inv_psd = np.zeros_like(noise_psd)\n",
    "        self._inv_psd[1:] = 1.0 / (noise_psd[1:] + 1e-30)\n",
    "        if self._length % 2 == 0:\n",
    "            self._inv_psd[-1] = 1.0 / (noise_psd[-1] + 1e-30)\n",
    "        self._inv_psd[0] = 0.0\n",
    "\n",
    "        self._update_kernel_fft()\n",
    "\n",
    "    def _update_kernel_fft(self):\n",
    "        if hasattr(self, '_template_fft') and hasattr(self, '_inv_psd'):\n",
    "            self._kernel_fft = self._template_fft.conjugate() * self._inv_psd\n",
    "            self._kernel_normalization =  np.real(\n",
    "                np.sum(self._kernel_fft * self._template_fft)\n",
    "            ) * self._sampling_frequency / self._length\n",
    "\n",
    "    def fit(self, trace):#The chi2 of this suppose to be 1/4 of oringinal, since the integration is only on the real part\n",
    "        trace_fft = sp_fft.rfft(trace) / self._sampling_frequency\n",
    "        trace_filtered = self._kernel_fft * trace_fft\n",
    "        amp0 = np.real(np.sum(trace_filtered)) * self._sampling_frequency / (self._length * self._kernel_normalization)\n",
    "\n",
    "        chisq0 = np.real(np.vdot(trace_fft, trace_fft * self._inv_psd)) * self._sampling_frequency / self._length\n",
    "        chisq = (chisq0 - amp0**2 * self._kernel_normalization) / (self._length - 2)\n",
    "\n",
    "        return amp0, chisq\n",
    "\n",
    "    def fit_with_shift(self, trace, allowed_shift_range=None):\n",
    "        trace_fft = sp_fft.rfft(trace) / self._sampling_frequency\n",
    "        trace_filtered = self._kernel_fft * trace_fft / self._kernel_normalization\n",
    "\n",
    "        # A(t0) is the inverse FFT of the filtered signal\n",
    "        trace_filtered_td = sp_fft.irfft(trace_filtered) * self._sampling_frequency\n",
    "\n",
    "        # Compute chi^2_0 (independent of shift)\n",
    "        chisq0 = np.real(np.vdot(trace_fft, trace_fft * self._inv_psd)) * self._sampling_frequency / self._length\n",
    "\n",
    "        # Compute chi^2(t0) = chisq0 - A(t0)^2 * norm\n",
    "        amp_series = trace_filtered_td*0.5#correct irfft and rfft\n",
    "        chisq_series = chisq0 - amp_series**2 * self._kernel_normalization\n",
    "\n",
    "        if allowed_shift_range is None:\n",
    "            ind = np.arange(len(chisq_series))\n",
    "        else:\n",
    "            start = (self._length + allowed_shift_range[0]) % self._length\n",
    "            stop = (allowed_shift_range[1] + 1) % self._length\n",
    "            if start < stop:\n",
    "                ind = np.arange(start, stop)\n",
    "            else:\n",
    "                ind = np.concatenate((np.arange(start, self._length), np.arange(0, stop)))\n",
    "\n",
    "        best_ind = ind[np.argmin(chisq_series[ind])]\n",
    "        amp = amp_series[best_ind]\n",
    "        chisq = chisq_series[best_ind] / (self._length - 3)\n",
    "        t0 = best_ind if best_ind < self._length // 2 else best_ind - self._length\n",
    "\n",
    "        return amp, chisq, t0\n"
   ]
  },
  {
   "cell_type": "code",
   "execution_count": 116,
   "id": "0cf8d8f5",
   "metadata": {},
   "outputs": [
    {
     "name": "stdout",
     "output_type": "stream",
     "text": [
      "OptimumFilter time (fit_with_shift): 5.0937s\n",
      "OFtrigger time (fit_with_shift): 3.4464s\n",
      "Speedup: 1.48x\n"
     ]
    }
   ],
   "source": [
    "import numpy as np\n",
    "import time\n",
    "from OF_trigger import OptimumFilter  # Replace with actual module path\n",
    "\n",
    "\n",
    "sampling_frequency = 3906250\n",
    "\n",
    "data = np.load(\"/ceph/dwong/delight/Ka_traces_1.npz\")\n",
    "\n",
    "template = np.load(\"../templates/template_K_alpha_tight.npy\")\n",
    "noise_psd = np.load(\"../templates/noise_psd_from_MMC.npy\")\n",
    "loaded_traces = data['data']\n",
    "data.close()\n",
    "\n",
    "# Ensure correct shape\n",
    "\n",
    "assert len(template) == loaded_traces.shape[1], \"Trace length must match template length\"\n",
    "\n",
    "# Benchmark function using fit_with_shift\n",
    "def benchmark_filter_with_shift(FilterClass, template, psd, sampling_frequency, traces):\n",
    "    of = FilterClass(template, psd, sampling_frequency)\n",
    "    start = time.time()\n",
    "    results = []\n",
    "    for i in range(traces.shape[0]):\n",
    "        results.append(of.fit_with_shift(traces[i]))\n",
    "    elapsed = time.time() - start\n",
    "    return elapsed, results\n",
    "\n",
    "# Run benchmarks\n",
    "t_old, results_old = benchmark_filter_with_shift(OptimumFilter, template, noise_psd, sampling_frequency, loaded_traces)\n",
    "t_new, results_new = benchmark_filter_with_shift(OFtrigger, template, noise_psd, sampling_frequency, loaded_traces)\n",
    "print(f\"OptimumFilter time (fit_with_shift): {t_old:.4f}s\")\n",
    "print(f\"OFtrigger time (fit_with_shift): {t_new:.4f}s\")\n",
    "print(f\"Speedup: {t_old / t_new:.2f}x\")"
   ]
  },
  {
   "cell_type": "code",
   "execution_count": 117,
   "id": "ca756571",
   "metadata": {},
   "outputs": [
    {
     "data": {
      "text/plain": [
       "[(10414.42191904015, 1.0308331060424099, 0),\n",
       " (10405.665579890228, 0.9785663927509168, 0),\n",
       " (10416.386487652875, 1.0108577524644262, 0),\n",
       " (10411.395402202568, 0.9891110814783786, 0),\n",
       " (10395.465460254756, 1.0255180864330105, 0),\n",
       " (10414.140305288478, 0.9932680430274764, 0),\n",
       " (10411.829155000516, 1.0325721542698436, 0),\n",
       " (10416.330759369552, 1.0022067390324305, 0),\n",
       " (10415.4236747321, 1.0033962530497103, 0),\n",
       " (10416.520771292313, 1.0048969021311756, 0)]"
      ]
     },
     "execution_count": 117,
     "metadata": {},
     "output_type": "execute_result"
    }
   ],
   "source": [
    "results_old[10:20] "
   ]
  },
  {
   "cell_type": "code",
   "execution_count": 118,
   "id": "fd616caa",
   "metadata": {},
   "outputs": [
    {
     "data": {
      "text/plain": [
       "[(10414.42078932861, 0.25784410784467565, 0),\n",
       " (10405.664952202407, 0.24499471535573347, 0),\n",
       " (10416.385715569613, 0.2529626691084899, 0),\n",
       " (10411.394485897516, 0.24745454503782974, 0),\n",
       " (10395.464678790739, 0.2566201568327477, 0),\n",
       " (10414.139542269872, 0.24857066459220437, 0),\n",
       " (10411.828556084582, 0.25852220220527955, 0),\n",
       " (10416.330060062335, 0.2508490466919634, 0),\n",
       " (10415.422497087706, 0.25098617979834575, 0),\n",
       " (10416.519818148405, 0.25138876899615253, 0)]"
      ]
     },
     "execution_count": 118,
     "metadata": {},
     "output_type": "execute_result"
    }
   ],
   "source": [
    "results_new[10:20]"
   ]
  },
  {
   "cell_type": "code",
   "execution_count": null,
   "id": "0e847aac",
   "metadata": {},
   "outputs": [],
   "source": []
  },
  {
   "cell_type": "code",
   "execution_count": null,
   "id": "a96dda8b",
   "metadata": {},
   "outputs": [],
   "source": []
  }
 ],
 "metadata": {
  "kernelspec": {
   "display_name": "base",
   "language": "python",
   "name": "python3"
  },
  "language_info": {
   "codemirror_mode": {
    "name": "ipython",
    "version": 3
   },
   "file_extension": ".py",
   "mimetype": "text/x-python",
   "name": "python",
   "nbconvert_exporter": "python",
   "pygments_lexer": "ipython3",
   "version": "3.12.7"
  }
 },
 "nbformat": 4,
 "nbformat_minor": 5
}
