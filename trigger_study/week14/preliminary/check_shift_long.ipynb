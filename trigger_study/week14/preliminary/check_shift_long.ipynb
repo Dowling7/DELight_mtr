{
 "cells": [
  {
   "cell_type": "code",
   "execution_count": 4,
   "id": "e8ccb8ed",
   "metadata": {},
   "outputs": [
    {
     "ename": "ModuleNotFoundError",
     "evalue": "No module named 'trace_IO'",
     "output_type": "error",
     "traceback": [
      "\u001b[0;31m---------------------------------------------------------------------------\u001b[0m",
      "\u001b[0;31mModuleNotFoundError\u001b[0m                       Traceback (most recent call last)",
      "Cell \u001b[0;32mIn[4], line 3\u001b[0m\n\u001b[1;32m      1\u001b[0m \u001b[38;5;28;01mimport\u001b[39;00m \u001b[38;5;21;01myaml\u001b[39;00m\n\u001b[1;32m      2\u001b[0m \u001b[38;5;28;01mimport\u001b[39;00m \u001b[38;5;21;01mnumpy\u001b[39;00m \u001b[38;5;28;01mas\u001b[39;00m \u001b[38;5;21;01mnp\u001b[39;00m\n\u001b[0;32m----> 3\u001b[0m \u001b[38;5;28;01mfrom\u001b[39;00m \u001b[38;5;21;01mtrace_IO\u001b[39;00m \u001b[38;5;28;01mimport\u001b[39;00m \u001b[38;5;241m*\u001b[39m\n\u001b[1;32m      4\u001b[0m \u001b[38;5;28;01mfrom\u001b[39;00m \u001b[38;5;21;01mOptimumFilter\u001b[39;00m \u001b[38;5;28;01mimport\u001b[39;00m \u001b[38;5;241m*\u001b[39m\n\u001b[1;32m      5\u001b[0m \u001b[38;5;28;01mfrom\u001b[39;00m \u001b[38;5;21;01mTraceSimulator\u001b[39;00m \u001b[38;5;28;01mimport\u001b[39;00m LongTraceSimulator\n",
      "\u001b[0;31mModuleNotFoundError\u001b[0m: No module named 'trace_IO'"
     ]
    }
   ],
   "source": [
    "import yaml\n",
    "import numpy as np\n",
    "from trace_IO import *\n",
    "from OptimumFilter import *\n",
    "from TraceSimulator import LongTraceSimulator\n",
    "import matplotlib.pyplot as plt\n",
    "def read_yaml_to_dict(file_path):\n",
    "    with open(file_path, 'r') as file:\n",
    "        config_dict = yaml.safe_load(file)\n",
    "    return config_dict\n",
    "sampling_frequency = 3906250\n",
    "vac_template = np.load(\"templates/vac_ch_template.npy\")\n",
    "sub_template = np.load(\"templates/sub_ch_template.npy\")\n",
    "noise_psd = np.load(\"../../templates/noise_psd_from_MMC.npy\")\n",
    "config = read_yaml_to_dict('/home/dwong/DELight_mtr/trigger_study/archive/wk11/config.yaml')\n",
    "lts = LongTraceSimulator(config)\n",
    "vac_of = OptimumFilter(vac_template, noise_psd, sampling_frequency)\n",
    "sub_of = OptimumFilter(sub_template, noise_psd, sampling_frequency)"
   ]
  },
  {
   "cell_type": "code",
   "execution_count": 5,
   "id": "7769f46d",
   "metadata": {},
   "outputs": [
    {
     "ename": "NameError",
     "evalue": "name 'lts' is not defined",
     "output_type": "error",
     "traceback": [
      "\u001b[0;31m---------------------------------------------------------------------------\u001b[0m",
      "\u001b[0;31mNameError\u001b[0m                                 Traceback (most recent call last)",
      "Cell \u001b[0;32mIn[5], line 1\u001b[0m\n\u001b[0;32m----> 1\u001b[0m trace, idx\u001b[38;5;241m=\u001b[39m lts\u001b[38;5;241m.\u001b[39mgenerate(\n\u001b[1;32m      2\u001b[0m             E\u001b[38;5;241m=\u001b[39m\u001b[38;5;241m50\u001b[39m,\n\u001b[1;32m      3\u001b[0m             x\u001b[38;5;241m=\u001b[39m\u001b[38;5;241m-\u001b[39m\u001b[38;5;241m94\u001b[39m, y\u001b[38;5;241m=\u001b[39m\u001b[38;5;241m0\u001b[39m, z\u001b[38;5;241m=\u001b[39m\u001b[38;5;241m-\u001b[39m\u001b[38;5;241m1800\u001b[39m,\n\u001b[1;32m      4\u001b[0m             no_noise\u001b[38;5;241m=\u001b[39m\u001b[38;5;28;01mFalse\u001b[39;00m,\n\u001b[1;32m      5\u001b[0m             type_recoil\u001b[38;5;241m=\u001b[39m\u001b[38;5;124m'\u001b[39m\u001b[38;5;124mER\u001b[39m\u001b[38;5;124m'\u001b[39m,\n\u001b[1;32m      6\u001b[0m             quantize\u001b[38;5;241m=\u001b[39m\u001b[38;5;28;01mTrue\u001b[39;00m,\n\u001b[1;32m      7\u001b[0m             phonon_only\u001b[38;5;241m=\u001b[39m\u001b[38;5;28;01mFalse\u001b[39;00m\n\u001b[1;32m      8\u001b[0m         )\n\u001b[1;32m      9\u001b[0m trace \u001b[38;5;241m=\u001b[39m trace[\u001b[38;5;241m0\u001b[39m]\n\u001b[1;32m     10\u001b[0m amps \u001b[38;5;241m=\u001b[39m []\n",
      "\u001b[0;31mNameError\u001b[0m: name 'lts' is not defined"
     ]
    }
   ],
   "source": [
    "trace, idx= lts.generate(\n",
    "            E=50,\n",
    "            x=-94, y=0, z=-1800,\n",
    "            no_noise=False,\n",
    "            type_recoil='ER',\n",
    "            quantize=True,\n",
    "            phonon_only=False\n",
    "        )\n",
    "trace = trace[0]\n",
    "amps = []\n",
    "chisqs = []\n",
    "shifts = []\n",
    "positions = []\n",
    "significant_fits = []\n",
    "channels = []\n",
    "all_fit_results = []\n",
    "\n",
    "# These are for plotting\n",
    "sub_deltas = []\n",
    "sub_chisqs = []\n",
    "vac_deltas = []\n",
    "vac_chisqs = []\n",
    "\n",
    "for ch in range(54):\n",
    "    if ch < 45:\n",
    "        ampl, chisq, shift, position = sub_of.rolling_fit_with_shift(trace[ch], allowed_shift_range=None)\n",
    "    else:\n",
    "        ampl, chisq, shift, position = vac_of.rolling_fit_with_shift(trace[ch], allowed_shift_range=None)\n",
    "    \n",
    "    # Store raw arrays\n",
    "    amps.append(ampl)\n",
    "    chisqs.append(chisq)\n",
    "    shifts.append(shift)\n",
    "    positions.append(position)\n",
    "    \n",
    "    # Store per-channel fits for later analysis\n",
    "    fit_results = [\n",
    "        {'channel': ch, 'amplitude': a, 'shift': s, 'chisq': c, 'position': p}\n",
    "        for a, s, c, p in zip(ampl, shift, chisq, position)\n",
    "    ]\n",
    "    all_fit_results.extend(fit_results)\n"
   ]
  },
  {
   "cell_type": "code",
   "execution_count": 6,
   "id": "573ca565",
   "metadata": {},
   "outputs": [
    {
     "name": "stdout",
     "output_type": "stream",
     "text": [
      "=== Fits with |position - idx| > 5000 and amplitude > 4 ===\n"
     ]
    },
    {
     "ename": "NameError",
     "evalue": "name 'all_fit_results' is not defined",
     "output_type": "error",
     "traceback": [
      "\u001b[0;31m---------------------------------------------------------------------------\u001b[0m",
      "\u001b[0;31mNameError\u001b[0m                                 Traceback (most recent call last)",
      "Cell \u001b[0;32mIn[6], line 3\u001b[0m\n\u001b[1;32m      1\u001b[0m \u001b[38;5;28mprint\u001b[39m(\u001b[38;5;124m\"\u001b[39m\u001b[38;5;124m=== Fits with |position - idx| > 5000 and amplitude > 4 ===\u001b[39m\u001b[38;5;124m\"\u001b[39m)\n\u001b[1;32m      2\u001b[0m threshold \u001b[38;5;241m=\u001b[39m \u001b[38;5;241m4.8\u001b[39m\n\u001b[0;32m----> 3\u001b[0m \u001b[38;5;28;01mfor\u001b[39;00m res \u001b[38;5;129;01min\u001b[39;00m all_fit_results:\n\u001b[1;32m      4\u001b[0m     pos_error \u001b[38;5;241m=\u001b[39m res[\u001b[38;5;124m'\u001b[39m\u001b[38;5;124mposition\u001b[39m\u001b[38;5;124m'\u001b[39m] \u001b[38;5;241m-\u001b[39m idx\n\u001b[1;32m      5\u001b[0m     amp \u001b[38;5;241m=\u001b[39m res[\u001b[38;5;124m'\u001b[39m\u001b[38;5;124mamplitude\u001b[39m\u001b[38;5;124m'\u001b[39m]\n",
      "\u001b[0;31mNameError\u001b[0m: name 'all_fit_results' is not defined"
     ]
    }
   ],
   "source": [
    "print(\"=== Fits with |position - idx| > 5000 and amplitude > 4 ===\")\n",
    "threshold = 4.8\n",
    "for res in all_fit_results:\n",
    "    pos_error = res['position'] - idx\n",
    "    amp = res['amplitude']\n",
    "    ch = res['channel']\n",
    "    chisq = res['chisq']\n",
    "    shift_val = res['shift']  # <- Extract the shift here\n",
    "\n",
    "    if amp > threshold:\n",
    "        # Check if any other fit in the same channel (excluding this one) has amp > 4\n",
    "        other_fits = [r for r in all_fit_results if r['channel'] == ch and r != res]\n",
    "        has_other_significant = any(r['amplitude'] > threshold for r in other_fits)\n",
    "\n",
    "        print(f\"Channel {ch} | Amplitude: {amp:.2f}, Chi²: {chisq:.2f}, Error: {pos_error}, Shift: {shift_val}, Other fit passed?: {has_other_significant}\")\n"
   ]
  },
  {
   "cell_type": "code",
   "execution_count": 3,
   "id": "3b34570b",
   "metadata": {},
   "outputs": [
    {
     "ename": "NameError",
     "evalue": "name 'plot_traces' is not defined",
     "output_type": "error",
     "traceback": [
      "\u001b[0;31m---------------------------------------------------------------------------\u001b[0m",
      "\u001b[0;31mNameError\u001b[0m                                 Traceback (most recent call last)",
      "Cell \u001b[0;32mIn[3], line 1\u001b[0m\n\u001b[0;32m----> 1\u001b[0m plot_traces(trace[:, idx : idx \u001b[38;5;241m+\u001b[39m \u001b[38;5;241m32768\u001b[39m])\n",
      "\u001b[0;31mNameError\u001b[0m: name 'plot_traces' is not defined"
     ]
    }
   ],
   "source": [
    "plot_traces(trace[:, idx : idx + 32768])"
   ]
  },
  {
   "cell_type": "code",
   "execution_count": null,
   "id": "edb31d86",
   "metadata": {},
   "outputs": [],
   "source": []
  }
 ],
 "metadata": {
  "kernelspec": {
   "display_name": "base",
   "language": "python",
   "name": "python3"
  },
  "language_info": {
   "codemirror_mode": {
    "name": "ipython",
    "version": 3
   },
   "file_extension": ".py",
   "mimetype": "text/x-python",
   "name": "python",
   "nbconvert_exporter": "python",
   "pygments_lexer": "ipython3",
   "version": "3.12.7"
  }
 },
 "nbformat": 4,
 "nbformat_minor": 5
}
