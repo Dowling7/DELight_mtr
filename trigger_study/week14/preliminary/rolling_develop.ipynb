{
 "cells": [
  {
   "cell_type": "code",
   "execution_count": 73,
   "id": "3ef769e6",
   "metadata": {},
   "outputs": [],
   "source": [
    "#Optimum filter V1, \n",
    "#removed wrapper for fit_with_shift, returns absolute index\n",
    "#used the notation in Kurinsky's thesis\n",
    "import numpy as np\n",
    "from numpy.fft import rfft, irfft, fft, ifft, fftfreq, rfftfreq\n",
    "from scipy.signal import fftconvolve\n",
    "\n",
    "class OptimumFilter():\n",
    "    \n",
    "    def __init__(self, template, noise_psd, sampling_frequency):\n",
    "        self._template = template\n",
    "        self._noise_psd = noise_psd\n",
    "        self._sampling_frequency = sampling_frequency\n",
    "        self._update_state()\n",
    "        \n",
    "    def set_template(self, template):\n",
    "        self._template = template\n",
    "        self._update_state()\n",
    "        \n",
    "    def set_noise_psd(self, noise_psd):\n",
    "        self._noise_psd = noise_psd\n",
    "        self._update_state()\n",
    "        \n",
    "    def _update_state(self):\n",
    "        self._length = len(self._template)\n",
    "        \n",
    "        if self._length%2==0:\n",
    "            self._noise_psd_unfolded = np.concatenate(([np.inf],\n",
    "                                                       self._noise_psd[1:-1]/2,\n",
    "                                                       [self._noise_psd[-1]],\n",
    "                                                       self._noise_psd[-2:0:-1]/2))\n",
    "        else:\n",
    "            self._noise_psd_unfolded = np.concatenate(([np.inf],\n",
    "                                                       self._noise_psd[1:]/2,\n",
    "                                                       self._noise_psd[-1:0:-1]/2))\n",
    "            \n",
    "        \n",
    "        self._template_fft = fft(self._template)/self._sampling_frequency\n",
    "        \n",
    "        self._kernel_fft = self._template_fft.conjugate() / self._noise_psd_unfolded\n",
    "        self._kernel_td = np.real(ifft(self._kernel_fft)) * self._sampling_frequency\n",
    "        self._kernel_normalization = np.real(np.dot(self._kernel_fft, self._template_fft))*self._sampling_frequency/self._length \n",
    "        \n",
    "    def fit(self, trace):\n",
    "\n",
    "        trace_fft = fft(trace, axis=-1)/self._sampling_frequency # V\n",
    "        trace_filtered = self._kernel_fft * trace_fft / self._kernel_normalization # Phi * V\n",
    "        chisq0 = np.real(\n",
    "            np.dot(trace_fft.conjugate()/self._noise_psd_unfolded,\n",
    "                   trace_fft)*self._sampling_frequency/self._length\n",
    "        )\n",
    "        \n",
    "        amp0 = np.real(np.sum(\n",
    "            trace_filtered, axis=-1\n",
    "        ))*self._sampling_frequency/self._length\n",
    "\n",
    "\n",
    "        # total chisq\n",
    "        # self._length-2 is the assumed number of degrees of freedom\n",
    "        chisq = (chisq0 - (amp0**2)*self._kernel_normalization)/(self._length-2)\n",
    "        \n",
    "        return amp0, chisq\n",
    "    \n",
    "    def fit_with_shift(self, trace, allowed_shift_range=None):\n",
    " \n",
    "        trace_fft = fft(trace, axis=-1)/self._sampling_frequency # v(f)\n",
    "        trace_filtered = self._kernel_fft * trace_fft / self._kernel_normalization # \\phi(f)*v(f)/normalization factor\n",
    "        trace_filtered_td = np.real(\n",
    "            ifft(trace_filtered, axis=-1)\n",
    "        ) * self._sampling_frequency\n",
    "\n",
    "        chi0 = np.real(\n",
    "            np.dot(trace_fft.conjugate()/self._noise_psd_unfolded,\n",
    "                   trace_fft)*self._sampling_frequency/self._length\n",
    "        )\n",
    "\n",
    "        chit_withdelay = (trace_filtered_td**2) * self._kernel_normalization\n",
    "        chi = chi0 - chit_withdelay\n",
    "        \n",
    "        if allowed_shift_range is None:\n",
    "            ind = np.arange(len(chi))\n",
    "        else:\n",
    "            ind = np.concatenate((np.arange(self._length+allowed_shift_range[0], self._length),\n",
    "                                  np.arange(allowed_shift_range[1]+1)))\n",
    "        \n",
    "        best_ind = ind[np.argmin(chi[ind], axis=-1)]\n",
    "        \n",
    "        amp = trace_filtered_td[best_ind]\n",
    "        chisq = chi[best_ind]/(self._length-3)\n",
    "        t0 = best_ind\n",
    "        \n",
    "        return trace_filtered_td\n",
    "        #return amp, chisq, t0\n",
    "\n",
    "    def rolling_fit_with_shift(self, trace_long, allowed_shift_range=None):\n",
    "        L = len(trace_long)\n",
    "        N = self._length\n",
    "        fs = self._sampling_frequency\n",
    "\n",
    "        n_windows = L // N\n",
    "        amps = np.zeros(n_windows)\n",
    "        chisqs = np.zeros(n_windows)\n",
    "        shifts = np.zeros(n_windows, dtype=int)\n",
    "        positions = np.zeros(n_windows, dtype=int)\n",
    "\n",
    "        for i in range(n_windows):\n",
    "            start = i * N\n",
    "            segment = trace_long[start:start + N]\n",
    "            amp, chisq, t0 = self.fit_with_shift(segment, allowed_shift_range)\n",
    "\n",
    "            amps[i] = amp\n",
    "            chisqs[i] = chisq\n",
    "            shifts[i] = t0\n",
    "            positions[i] = start + t0\n",
    "\n",
    "        return amps, chisqs, shifts, positions\n",
    "    \n",
    "    \n",
    "    def convolve_long_trace(self, trace_long):\n",
    "        filtered_trace = fftconvolve(trace_long, self._kernel_td[::-1], mode='valid') / self._kernel_normalization\n",
    "        return len(self._kernel_td), filtered_trace\n"
   ]
  },
  {
   "cell_type": "code",
   "execution_count": 75,
   "id": "22163cfb",
   "metadata": {},
   "outputs": [],
   "source": [
    "import yaml\n",
    "import numpy as np\n",
    "from trace_IO import *\n",
    "from TraceSimulator import LongTraceSimulator\n",
    "import matplotlib.pyplot as plt\n",
    "def read_yaml_to_dict(file_path):\n",
    "    with open(file_path, 'r') as file:\n",
    "        config_dict = yaml.safe_load(file)\n",
    "    return config_dict\n",
    "sampling_frequency = 3906250\n",
    "vac_template = np.load(\"templates/vac_ch_template.npy\")\n",
    "sub_template = np.load(\"templates/sub_ch_template.npy\")\n",
    "\n",
    "noise_psd = np.load(\"../../templates/noise_psd_from_MMC.npy\")\n",
    "config = read_yaml_to_dict('/home/dwong/DELight_mtr/trigger_study/archive/wk11/config.yaml')\n"
   ]
  },
  {
   "cell_type": "code",
   "execution_count": 38,
   "id": "b6d97dd2",
   "metadata": {},
   "outputs": [],
   "source": [
    "lts = LongTraceSimulator(config)\n",
    "\n"
   ]
  },
  {
   "cell_type": "code",
   "execution_count": 76,
   "id": "e7f4665b",
   "metadata": {},
   "outputs": [],
   "source": [
    "vac_of = OptimumFilter(vac_template, noise_psd, sampling_frequency)\n",
    "sub_of = OptimumFilter(sub_template, noise_psd, sampling_frequency)"
   ]
  },
  {
   "cell_type": "code",
   "execution_count": 42,
   "id": "fce48d26",
   "metadata": {},
   "outputs": [],
   "source": [
    "trace, idx= lts.generate(\n",
    "            E=70000,\n",
    "            x=-94, y=0, z=-1800,\n",
    "            no_noise=False,\n",
    "            type_recoil='ER',\n",
    "            quantize=True,\n",
    "            phonon_only=False\n",
    "        )\n",
    "trace = trace[0]"
   ]
  },
  {
   "cell_type": "code",
   "execution_count": 77,
   "id": "f3773364",
   "metadata": {},
   "outputs": [],
   "source": [
    "segment = trace[5][idx : idx + 32768]\n",
    "td_1 = sub_of.fit_with_shift(segment)  # amplitude at best t0\n",
    "length, td_2 = sub_of.convolve_long_trace(trace[5])  # pick out from full trace\n"
   ]
  },
  {
   "cell_type": "code",
   "execution_count": 66,
   "id": "d5696888",
   "metadata": {},
   "outputs": [
    {
     "data": {
      "text/plain": [
       "[<matplotlib.lines.Line2D at 0x7f9884288a10>]"
      ]
     },
     "execution_count": 66,
     "metadata": {},
     "output_type": "execute_result"
    },
    {
     "data": {
      "image/png": "[encoded data removed]",
      "text/plain": [
       "<Figure size 640x480 with 1 Axes>"
      ]
     },
     "metadata": {},
     "output_type": "display_data"
    }
   ],
   "source": [
    "plt.plot(td_1)"
   ]
  },
  {
   "cell_type": "code",
   "execution_count": 68,
   "id": "b1678896",
   "metadata": {},
   "outputs": [
    {
     "data": {
      "text/plain": [
       "[<matplotlib.lines.Line2D at 0x7f9884167e60>]"
      ]
     },
     "execution_count": 68,
     "metadata": {},
     "output_type": "execute_result"
    },
    {
     "data": {
      "image/png": "[encoded data removed]",
      "text/plain": [
       "<Figure size 640x480 with 1 Axes>"
      ]
     },
     "metadata": {},
     "output_type": "display_data"
    }
   ],
   "source": [
    "plt.plot(td_2)"
   ]
  },
  {
   "cell_type": "code",
   "execution_count": 69,
   "id": "8066232e",
   "metadata": {},
   "outputs": [
    {
     "name": "stdout",
     "output_type": "stream",
     "text": [
      "Index of maximum value: 519342\n",
      "Maximum value: 790640915.8917897\n"
     ]
    }
   ],
   "source": [
    "max_index = np.argmax(td_2)\n",
    "print(\"Index of maximum value:\", max_index)\n",
    "print(\"Maximum value:\", td_2[max_index])"
   ]
  },
  {
   "cell_type": "code",
   "execution_count": 70,
   "id": "4597844d",
   "metadata": {},
   "outputs": [
    {
     "data": {
      "text/plain": [
       "535976"
      ]
     },
     "execution_count": 70,
     "metadata": {},
     "output_type": "execute_result"
    }
   ],
   "source": [
    "idx"
   ]
  },
  {
   "cell_type": "code",
   "execution_count": 78,
   "id": "d19b5676",
   "metadata": {},
   "outputs": [
    {
     "data": {
      "text/plain": [
       "32768"
      ]
     },
     "execution_count": 78,
     "metadata": {},
     "output_type": "execute_result"
    }
   ],
   "source": [
    "length"
   ]
  },
  {
   "cell_type": "code",
   "execution_count": null,
   "id": "3afcdab0",
   "metadata": {},
   "outputs": [],
   "source": []
  }
 ],
 "metadata": {
  "kernelspec": {
   "display_name": "base",
   "language": "python",
   "name": "python3"
  },
  "language_info": {
   "codemirror_mode": {
    "name": "ipython",
    "version": 3
   },
   "file_extension": ".py",
   "mimetype": "text/x-python",
   "name": "python",
   "nbconvert_exporter": "python",
   "pygments_lexer": "ipython3",
   "version": "3.12.7"
  }
 },
 "nbformat": 4,
 "nbformat_minor": 5
}
