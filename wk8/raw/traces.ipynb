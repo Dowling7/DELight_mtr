{
 "cells": [
  {
   "cell_type": "code",
   "execution_count": 1,
   "id": "5d267531-5d9c-4660-a480-7994defe6d5c",
   "metadata": {},
   "outputs": [],
   "source": [
    "import helix as hx"
   ]
  },
  {
   "cell_type": "code",
   "execution_count": null,
   "id": "79a9042f-a81d-4db6-b57c-0298cef65fd5",
   "metadata": {},
   "outputs": [],
   "source": []
  }
 ],
 "metadata": {
  "kernelspec": {
   "display_name": "Python 3 (ipykernel)",
   "language": "python",
   "name": "python3"
  },
  "language_info": {
   "codemirror_mode": {
    "name": "ipython",
    "version": 3
   },
   "file_extension": ".py",
   "mimetype": "text/x-python",
   "name": "python",
   "nbconvert_exporter": "python",
   "pygments_lexer": "ipython3",
   "version": "3.12.8"
  }
 },
 "nbformat": 4,
 "nbformat_minor": 5
}
