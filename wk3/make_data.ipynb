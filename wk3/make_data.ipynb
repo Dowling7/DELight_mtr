{
 "cells": [
  {
   "cell_type": "code",
   "execution_count": 1,
   "id": "008d519a-24c7-4a69-af1a-69af28b8e2e8",
   "metadata": {},
   "outputs": [
    {
     "name": "stdout",
     "output_type": "stream",
     "text": [
      "Data saved to toy_data/001\n"
     ]
    }
   ],
   "source": [
    "import pandas as pd\n",
    "import numpy as np\n",
    "import lz4.frame\n",
    "import os\n",
    "\n",
    "# Load the CSV file\n",
    "file_path = \"traces.csv\"  # Replace with your file path\n",
    "data = pd.read_csv(file_path)\n",
    "\n",
    "# Configuration for processing\n",
    "num_channels = 16  # Assuming the first 16 columns are different channels\n",
    "record_length = 2048  # Assuming each channel has 2048 samples per record\n",
    "output_dir = \"toy_data/001\"  # Directory for output\n",
    "os.makedirs(output_dir, exist_ok=True)\n",
    "\n",
    "# Validate the dataset dimensions match the assumptions\n",
    "expected_columns = num_channels * record_length\n",
    "if data.shape[1] != expected_columns:\n",
    "    raise ValueError(f\"Expected {expected_columns} columns, but got {data.shape[1]}. Please verify the assumptions.\")\n",
    "\n",
    "# Process and save data for each row as a separate file\n",
    "for i, row in data.iterrows():\n",
    "    flattened_data = row.values.astype(np.int16)\n",
    "    file_name = os.path.join(output_dir, f\"001-{i:05d}\")\n",
    "    with open(file_name, \"wb\") as f:\n",
    "        f.write(lz4.frame.compress(flattened_data.tobytes()))\n",
    "\n",
    "print(f\"Data saved to {output_dir}\")\n"
   ]
  },
  {
   "cell_type": "code",
   "execution_count": null,
   "id": "8b2facf5-82ba-406c-bf2a-e4f6a48417b5",
   "metadata": {},
   "outputs": [],
   "source": []
  }
 ],
 "metadata": {
  "kernelspec": {
   "display_name": "Python 3 (ipykernel)",
   "language": "python",
   "name": "python3"
  },
  "language_info": {
   "codemirror_mode": {
    "name": "ipython",
    "version": 3
   },
   "file_extension": ".py",
   "mimetype": "text/x-python",
   "name": "python",
   "nbconvert_exporter": "python",
   "pygments_lexer": "ipython3",
   "version": "3.12.8"
  }
 },
 "nbformat": 4,
 "nbformat_minor": 5
}
