{
 "cells": [
  {
   "cell_type": "code",
   "execution_count": 1,
   "id": "d5a9fff1-3ffe-4722-8b4c-81ca36c57045",
   "metadata": {},
   "outputs": [],
   "source": [
    "import numpy as np\n",
    "import strax as sx\n",
    "import numba\n",
    "import pandas as pd\n",
    "import scipy as sp\n",
    "import sys\n",
    "import os\n",
    "\n"
   ]
  },
  {
   "cell_type": "code",
   "execution_count": 2,
   "id": "4ec52bca-4f16-44b1-b3b6-2b0171c03f03",
   "metadata": {},
   "outputs": [],
   "source": [
    "import helix as hx\n",
    "import shutil\n",
    "from glob import glob\n",
    "from matplotlib import pyplot as plt"
   ]
  },
  {
   "cell_type": "markdown",
   "id": "0f1eb93c-1359-4fb4-b5e2-cd4cb30870f9",
   "metadata": {},
   "source": [
    "from datetime import datetime, timedelta\n",
    "from bson import json_util\n",
    "import json\n",
    "\n",
    "if not os.path.exists(hx.helix_data_dir):\n",
    "    os.makedirs(hx.helix_data_dir)\n",
    "\n",
    "metadata_path = os.path.join(hx.helix_data_dir, \"%s-metadata.json\" % 'traces')\n",
    "start = datetime.now().replace(microsecond=0)\n",
    "end = start + timedelta(milliseconds=8.4)\n",
    "metadata = {'start': start, 'end': end}\n",
    "with open(metadata_path, 'w') as f:\n",
    "    json.dump(metadata, f, default=json_util.default)"
   ]
  },
  {
   "cell_type": "code",
   "execution_count": 3,
   "id": "ed8390ab-7ff9-4b4d-848a-667fdd4b413b",
   "metadata": {},
   "outputs": [],
   "source": [
    "run_id = 'traces' \n",
    "raw_data_dir = 'mmc_data'  # to save the raw toy data\n",
    "helix_data_dir = 'test_helix_data'  # to save the run metadata\n",
    "context = sx.Context(storage=[sx.DataDirectory(helix_data_dir, provide_run_metadata=False), ],\n",
    "                     register=[hx.MMCRecords,\n",
    "                               hx.QPTriggers, hx.UVTriggers,\n",
    "                               hx.Events, hx.NoiseEvents,\n",
    "                               hx.NoisePSDs, hx.FitResults])"
   ]
  },
  {
   "cell_type": "code",
   "execution_count": 4,
   "id": "bd57047a-711b-4578-ac26-ff54cbb934fe",
   "metadata": {},
   "outputs": [],
   "source": [
    "config = {'run_metadata_directory': helix_data_dir,      # for the hx.ToyDataRawRecords plugin\n",
    "          'noise_events_random_seed': 1}                 # for the hx.NoiseEvents plugin\n",
    "\n",
    "# passing the settings to the plugins. Strax finds which plugins take these options automatically\n",
    "context.set_config(config)\n",
    "\n",
    "# running the processing (or retrieving the data, if it was processed earlier)\n",
    "#psds = context.get_array(run_id, 'noise_psds')  # Helix needs to prebuild PSDs before calculating fit_results \n"
   ]
  },
  {
   "cell_type": "code",
   "execution_count": 6,
   "id": "21eeeb8f-254c-4c1d-97fc-6b0747d35bbe",
   "metadata": {},
   "outputs": [
    {
     "name": "stderr",
     "output_type": "stream",
     "text": [
      "Exception during processing, closing savers and reraising\n"
     ]
    },
    {
     "name": "stdout",
     "output_type": "stream",
     "text": [
      "Removing data in test_helix_data/traces-qp_triggers-i3vt2yhwmr to overwrite\n",
      "Removing data in test_helix_data/traces-uv_triggers-xdpckrv34a to overwrite\n",
      "Removing data in test_helix_data/traces-events-z2rtotmaw5 to overwrite\n"
     ]
    },
    {
     "ename": "ValueError",
     "evalue": "Cannot load data at test_helix_data/traces-raw_records-igg4zuk5jh, it has no chunks!",
     "output_type": "error",
     "traceback": [
      "\u001b[0;31m---------------------------------------------------------------------------\u001b[0m",
      "\u001b[0;31mValueError\u001b[0m                                Traceback (most recent call last)",
      "Cell \u001b[0;32mIn[6], line 1\u001b[0m\n\u001b[0;32m----> 1\u001b[0m events \u001b[38;5;241m=\u001b[39m \u001b[43mcontext\u001b[49m\u001b[38;5;241;43m.\u001b[39;49m\u001b[43mget_array\u001b[49m\u001b[43m(\u001b[49m\u001b[43mrun_id\u001b[49m\u001b[43m,\u001b[49m\u001b[43m \u001b[49m\u001b[38;5;124;43m'\u001b[39;49m\u001b[38;5;124;43mevents\u001b[39;49m\u001b[38;5;124;43m'\u001b[39;49m\u001b[43m)\u001b[49m\n\u001b[1;32m      2\u001b[0m \u001b[38;5;66;03m# Load the raw data directly from the events or traces\u001b[39;00m\n\u001b[1;32m      3\u001b[0m raw_data \u001b[38;5;241m=\u001b[39m events[\u001b[38;5;124m'\u001b[39m\u001b[38;5;124mchannel_data\u001b[39m\u001b[38;5;124m'\u001b[39m]\n",
      "File \u001b[0;32m~/anaconda3/envs/hupdate/lib/python3.12/site-packages/strax/context.py:1799\u001b[0m, in \u001b[0;36mContext.get_array\u001b[0;34m(self, run_id, targets, save, max_workers, **kwargs)\u001b[0m\n\u001b[1;32m   1795\u001b[0m \u001b[38;5;28;01melse\u001b[39;00m:\n\u001b[1;32m   1796\u001b[0m     source \u001b[38;5;241m=\u001b[39m \u001b[38;5;28mself\u001b[39m\u001b[38;5;241m.\u001b[39mget_iter(\n\u001b[1;32m   1797\u001b[0m         run_ids[\u001b[38;5;241m0\u001b[39m], targets, save\u001b[38;5;241m=\u001b[39msave, max_workers\u001b[38;5;241m=\u001b[39mmax_workers, \u001b[38;5;241m*\u001b[39m\u001b[38;5;241m*\u001b[39mkwargs\n\u001b[1;32m   1798\u001b[0m     )\n\u001b[0;32m-> 1799\u001b[0m     results \u001b[38;5;241m=\u001b[39m [x\u001b[38;5;241m.\u001b[39mdata \u001b[38;5;28;01mfor\u001b[39;00m x \u001b[38;5;129;01min\u001b[39;00m source]\n\u001b[1;32m   1801\u001b[0m results \u001b[38;5;241m=\u001b[39m np\u001b[38;5;241m.\u001b[39mconcatenate(results)\n\u001b[1;32m   1802\u001b[0m \u001b[38;5;28;01mreturn\u001b[39;00m results\n",
      "File \u001b[0;32m~/anaconda3/envs/hupdate/lib/python3.12/site-packages/strax/context.py:1652\u001b[0m, in \u001b[0;36mContext.get_iter\u001b[0;34m(self, run_id, targets, save, max_workers, time_range, seconds_range, time_within, time_selection, selection, keep_columns, drop_columns, allow_multiple, progress_bar, multi_run_progress_bar, chunk_number, processor, combining, **kwargs)\u001b[0m\n\u001b[1;32m   1644\u001b[0m     generator\u001b[38;5;241m.\u001b[39mthrow(\n\u001b[1;32m   1645\u001b[0m         OutsideException(\n\u001b[1;32m   1646\u001b[0m             \u001b[38;5;124m\"\u001b[39m\u001b[38;5;124mTerminating due to an exception originating from outside \u001b[39m\u001b[38;5;124m\"\u001b[39m\n\u001b[1;32m   1647\u001b[0m             \u001b[38;5;124m\"\u001b[39m\u001b[38;5;124mstrax\u001b[39m\u001b[38;5;124m'\u001b[39m\u001b[38;5;124ms get_iter (which we cannot retrieve).\u001b[39m\u001b[38;5;124m\"\u001b[39m\n\u001b[1;32m   1648\u001b[0m         )\n\u001b[1;32m   1649\u001b[0m     )\n\u001b[1;32m   1651\u001b[0m \u001b[38;5;28;01mexcept\u001b[39;00m \u001b[38;5;167;01mException\u001b[39;00m \u001b[38;5;28;01mas\u001b[39;00m e:\n\u001b[0;32m-> 1652\u001b[0m     \u001b[43mgenerator\u001b[49m\u001b[38;5;241;43m.\u001b[39;49m\u001b[43mthrow\u001b[49m\u001b[43m(\u001b[49m\u001b[43me\u001b[49m\u001b[43m)\u001b[49m\n\u001b[1;32m   1653\u001b[0m     \u001b[38;5;28;01mraise\u001b[39;00m \u001b[38;5;167;01mValueError\u001b[39;00m(\u001b[38;5;124mf\u001b[39m\u001b[38;5;124m\"\u001b[39m\u001b[38;5;124mFailed to process chunk \u001b[39m\u001b[38;5;132;01m{\u001b[39;00mn_chunks\u001b[38;5;132;01m}\u001b[39;00m\u001b[38;5;124m!\u001b[39m\u001b[38;5;124m\"\u001b[39m)\n\u001b[1;32m   1655\u001b[0m \u001b[38;5;28;01mif\u001b[39;00m \u001b[38;5;129;01mnot\u001b[39;00m seen_a_chunk:\n",
      "File \u001b[0;32m~/anaconda3/envs/hupdate/lib/python3.12/site-packages/strax/context.py:1619\u001b[0m, in \u001b[0;36mContext.get_iter\u001b[0;34m(self, run_id, targets, save, max_workers, time_range, seconds_range, time_within, time_selection, selection, keep_columns, drop_columns, allow_multiple, progress_bar, multi_run_progress_bar, chunk_number, processor, combining, **kwargs)\u001b[0m\n\u001b[1;32m   1617\u001b[0m pbar\u001b[38;5;241m.\u001b[39mstrax_print_time \u001b[38;5;241m=\u001b[39m time\u001b[38;5;241m.\u001b[39mperf_counter()\n\u001b[1;32m   1618\u001b[0m pbar\u001b[38;5;241m.\u001b[39mmbs \u001b[38;5;241m=\u001b[39m []\n\u001b[0;32m-> 1619\u001b[0m \u001b[43m\u001b[49m\u001b[38;5;28;43;01mfor\u001b[39;49;00m\u001b[43m \u001b[49m\u001b[43mn_chunks\u001b[49m\u001b[43m,\u001b[49m\u001b[43m \u001b[49m\u001b[43mresult\u001b[49m\u001b[43m \u001b[49m\u001b[38;5;129;43;01min\u001b[39;49;00m\u001b[43m \u001b[49m\u001b[38;5;28;43menumerate\u001b[39;49m\u001b[43m(\u001b[49m\u001b[43mstrax\u001b[49m\u001b[38;5;241;43m.\u001b[39;49m\u001b[43mcontinuity_check\u001b[49m\u001b[43m(\u001b[49m\u001b[43mgenerator\u001b[49m\u001b[43m)\u001b[49m\u001b[43m,\u001b[49m\u001b[43m \u001b[49m\u001b[38;5;241;43m1\u001b[39;49m\u001b[43m)\u001b[49m\u001b[43m:\u001b[49m\n\u001b[1;32m   1620\u001b[0m \u001b[43m    \u001b[49m\u001b[43mseen_a_chunk\u001b[49m\u001b[43m \u001b[49m\u001b[38;5;241;43m=\u001b[39;49m\u001b[43m \u001b[49m\u001b[38;5;28;43;01mTrue\u001b[39;49;00m\n\u001b[1;32m   1621\u001b[0m \u001b[43m    \u001b[49m\u001b[38;5;28;43;01mif\u001b[39;49;00m\u001b[43m \u001b[49m\u001b[38;5;129;43;01mnot\u001b[39;49;00m\u001b[43m \u001b[49m\u001b[38;5;28;43misinstance\u001b[39;49m\u001b[43m(\u001b[49m\u001b[43mresult\u001b[49m\u001b[43m,\u001b[49m\u001b[43m \u001b[49m\u001b[43mstrax\u001b[49m\u001b[38;5;241;43m.\u001b[39;49m\u001b[43mChunk\u001b[49m\u001b[43m)\u001b[49m\u001b[43m:\u001b[49m\n",
      "File \u001b[0;32m~/anaconda3/envs/hupdate/lib/python3.12/site-packages/strax/chunk.py:363\u001b[0m, in \u001b[0;36mcontinuity_check\u001b[0;34m(chunk_iter)\u001b[0m\n\u001b[1;32m    360\u001b[0m last_runid \u001b[38;5;241m=\u001b[39m \u001b[38;5;28;01mNone\u001b[39;00m\n\u001b[1;32m    362\u001b[0m last_subrun \u001b[38;5;241m=\u001b[39m {\u001b[38;5;124m\"\u001b[39m\u001b[38;5;124mrun_id\u001b[39m\u001b[38;5;124m\"\u001b[39m: \u001b[38;5;28;01mNone\u001b[39;00m}\n\u001b[0;32m--> 363\u001b[0m \u001b[43m\u001b[49m\u001b[38;5;28;43;01mfor\u001b[39;49;00m\u001b[43m \u001b[49m\u001b[43mchunk\u001b[49m\u001b[43m \u001b[49m\u001b[38;5;129;43;01min\u001b[39;49;00m\u001b[43m \u001b[49m\u001b[43mchunk_iter\u001b[49m\u001b[43m:\u001b[49m\n\u001b[1;32m    364\u001b[0m \u001b[43m    \u001b[49m\u001b[38;5;28;43;01mif\u001b[39;49;00m\u001b[43m \u001b[49m\u001b[43mchunk\u001b[49m\u001b[38;5;241;43m.\u001b[39;49m\u001b[43mrun_id\u001b[49m\u001b[43m \u001b[49m\u001b[38;5;241;43m!=\u001b[39;49m\u001b[43m \u001b[49m\u001b[43mlast_runid\u001b[49m\u001b[43m:\u001b[49m\n\u001b[1;32m    365\u001b[0m \u001b[43m        \u001b[49m\u001b[43mlast_end\u001b[49m\u001b[43m \u001b[49m\u001b[38;5;241;43m=\u001b[39;49m\u001b[43m \u001b[49m\u001b[38;5;28;43;01mNone\u001b[39;49;00m\n",
      "File \u001b[0;32m~/anaconda3/envs/hupdate/lib/python3.12/site-packages/strax/processors/single_thread.py:63\u001b[0m, in \u001b[0;36mSingleThreadProcessor.iter\u001b[0;34m(self)\u001b[0m\n\u001b[1;32m     60\u001b[0m \u001b[38;5;28mself\u001b[39m\u001b[38;5;241m.\u001b[39mlog\u001b[38;5;241m.\u001b[39mdebug(\u001b[38;5;124mf\u001b[39m\u001b[38;5;124m\"\u001b[39m\u001b[38;5;124mYielding \u001b[39m\u001b[38;5;132;01m{\u001b[39;00mtarget\u001b[38;5;132;01m}\u001b[39;00m\u001b[38;5;124m\"\u001b[39m)\n\u001b[1;32m     62\u001b[0m \u001b[38;5;28;01mtry\u001b[39;00m:\n\u001b[0;32m---> 63\u001b[0m     \u001b[38;5;28;01myield from\u001b[39;00m final_generator\n\u001b[1;32m     65\u001b[0m \u001b[38;5;28;01mexcept\u001b[39;00m \u001b[38;5;167;01mException\u001b[39;00m:\n\u001b[1;32m     66\u001b[0m     \u001b[38;5;66;03m# Exception in one of the producers. Close savers (they will record\u001b[39;00m\n\u001b[1;32m     67\u001b[0m     \u001b[38;5;66;03m# the exception from sys.exc_info()) then reraise.\u001b[39;00m\n\u001b[1;32m     68\u001b[0m     \u001b[38;5;28mself\u001b[39m\u001b[38;5;241m.\u001b[39mlog\u001b[38;5;241m.\u001b[39mfatal(\u001b[38;5;124mf\u001b[39m\u001b[38;5;124m\"\u001b[39m\u001b[38;5;124mException during processing, closing savers and reraising\u001b[39m\u001b[38;5;124m\"\u001b[39m)\n",
      "File \u001b[0;32m~/anaconda3/envs/hupdate/lib/python3.12/site-packages/strax/processors/post_office.py:204\u001b[0m, in \u001b[0;36mPostOffice._read\u001b[0;34m(self, topic, reader)\u001b[0m\n\u001b[1;32m    201\u001b[0m \u001b[38;5;28;01melse\u001b[39;00m:\n\u001b[1;32m    202\u001b[0m     \u001b[38;5;28;01mtry\u001b[39;00m:\n\u001b[1;32m    203\u001b[0m         \u001b[38;5;66;03m# We have to produce a new message\u001b[39;00m\n\u001b[0;32m--> 204\u001b[0m         result \u001b[38;5;241m=\u001b[39m \u001b[38;5;28;43mself\u001b[39;49m\u001b[38;5;241;43m.\u001b[39;49m\u001b[43m_fetch_new\u001b[49m\u001b[43m(\u001b[49m\u001b[43mtopic\u001b[49m\u001b[43m)\u001b[49m\n\u001b[1;32m    205\u001b[0m     \u001b[38;5;28;01mexcept\u001b[39;00m \u001b[38;5;167;01mStopIteration\u001b[39;00m:\n\u001b[1;32m    206\u001b[0m         \u001b[38;5;66;03m# Message actually won't come, exit the while loop.\u001b[39;00m\n\u001b[1;32m    207\u001b[0m         \u001b[38;5;66;03m# (The while condition wasn't triggered because\u001b[39;00m\n\u001b[1;32m    208\u001b[0m         \u001b[38;5;66;03m# the producer only just realized the topic is exhausted)\u001b[39;00m\n\u001b[1;32m    209\u001b[0m         \u001b[38;5;28;01mbreak\u001b[39;00m\n",
      "File \u001b[0;32m~/anaconda3/envs/hupdate/lib/python3.12/site-packages/strax/processors/post_office.py:247\u001b[0m, in \u001b[0;36mPostOffice._fetch_new\u001b[0;34m(self, topic)\u001b[0m\n\u001b[1;32m    245\u001b[0m     \u001b[38;5;28;01mraise\u001b[39;00m \u001b[38;5;167;01mRuntimeError\u001b[39;00m(\u001b[38;5;124mf\u001b[39m\u001b[38;5;124m\"\u001b[39m\u001b[38;5;124mNo producer registered for \u001b[39m\u001b[38;5;132;01m{\u001b[39;00mtopic\u001b[38;5;132;01m}\u001b[39;00m\u001b[38;5;124m\"\u001b[39m)\n\u001b[1;32m    246\u001b[0m \u001b[38;5;28;01mtry\u001b[39;00m:\n\u001b[0;32m--> 247\u001b[0m     msg \u001b[38;5;241m=\u001b[39m \u001b[38;5;28;43mnext\u001b[39;49m\u001b[43m(\u001b[49m\u001b[38;5;28;43mself\u001b[39;49m\u001b[38;5;241;43m.\u001b[39;49m\u001b[43m_producers\u001b[49m\u001b[43m[\u001b[49m\u001b[43mtopic\u001b[49m\u001b[43m]\u001b[49m\u001b[43m)\u001b[49m\n\u001b[1;32m    248\u001b[0m \u001b[38;5;28;01mexcept\u001b[39;00m \u001b[38;5;167;01mStopIteration\u001b[39;00m:\n\u001b[1;32m    249\u001b[0m     \u001b[38;5;28;01mfor\u001b[39;00m sub_topic \u001b[38;5;129;01min\u001b[39;00m \u001b[38;5;28mself\u001b[39m\u001b[38;5;241m.\u001b[39m_multi_output_topics\u001b[38;5;241m.\u001b[39mget(topic, [topic]):\n",
      "File \u001b[0;32m~/anaconda3/envs/hupdate/lib/python3.12/site-packages/strax/plugins/plugin.py:438\u001b[0m, in \u001b[0;36mPlugin.iter\u001b[0;34m(self, iters, executor)\u001b[0m\n\u001b[1;32m    436\u001b[0m _end \u001b[38;5;241m=\u001b[39m \u001b[38;5;28mfloat\u001b[39m(\u001b[38;5;124m\"\u001b[39m\u001b[38;5;124minf\u001b[39m\u001b[38;5;124m\"\u001b[39m)\n\u001b[1;32m    437\u001b[0m \u001b[38;5;28;01mfor\u001b[39;00m d \u001b[38;5;129;01min\u001b[39;00m \u001b[38;5;28mself\u001b[39m\u001b[38;5;241m.\u001b[39mdepends_on:\n\u001b[0;32m--> 438\u001b[0m     \u001b[38;5;28;43mself\u001b[39;49m\u001b[38;5;241;43m.\u001b[39;49m\u001b[43m_fetch_chunk\u001b[49m\u001b[43m(\u001b[49m\u001b[43md\u001b[49m\u001b[43m,\u001b[49m\u001b[43m \u001b[49m\u001b[43miters\u001b[49m\u001b[43m)\u001b[49m\n\u001b[1;32m    439\u001b[0m     \u001b[38;5;28;01mif\u001b[39;00m \u001b[38;5;28mself\u001b[39m\u001b[38;5;241m.\u001b[39minput_buffer[d] \u001b[38;5;129;01mis\u001b[39;00m \u001b[38;5;28;01mNone\u001b[39;00m:\n\u001b[1;32m    440\u001b[0m         \u001b[38;5;28;01mraise\u001b[39;00m \u001b[38;5;167;01mValueError\u001b[39;00m(\u001b[38;5;124mf\u001b[39m\u001b[38;5;124m\"\u001b[39m\u001b[38;5;124mCannot work with empty input buffer \u001b[39m\u001b[38;5;132;01m{\u001b[39;00m\u001b[38;5;28mself\u001b[39m\u001b[38;5;241m.\u001b[39minput_buffer\u001b[38;5;132;01m}\u001b[39;00m\u001b[38;5;124m\"\u001b[39m)\n",
      "File \u001b[0;32m~/anaconda3/envs/hupdate/lib/python3.12/site-packages/strax/plugins/plugin.py:407\u001b[0m, in \u001b[0;36mPlugin._fetch_chunk\u001b[0;34m(self, d, iters, check_end_not_before)\u001b[0m\n\u001b[1;32m    395\u001b[0m \u001b[38;5;250m\u001b[39m\u001b[38;5;124;03m\"\"\"Add a chunk of the datatype d to the input buffer. Return True if this succeeded, False\u001b[39;00m\n\u001b[1;32m    396\u001b[0m \u001b[38;5;124;03mif the source is exhausted.\u001b[39;00m\n\u001b[1;32m    397\u001b[0m \n\u001b[0;32m   (...)\u001b[0m\n\u001b[1;32m    402\u001b[0m \n\u001b[1;32m    403\u001b[0m \u001b[38;5;124;03m\"\"\"\u001b[39;00m\n\u001b[1;32m    404\u001b[0m \u001b[38;5;28;01mtry\u001b[39;00m:\n\u001b[1;32m    405\u001b[0m     \u001b[38;5;66;03m# print(f\"Fetching {d} in {self}, hope to see {hope_to_see}\")\u001b[39;00m\n\u001b[1;32m    406\u001b[0m     \u001b[38;5;28mself\u001b[39m\u001b[38;5;241m.\u001b[39minput_buffer[d] \u001b[38;5;241m=\u001b[39m strax\u001b[38;5;241m.\u001b[39mChunk\u001b[38;5;241m.\u001b[39mconcatenate(\n\u001b[0;32m--> 407\u001b[0m         [\u001b[38;5;28mself\u001b[39m\u001b[38;5;241m.\u001b[39minput_buffer[d], \u001b[38;5;28;43mnext\u001b[39;49m\u001b[43m(\u001b[49m\u001b[43miters\u001b[49m\u001b[43m[\u001b[49m\u001b[43md\u001b[49m\u001b[43m]\u001b[49m\u001b[43m)\u001b[49m], \u001b[38;5;28mself\u001b[39m\u001b[38;5;241m.\u001b[39mallow_superrun\n\u001b[1;32m    408\u001b[0m     )\n\u001b[1;32m    409\u001b[0m     \u001b[38;5;66;03m# print(f\"Fetched {d} in {self}, \"\u001b[39;00m\n\u001b[1;32m    410\u001b[0m     \u001b[38;5;66;03m#      f\"now have {self.input_buffer[d]}\")\u001b[39;00m\n\u001b[1;32m    411\u001b[0m     \u001b[38;5;28;01mreturn\u001b[39;00m \u001b[38;5;28;01mTrue\u001b[39;00m\n",
      "File \u001b[0;32m~/anaconda3/envs/hupdate/lib/python3.12/site-packages/strax/processors/post_office.py:204\u001b[0m, in \u001b[0;36mPostOffice._read\u001b[0;34m(self, topic, reader)\u001b[0m\n\u001b[1;32m    201\u001b[0m \u001b[38;5;28;01melse\u001b[39;00m:\n\u001b[1;32m    202\u001b[0m     \u001b[38;5;28;01mtry\u001b[39;00m:\n\u001b[1;32m    203\u001b[0m         \u001b[38;5;66;03m# We have to produce a new message\u001b[39;00m\n\u001b[0;32m--> 204\u001b[0m         result \u001b[38;5;241m=\u001b[39m \u001b[38;5;28;43mself\u001b[39;49m\u001b[38;5;241;43m.\u001b[39;49m\u001b[43m_fetch_new\u001b[49m\u001b[43m(\u001b[49m\u001b[43mtopic\u001b[49m\u001b[43m)\u001b[49m\n\u001b[1;32m    205\u001b[0m     \u001b[38;5;28;01mexcept\u001b[39;00m \u001b[38;5;167;01mStopIteration\u001b[39;00m:\n\u001b[1;32m    206\u001b[0m         \u001b[38;5;66;03m# Message actually won't come, exit the while loop.\u001b[39;00m\n\u001b[1;32m    207\u001b[0m         \u001b[38;5;66;03m# (The while condition wasn't triggered because\u001b[39;00m\n\u001b[1;32m    208\u001b[0m         \u001b[38;5;66;03m# the producer only just realized the topic is exhausted)\u001b[39;00m\n\u001b[1;32m    209\u001b[0m         \u001b[38;5;28;01mbreak\u001b[39;00m\n",
      "File \u001b[0;32m~/anaconda3/envs/hupdate/lib/python3.12/site-packages/strax/processors/post_office.py:247\u001b[0m, in \u001b[0;36mPostOffice._fetch_new\u001b[0;34m(self, topic)\u001b[0m\n\u001b[1;32m    245\u001b[0m     \u001b[38;5;28;01mraise\u001b[39;00m \u001b[38;5;167;01mRuntimeError\u001b[39;00m(\u001b[38;5;124mf\u001b[39m\u001b[38;5;124m\"\u001b[39m\u001b[38;5;124mNo producer registered for \u001b[39m\u001b[38;5;132;01m{\u001b[39;00mtopic\u001b[38;5;132;01m}\u001b[39;00m\u001b[38;5;124m\"\u001b[39m)\n\u001b[1;32m    246\u001b[0m \u001b[38;5;28;01mtry\u001b[39;00m:\n\u001b[0;32m--> 247\u001b[0m     msg \u001b[38;5;241m=\u001b[39m \u001b[38;5;28;43mnext\u001b[39;49m\u001b[43m(\u001b[49m\u001b[38;5;28;43mself\u001b[39;49m\u001b[38;5;241;43m.\u001b[39;49m\u001b[43m_producers\u001b[49m\u001b[43m[\u001b[49m\u001b[43mtopic\u001b[49m\u001b[43m]\u001b[49m\u001b[43m)\u001b[49m\n\u001b[1;32m    248\u001b[0m \u001b[38;5;28;01mexcept\u001b[39;00m \u001b[38;5;167;01mStopIteration\u001b[39;00m:\n\u001b[1;32m    249\u001b[0m     \u001b[38;5;28;01mfor\u001b[39;00m sub_topic \u001b[38;5;129;01min\u001b[39;00m \u001b[38;5;28mself\u001b[39m\u001b[38;5;241m.\u001b[39m_multi_output_topics\u001b[38;5;241m.\u001b[39mget(topic, [topic]):\n",
      "File \u001b[0;32m~/anaconda3/envs/hupdate/lib/python3.12/site-packages/strax/storage/common.py:514\u001b[0m, in \u001b[0;36mStorageBackend.loader\u001b[0;34m(self, backend_key, time_range, chunk_number, executor)\u001b[0m\n\u001b[1;32m    508\u001b[0m     \u001b[38;5;28;01mraise\u001b[39;00m strax\u001b[38;5;241m.\u001b[39mDataNotAvailable(\n\u001b[1;32m    509\u001b[0m         \u001b[38;5;124mf\u001b[39m\u001b[38;5;124m\"\u001b[39m\u001b[38;5;124mCannot load data at \u001b[39m\u001b[38;5;132;01m{\u001b[39;00mbackend_key\u001b[38;5;132;01m}\u001b[39;00m\u001b[38;5;124m: metadata is \u001b[39m\u001b[38;5;124m\"\u001b[39m\n\u001b[1;32m    510\u001b[0m         \u001b[38;5;124mf\u001b[39m\u001b[38;5;124m\"\u001b[39m\u001b[38;5;124mmissing the required fields \u001b[39m\u001b[38;5;132;01m{\u001b[39;00mmissing_fields\u001b[38;5;132;01m}\u001b[39;00m\u001b[38;5;124m. \u001b[39m\u001b[38;5;124m\"\u001b[39m\n\u001b[1;32m    511\u001b[0m     )\n\u001b[1;32m    513\u001b[0m \u001b[38;5;28;01mif\u001b[39;00m \u001b[38;5;129;01mnot\u001b[39;00m \u001b[38;5;28mlen\u001b[39m(metadata[\u001b[38;5;124m\"\u001b[39m\u001b[38;5;124mchunks\u001b[39m\u001b[38;5;124m\"\u001b[39m]):\n\u001b[0;32m--> 514\u001b[0m     \u001b[38;5;28;01mraise\u001b[39;00m \u001b[38;5;167;01mValueError\u001b[39;00m(\u001b[38;5;124mf\u001b[39m\u001b[38;5;124m\"\u001b[39m\u001b[38;5;124mCannot load data at \u001b[39m\u001b[38;5;132;01m{\u001b[39;00mbackend_key\u001b[38;5;132;01m}\u001b[39;00m\u001b[38;5;124m, it has no chunks!\u001b[39m\u001b[38;5;124m\"\u001b[39m)\n\u001b[1;32m    516\u001b[0m dtype \u001b[38;5;241m=\u001b[39m literal_eval(metadata[\u001b[38;5;124m\"\u001b[39m\u001b[38;5;124mdtype\u001b[39m\u001b[38;5;124m\"\u001b[39m])\n\u001b[1;32m    518\u001b[0m \u001b[38;5;66;03m# Common arguments for chunk construction, not stored with chunk-level\u001b[39;00m\n\u001b[1;32m    519\u001b[0m \u001b[38;5;66;03m# metadata\u001b[39;00m\n",
      "\u001b[0;31mValueError\u001b[0m: Cannot load data at test_helix_data/traces-raw_records-igg4zuk5jh, it has no chunks!"
     ]
    }
   ],
   "source": [
    "events = context.get_array(run_id, 'events')\n",
    "# Load the raw data directly from the events or traces\n",
    "raw_data = events['channel_data']\n",
    "\n",
    "# Choose the event to plot\n",
    "event_index = 100  # Change this index to select a different event\n",
    "\n",
    "# Generate artificial baselines to separate channels visually\n",
    "artificial_baselines = np.arange(len(raw_data[event_index])) * 300\n",
    "\n",
    "# Plot the raw data\n",
    "plt.figure(figsize=(10, 16))\n",
    "plt.plot(raw_data[event_index].T + artificial_baselines, lw=0.5, alpha=0.8, color='C0')\n",
    "plt.xlabel('Time (samples)')\n",
    "plt.ylabel('Current (ADC units)')\n",
    "plt.title(f'Generated toy data from helix')\n",
    "#plt.savefig('raw_data_traces_plot.png', dpi=300, bbox_inches='tight')\n",
    "\n",
    "plt.show()"
   ]
  },
  {
   "cell_type": "code",
   "execution_count": null,
   "id": "24beef75-5a24-44d4-8b6b-14abef3d2fad",
   "metadata": {},
   "outputs": [],
   "source": []
  }
 ],
 "metadata": {
  "kernelspec": {
   "display_name": "Python 3 (ipykernel)",
   "language": "python",
   "name": "python3"
  },
  "language_info": {
   "codemirror_mode": {
    "name": "ipython",
    "version": 3
   },
   "file_extension": ".py",
   "mimetype": "text/x-python",
   "name": "python",
   "nbconvert_exporter": "python",
   "pygments_lexer": "ipython3",
   "version": "3.12.8"
  }
 },
 "nbformat": 4,
 "nbformat_minor": 5
}
