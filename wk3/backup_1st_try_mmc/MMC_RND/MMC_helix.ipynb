{
 "cells": [
  {
   "cell_type": "code",
   "execution_count": 2,
   "id": "7d2a2cbd-e006-4b49-a97f-f770934fffbc",
   "metadata": {},
   "outputs": [
    {
     "name": "stdout",
     "output_type": "stream",
     "text": [
      "Active Conda Environment: hupdate\n",
      "strax version: 2.0.4\n",
      "NumPy version: 1.26.4\n",
      "Numba version: 0.60.0\n",
      "Pandas version: 2.2.3\n",
      "SciPy version: 1.15.1\n",
      "Python 3.12.8\n",
      "helix version: 0.0.0\n"
     ]
    }
   ],
   "source": [
    "import numpy as np\n",
    "import strax as sx\n",
    "import numba\n",
    "import pandas as pd\n",
    "import scipy as sp\n",
    "import sys\n",
    "import os\n",
    "import helix as hx\n",
    "\n",
    "# Extract the active environment name from the CONDA_PREFIX environment variable\n",
    "conda_env = os.environ.get('CONDA_DEFAULT_ENV', None)\n",
    "print(f\"Active Conda Environment: {conda_env}\")\n",
    "\n",
    "\n",
    "print(\"strax version:\", sx.__version__)\n",
    "print(\"NumPy version:\", np.__version__)\n",
    "print(\"Numba version:\", numba.__version__)\n",
    "print(\"Pandas version:\", pd.__version__)\n",
    "print(\"SciPy version:\", sp.__version__)\n",
    "!python --version\n",
    "print(\"helix version:\", hx.__version__)\n"
   ]
  },
  {
   "cell_type": "code",
   "execution_count": 15,
   "id": "01c52b1b-333a-43d9-b827-008af853f031",
   "metadata": {},
   "outputs": [],
   "source": [
    "ms = 1_000_000\n",
    "s = 1_000_000_000\n",
    "DEFAULT_RECORD_LENGTH_NS = 8.4 * ms\n",
    "DEFAULT_RECORD_LENGTH = 32_768  \n",
    "DEFAULT_SAMPLING_DT = DEFAULT_RECORD_LENGTH_NS/DEFAULT_RECORD_LENGTH\n",
    "DEFAULT_SAMPLING_FREQUENCY = int(s/DEFAULT_SAMPLING_DT)"
   ]
  },
  {
   "cell_type": "code",
   "execution_count": null,
   "id": "d4ddf7fc-dcfb-4f68-aaf3-7dc60995b43c",
   "metadata": {},
   "outputs": [],
   "source": []
  }
 ],
 "metadata": {
  "kernelspec": {
   "display_name": "Python 3 (ipykernel)",
   "language": "python",
   "name": "python3"
  },
  "language_info": {
   "codemirror_mode": {
    "name": "ipython",
    "version": 3
   },
   "file_extension": ".py",
   "mimetype": "text/x-python",
   "name": "python",
   "nbconvert_exporter": "python",
   "pygments_lexer": "ipython3",
   "version": "3.12.8"
  }
 },
 "nbformat": 4,
 "nbformat_minor": 5
}
