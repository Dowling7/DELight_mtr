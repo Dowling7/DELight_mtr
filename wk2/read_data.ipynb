{
 "cells": [
  {
   "cell_type": "code",
   "execution_count": 1,
   "id": "2cb43d4e-07c8-4067-b130-92dfa0c924ca",
   "metadata": {},
   "outputs": [],
   "source": [
    "import strax\n",
    "import numpy as np\n",
    "import json\n",
    "from bson import json_util\n",
    "import os\n",
    "from helix import units\n",
    "import helix as hx\n",
    "import lz4.frame as lz4\n",
    "import numba\n",
    "from datetime import datetime\n",
    "\n",
    "# methods and classes marked with the @export decorator are added to the __all__ namespace to make them importable via\n",
    "# the star-notation ('from .module_name import *')\n",
    "export, __all__ = strax.exporter()\n",
    "\n",
    "\n",
    "@export\n",
    "def load_toy_data(path):\n",
    "    \"\"\"\n",
    "    Converts lz4-compressed data file to a numpy array\n",
    "\n",
    "    :param path: path to the data file\n",
    "    :return: 1d int16 numpy array with the raw data\n",
    "    \"\"\"\n",
    "    with open(path, mode='rb') as f:\n",
    "        return np.frombuffer(lz4.decompress(f.read()), dtype=np.int16)\n"
   ]
  },
  {
   "cell_type": "code",
   "execution_count": null,
   "id": "5db53be3-74cc-4e46-aa11-1724e64222f8",
   "metadata": {},
   "outputs": [],
   "source": []
  }
 ],
 "metadata": {
  "kernelspec": {
   "display_name": "Python 3 (ipykernel)",
   "language": "python",
   "name": "python3"
  },
  "language_info": {
   "codemirror_mode": {
    "name": "ipython",
    "version": 3
   },
   "file_extension": ".py",
   "mimetype": "text/x-python",
   "name": "python",
   "nbconvert_exporter": "python",
   "pygments_lexer": "ipython3",
   "version": "3.12.8"
  }
 },
 "nbformat": 4,
 "nbformat_minor": 5
}
