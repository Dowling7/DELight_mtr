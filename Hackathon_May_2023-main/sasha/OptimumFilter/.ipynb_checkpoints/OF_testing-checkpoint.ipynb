{
 "cells": [
  {
   "cell_type": "code",
   "execution_count": 27,
   "metadata": {},
   "outputs": [],
   "source": [
    "import numpy as np\n",
    "from scipy import signal\n",
    "from matplotlib import pyplot as plt\n",
    "from numpy.fft import rfft, irfft"
   ]
  },
  {
   "cell_type": "raw",
   "metadata": {},
   "source": [
    "from OptimumFilter import OptimumFilter"
   ]
  },
  {
   "cell_type": "code",
   "execution_count": 53,
   "metadata": {},
   "outputs": [],
   "source": [
    "class OptimumFilter():\n",
    "    \n",
    "    def __init__(self, template, noise_psd, sampling_frequency):\n",
    "        self._template = template\n",
    "        self._noise_psd = noise_psd\n",
    "        self._sampling_frequency = sampling_frequency\n",
    "        self._update_state()\n",
    "        \n",
    "    def set_template(self, template):\n",
    "        self._template = template\n",
    "        self._update_state()\n",
    "        \n",
    "    def set_noise_psd(self, noise_psd):\n",
    "        self._noise_psd = noise_psd\n",
    "        self._update_state()\n",
    "        \n",
    "    def _update_state(self):\n",
    "        self._length = len(self._template)\n",
    "        self._noise_psd[0] = np.inf\n",
    "        self._template_fft = rfft(self._template)/self._sampling_frequency\n",
    "        \n",
    "        self._kernel_fft = self._template_fft / self._noise_psd\n",
    "        self._kernel_normalization = np.real(np.dot(self._kernel_fft, self._template_fft))*self._sampling_frequency/self._length # sum(SS*/J)\n",
    "        \n",
    "        self._chi2_scale = 4/self._sampling_frequency/len(self._template)\n",
    "\n",
    "    def apply(self, trace):\n",
    "\n",
    "        trace_fft = rfft(trace)/self._sampling_frequency # V\n",
    "        trace_filtered = self._kernel_fft * trace_fft / self._kernel_normalization # Phi * V\n",
    "        chisq0 = np.real(\n",
    "            np.dot(trace_fft.conjugate()/self._noise_psd,\n",
    "                   trace_fft)*self._sampling_frequency/self._length\n",
    "        )\n",
    "        \n",
    "#         if shift_usec is not None:\n",
    "#             amp = np.real(np.sum(\n",
    "#                 signal_filt*np.exp(2.0j*np.pi*t0*self._fft_freqs),\n",
    "#                 axis=-1,\n",
    "#             ))*self._df\n",
    "\n",
    "#         else:\n",
    "        amp0 = np.real(np.sum(\n",
    "            trace_filtered, axis=-1\n",
    "        ))*self._sampling_frequency/self._length\n",
    "\n",
    "\n",
    "        # total chisq\n",
    "        chisq = chisq0 - (amp0**2)*self._kernel_normalization\n",
    "        \n",
    "        return amp0, chisq"
   ]
  },
  {
   "cell_type": "code",
   "execution_count": 54,
   "metadata": {},
   "outputs": [],
   "source": [
    "n = 1000\n",
    "L = 4000\n",
    "noise_traces = np.random.normal(size=(n,L))"
   ]
  },
  {
   "cell_type": "code",
   "execution_count": 55,
   "metadata": {},
   "outputs": [],
   "source": [
    "template = np.concatenate((np.zeros(1000), 3000-np.arange(3000)))/3000"
   ]
  },
  {
   "cell_type": "code",
   "execution_count": 56,
   "metadata": {},
   "outputs": [],
   "source": [
    "true_amplitudes = np.random.uniform(5,10,size=n)"
   ]
  },
  {
   "cell_type": "code",
   "execution_count": 57,
   "metadata": {},
   "outputs": [],
   "source": [
    "traces = noise_traces + true_amplitudes[:,None]*template[None,:]"
   ]
  },
  {
   "cell_type": "code",
   "execution_count": 58,
   "metadata": {},
   "outputs": [],
   "source": [
    "#noise_psd = np.ones(L//2+1)\n",
    "\n",
    "freq, noise_fft = signal.periodogram(noise_traces, fs=1e-6)\n",
    "noise_psd = np.mean(noise_fft, axis=0)"
   ]
  },
  {
   "cell_type": "raw",
   "metadata": {},
   "source": [
    "plt.loglog(freq[1:], psd[1:])\n",
    "plt.show()"
   ]
  },
  {
   "cell_type": "code",
   "execution_count": 59,
   "metadata": {},
   "outputs": [],
   "source": [
    "of = OptimumFilter(template, noise_psd, 1e-6)"
   ]
  },
  {
   "cell_type": "code",
   "execution_count": 60,
   "metadata": {},
   "outputs": [],
   "source": [
    "of_results = [ of.apply(t) for t in traces ]\n",
    "amplitudes = np.array([r[0] for r in of_results])"
   ]
  },
  {
   "cell_type": "code",
   "execution_count": 61,
   "metadata": {},
   "outputs": [
    {
     "data": {
      "text/plain": [
       "[<matplotlib.lines.Line2D at 0x7f4342c88610>]"
      ]
     },
     "execution_count": 61,
     "metadata": {},
     "output_type": "execute_result"
    },
    {
     "data": {
      "image/png": "[encoded data removed]",
      "text/plain": [
       "<Figure size 432x288 with 1 Axes>"
      ]
     },
     "metadata": {
      "needs_background": "light"
     },
     "output_type": "display_data"
    }
   ],
   "source": [
    "plt.plot(amplitudes/true_amplitudes)"
   ]
  },
  {
   "cell_type": "code",
   "execution_count": 63,
   "metadata": {},
   "outputs": [],
   "source": [
    "chisqs = np.array([r[1] for r in of_results])"
   ]
  },
  {
   "cell_type": "code",
   "execution_count": 70,
   "metadata": {},
   "outputs": [
    {
     "data": {
      "image/png": "[encoded data removed]",
      "text/plain": [
       "<Figure size 432x288 with 1 Axes>"
      ]
     },
     "metadata": {
      "needs_background": "light"
     },
     "output_type": "display_data"
    }
   ],
   "source": [
    "plt.hist2d(amplitudes, chisqs/4000, bins=(np.linspace(3,12,91), np.linspace(0.5,1.5,51)))\n",
    "plt.show()"
   ]
  },
  {
   "cell_type": "code",
   "execution_count": null,
   "metadata": {},
   "outputs": [],
   "source": []
  },
  {
   "cell_type": "code",
   "execution_count": null,
   "metadata": {},
   "outputs": [],
   "source": []
  }
 ],
 "metadata": {
  "kernelspec": {
   "display_name": "CDMS V04-08",
   "language": "python",
   "name": "cdms_v04-08"
  },
  "language_info": {
   "codemirror_mode": {
    "name": "ipython",
    "version": 3
   },
   "file_extension": ".py",
   "mimetype": "text/x-python",
   "name": "python",
   "nbconvert_exporter": "python",
   "pygments_lexer": "ipython3",
   "version": "3.7.6"
  }
 },
 "nbformat": 4,
 "nbformat_minor": 4
}
