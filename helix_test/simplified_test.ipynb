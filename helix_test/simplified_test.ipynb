{
 "cells": [
  {
   "cell_type": "code",
   "execution_count": 2,
   "id": "623b7499-2373-4440-8b54-6ae0a39b0212",
   "metadata": {},
   "outputs": [],
   "source": [
    "import helix as hx\n",
    "import strax as sx\n",
    "\n",
    "run = 'run10'\n",
    "output_dir = 'test_helix_data'\n",
    "\n"
   ]
  },
  {
   "cell_type": "code",
   "execution_count": 3,
   "id": "f933e66d-63e6-4a60-9d26-42d03851b57c",
   "metadata": {},
   "outputs": [],
   "source": [
    "# creating context, registering storage and plugins\n",
    "context = sx.Context(storage=[sx.DataDirectory(output_dir, provide_run_metadata=True), ],\n",
    "                     register=[hx.ToyDataRawRecords,\n",
    "                               hx.QPTriggers, hx.UVTriggers,\n",
    "                               hx.Events, hx.NoiseEvents,\n",
    "                               hx.NoisePSDs, hx.FitResults])    # all the plugins required for getting fit_results\n",
    "\n"
   ]
  },
  {
   "cell_type": "code",
   "execution_count": 4,
   "id": "7f6f54de-3106-42f0-a5ca-2c60c74c9825",
   "metadata": {},
   "outputs": [],
   "source": [
    "# creating a dictionary of plugins' options that we want to modify. \n",
    "config = {'run_metadata_directory': output_dir,      # for the hx.ToyDataRawRecords plugin\n",
    "          'noise_events_random_seed': 1}             # for the hx.NoiseEvents plugin\n",
    "\n"
   ]
  },
  {
   "cell_type": "code",
   "execution_count": 5,
   "id": "5a4e045c-50a0-4c54-8a12-2c20003ff715",
   "metadata": {},
   "outputs": [],
   "source": [
    "# passing the settings to the plugins. Strax finds which plugins take these options automatically\n",
    "context.set_config(config)\n",
    "\n"
   ]
  },
  {
   "cell_type": "code",
   "execution_count": 6,
   "id": "e797ba8e-2611-4ba8-ac41-746a5ad0af69",
   "metadata": {},
   "outputs": [
    {
     "name": "stdout",
     "output_type": "stream",
     "text": [
      "Removing old incomplete data in test_helix_data/run10-raw_records-p2akieui5i_temp\n",
      "Removing old incomplete data in test_helix_data/run10-qp_triggers-lndpgukla7_temp\n",
      "Removing old incomplete data in test_helix_data/run10-uv_triggers-il2q6cmf4u_temp\n",
      "Removing old incomplete data in test_helix_data/run10-noise_events-ewlivewzgk_temp\n",
      "Removing old incomplete data in test_helix_data/run10-noise_psds-sczmqks62i_temp\n",
      "Removing old incomplete data in test_helix_data/run10-events-qo53xam52j_temp\n",
      "Removing old incomplete data in test_helix_data/run10-fit_results-wbgbfoaxyc_temp\n"
     ]
    },
    {
     "ename": "FileNotFoundError",
     "evalue": "[Errno 2] No such file or directory: 'plugins/event_rqs/default_templates.npy'",
     "output_type": "error",
     "traceback": [
      "\u001b[0;31m---------------------------------------------------------------------------\u001b[0m",
      "\u001b[0;31mFileNotFoundError\u001b[0m                         Traceback (most recent call last)",
      "Cell \u001b[0;32mIn[6], line 2\u001b[0m\n\u001b[1;32m      1\u001b[0m \u001b[38;5;66;03m# running the processing (or retrieving the data, if it was processed earlier)\u001b[39;00m\n\u001b[0;32m----> 2\u001b[0m fit_results \u001b[38;5;241m=\u001b[39m \u001b[43mcontext\u001b[49m\u001b[38;5;241;43m.\u001b[39;49m\u001b[43mget_array\u001b[49m\u001b[43m(\u001b[49m\u001b[43mrun\u001b[49m\u001b[43m,\u001b[49m\u001b[43m \u001b[49m\u001b[38;5;124;43m'\u001b[39;49m\u001b[38;5;124;43mfit_results\u001b[39;49m\u001b[38;5;124;43m'\u001b[39;49m\u001b[43m)\u001b[49m  \u001b[38;5;66;03m# hx.FitResults plugin provides this data type \u001b[39;00m\n\u001b[1;32m      4\u001b[0m \u001b[38;5;66;03m# fit_results is a structured numpy array of events containing fields described in the FitResults documentation\u001b[39;00m\n\u001b[1;32m      5\u001b[0m \u001b[38;5;66;03m# one can work with it as a dictionary on numpy arrays, or as a numpy array of dictionaries. Works both ways. E.g.\u001b[39;00m\n\u001b[1;32m      6\u001b[0m \u001b[38;5;66;03m# fit_results['sum_uv_amplitude'][:100]  # amplitudes of UV signals in the sum of all channels in the first 100 events\u001b[39;00m\n\u001b[1;32m      7\u001b[0m \u001b[38;5;66;03m# fit_results[:100]['sum_uv_amplitude']  # same\u001b[39;00m\n",
      "File \u001b[0;32m~/anaconda3/envs/delight/lib/python3.11/site-packages/strax/context.py:1799\u001b[0m, in \u001b[0;36mContext.get_array\u001b[0;34m(self, run_id, targets, save, max_workers, **kwargs)\u001b[0m\n\u001b[1;32m   1795\u001b[0m \u001b[38;5;28;01melse\u001b[39;00m:\n\u001b[1;32m   1796\u001b[0m     source \u001b[38;5;241m=\u001b[39m \u001b[38;5;28mself\u001b[39m\u001b[38;5;241m.\u001b[39mget_iter(\n\u001b[1;32m   1797\u001b[0m         run_ids[\u001b[38;5;241m0\u001b[39m], targets, save\u001b[38;5;241m=\u001b[39msave, max_workers\u001b[38;5;241m=\u001b[39mmax_workers, \u001b[38;5;241m*\u001b[39m\u001b[38;5;241m*\u001b[39mkwargs\n\u001b[1;32m   1798\u001b[0m     )\n\u001b[0;32m-> 1799\u001b[0m     results \u001b[38;5;241m=\u001b[39m \u001b[43m[\u001b[49m\u001b[43mx\u001b[49m\u001b[38;5;241;43m.\u001b[39;49m\u001b[43mdata\u001b[49m\u001b[43m \u001b[49m\u001b[38;5;28;43;01mfor\u001b[39;49;00m\u001b[43m \u001b[49m\u001b[43mx\u001b[49m\u001b[43m \u001b[49m\u001b[38;5;129;43;01min\u001b[39;49;00m\u001b[43m \u001b[49m\u001b[43msource\u001b[49m\u001b[43m]\u001b[49m\n\u001b[1;32m   1801\u001b[0m results \u001b[38;5;241m=\u001b[39m np\u001b[38;5;241m.\u001b[39mconcatenate(results)\n\u001b[1;32m   1802\u001b[0m \u001b[38;5;28;01mreturn\u001b[39;00m results\n",
      "File \u001b[0;32m~/anaconda3/envs/delight/lib/python3.11/site-packages/strax/context.py:1799\u001b[0m, in \u001b[0;36m<listcomp>\u001b[0;34m(.0)\u001b[0m\n\u001b[1;32m   1795\u001b[0m \u001b[38;5;28;01melse\u001b[39;00m:\n\u001b[1;32m   1796\u001b[0m     source \u001b[38;5;241m=\u001b[39m \u001b[38;5;28mself\u001b[39m\u001b[38;5;241m.\u001b[39mget_iter(\n\u001b[1;32m   1797\u001b[0m         run_ids[\u001b[38;5;241m0\u001b[39m], targets, save\u001b[38;5;241m=\u001b[39msave, max_workers\u001b[38;5;241m=\u001b[39mmax_workers, \u001b[38;5;241m*\u001b[39m\u001b[38;5;241m*\u001b[39mkwargs\n\u001b[1;32m   1798\u001b[0m     )\n\u001b[0;32m-> 1799\u001b[0m     results \u001b[38;5;241m=\u001b[39m \u001b[43m[\u001b[49m\u001b[43mx\u001b[49m\u001b[38;5;241;43m.\u001b[39;49m\u001b[43mdata\u001b[49m\u001b[43m \u001b[49m\u001b[38;5;28;43;01mfor\u001b[39;49;00m\u001b[43m \u001b[49m\u001b[43mx\u001b[49m\u001b[43m \u001b[49m\u001b[38;5;129;43;01min\u001b[39;49;00m\u001b[43m \u001b[49m\u001b[43msource\u001b[49m\u001b[43m]\u001b[49m\n\u001b[1;32m   1801\u001b[0m results \u001b[38;5;241m=\u001b[39m np\u001b[38;5;241m.\u001b[39mconcatenate(results)\n\u001b[1;32m   1802\u001b[0m \u001b[38;5;28;01mreturn\u001b[39;00m results\n",
      "File \u001b[0;32m~/anaconda3/envs/delight/lib/python3.11/site-packages/strax/context.py:1584\u001b[0m, in \u001b[0;36mContext.get_iter\u001b[0;34m(self, run_id, targets, save, max_workers, time_range, seconds_range, time_within, time_selection, selection, keep_columns, drop_columns, allow_multiple, progress_bar, multi_run_progress_bar, chunk_number, processor, combining, **kwargs)\u001b[0m\n\u001b[1;32m   1576\u001b[0m     \u001b[38;5;28;01melif\u001b[39;00m \u001b[38;5;28mself\u001b[39m\u001b[38;5;241m.\u001b[39mcontext_config[\u001b[38;5;124m\"\u001b[39m\u001b[38;5;124mtimeout\u001b[39m\u001b[38;5;124m\"\u001b[39m] \u001b[38;5;241m>\u001b[39m \u001b[38;5;241m7200\u001b[39m \u001b[38;5;129;01mor\u001b[39;00m (\n\u001b[1;32m   1577\u001b[0m         \u001b[38;5;28mself\u001b[39m\u001b[38;5;241m.\u001b[39mcontext_config[\u001b[38;5;124m\"\u001b[39m\u001b[38;5;124mallow_lazy\u001b[39m\u001b[38;5;124m\"\u001b[39m] \u001b[38;5;129;01mand\u001b[39;00m \u001b[38;5;129;01mnot\u001b[39;00m \u001b[38;5;28mself\u001b[39m\u001b[38;5;241m.\u001b[39mcontext_config[\u001b[38;5;124m\"\u001b[39m\u001b[38;5;124mallow_multiprocess\u001b[39m\u001b[38;5;124m\"\u001b[39m]\n\u001b[1;32m   1578\u001b[0m     ):\n\u001b[1;32m   1579\u001b[0m         \u001b[38;5;66;03m# For allow_multiple we don't want allow this when in lazy mode\u001b[39;00m\n\u001b[1;32m   1580\u001b[0m         \u001b[38;5;66;03m# with long timeouts (lazy-mode is disabled if multiprocessing\u001b[39;00m\n\u001b[1;32m   1581\u001b[0m         \u001b[38;5;66;03m# so if that is activated, we can also continue)\u001b[39;00m\n\u001b[1;32m   1582\u001b[0m         \u001b[38;5;28;01mraise\u001b[39;00m \u001b[38;5;167;01mRuntimeError\u001b[39;00m(\u001b[38;5;124mf\u001b[39m\u001b[38;5;124m\"\u001b[39m\u001b[38;5;124mCannot allow_multiple in lazy mode or with long timeouts.\u001b[39m\u001b[38;5;124m\"\u001b[39m)\n\u001b[0;32m-> 1584\u001b[0m components \u001b[38;5;241m=\u001b[39m \u001b[38;5;28;43mself\u001b[39;49m\u001b[38;5;241;43m.\u001b[39;49m\u001b[43mget_components\u001b[49m\u001b[43m(\u001b[49m\n\u001b[1;32m   1585\u001b[0m \u001b[43m    \u001b[49m\u001b[43mrun_id\u001b[49m\u001b[43m,\u001b[49m\n\u001b[1;32m   1586\u001b[0m \u001b[43m    \u001b[49m\u001b[43mtargets\u001b[49m\u001b[38;5;241;43m=\u001b[39;49m\u001b[43mtargets\u001b[49m\u001b[43m,\u001b[49m\n\u001b[1;32m   1587\u001b[0m \u001b[43m    \u001b[49m\u001b[43msave\u001b[49m\u001b[38;5;241;43m=\u001b[39;49m\u001b[43msave\u001b[49m\u001b[43m,\u001b[49m\n\u001b[1;32m   1588\u001b[0m \u001b[43m    \u001b[49m\u001b[43mtime_range\u001b[49m\u001b[38;5;241;43m=\u001b[39;49m\u001b[43mtime_range\u001b[49m\u001b[43m,\u001b[49m\n\u001b[1;32m   1589\u001b[0m \u001b[43m    \u001b[49m\u001b[43mchunk_number\u001b[49m\u001b[38;5;241;43m=\u001b[39;49m\u001b[43mchunk_number\u001b[49m\u001b[43m,\u001b[49m\n\u001b[1;32m   1590\u001b[0m \u001b[43m    \u001b[49m\u001b[43mmulti_run_progress_bar\u001b[49m\u001b[38;5;241;43m=\u001b[39;49m\u001b[43mmulti_run_progress_bar\u001b[49m\u001b[43m,\u001b[49m\n\u001b[1;32m   1591\u001b[0m \u001b[43m    \u001b[49m\u001b[43mcombining\u001b[49m\u001b[38;5;241;43m=\u001b[39;49m\u001b[43mcombining\u001b[49m\u001b[43m,\u001b[49m\n\u001b[1;32m   1592\u001b[0m \u001b[43m\u001b[49m\u001b[43m)\u001b[49m\n\u001b[1;32m   1594\u001b[0m \u001b[38;5;66;03m# Cleanup the temp plugins\u001b[39;00m\n\u001b[1;32m   1595\u001b[0m \u001b[38;5;28;01mfor\u001b[39;00m k \u001b[38;5;129;01min\u001b[39;00m \u001b[38;5;28mlist\u001b[39m(\u001b[38;5;28mself\u001b[39m\u001b[38;5;241m.\u001b[39m_plugin_class_registry\u001b[38;5;241m.\u001b[39mkeys()):\n",
      "File \u001b[0;32m~/anaconda3/envs/delight/lib/python3.11/site-packages/strax/context.py:1332\u001b[0m, in \u001b[0;36mContext.get_components\u001b[0;34m(self, run_id, targets, save, time_range, chunk_number, multi_run_progress_bar, combining)\u001b[0m\n\u001b[1;32m   1330\u001b[0m \u001b[38;5;28;01mfor\u001b[39;00m d \u001b[38;5;129;01min\u001b[39;00m plugins\u001b[38;5;241m.\u001b[39mvalues():\n\u001b[1;32m   1331\u001b[0m     \u001b[38;5;28mself\u001b[39m\u001b[38;5;241m.\u001b[39m_set_plugin_config(d, run_id, tolerant\u001b[38;5;241m=\u001b[39m\u001b[38;5;28;01mFalse\u001b[39;00m)\n\u001b[0;32m-> 1332\u001b[0m     \u001b[43md\u001b[49m\u001b[38;5;241;43m.\u001b[39;49m\u001b[43msetup\u001b[49m\u001b[43m(\u001b[49m\u001b[43m)\u001b[49m\n\u001b[1;32m   1333\u001b[0m \u001b[38;5;28;01mreturn\u001b[39;00m strax\u001b[38;5;241m.\u001b[39mProcessorComponents(\n\u001b[1;32m   1334\u001b[0m     plugins\u001b[38;5;241m=\u001b[39mplugins,\n\u001b[1;32m   1335\u001b[0m     loaders\u001b[38;5;241m=\u001b[39mloaders,\n\u001b[0;32m   (...)\u001b[0m\n\u001b[1;32m   1338\u001b[0m     targets\u001b[38;5;241m=\u001b[39mstrax\u001b[38;5;241m.\u001b[39mto_str_tuple(final_plugin),\n\u001b[1;32m   1339\u001b[0m )\n",
      "File \u001b[0;32m~/Documents/DELight_mtr/helix_test/helix/plugins/event_rqs/fit_results.py:74\u001b[0m, in \u001b[0;36mFitResults.setup\u001b[0;34m(self)\u001b[0m\n\u001b[1;32m     72\u001b[0m \u001b[38;5;28;01mdef\u001b[39;00m \u001b[38;5;21msetup\u001b[39m(\u001b[38;5;28mself\u001b[39m):\n\u001b[1;32m     73\u001b[0m     \u001b[38;5;66;03m# TODO: for the real data we might have different templates for each channel.\u001b[39;00m\n\u001b[0;32m---> 74\u001b[0m     templates \u001b[38;5;241m=\u001b[39m \u001b[43mnp\u001b[49m\u001b[38;5;241;43m.\u001b[39;49m\u001b[43mload\u001b[49m\u001b[43m(\u001b[49m\u001b[38;5;28;43mself\u001b[39;49m\u001b[38;5;241;43m.\u001b[39;49m\u001b[43mtemplates_path\u001b[49m\u001b[43m,\u001b[49m\u001b[43m \u001b[49m\u001b[43mallow_pickle\u001b[49m\u001b[38;5;241;43m=\u001b[39;49m\u001b[38;5;28;43;01mTrue\u001b[39;49;00m\u001b[43m)\u001b[49m\n\u001b[1;32m     75\u001b[0m     \u001b[38;5;28mself\u001b[39m\u001b[38;5;241m.\u001b[39muv_template \u001b[38;5;241m=\u001b[39m templates[\u001b[38;5;241m0\u001b[39m]\n\u001b[1;32m     76\u001b[0m     \u001b[38;5;28mself\u001b[39m\u001b[38;5;241m.\u001b[39mqp_template \u001b[38;5;241m=\u001b[39m templates[\u001b[38;5;241m1\u001b[39m]\n",
      "File \u001b[0;32m~/anaconda3/envs/delight/lib/python3.11/site-packages/numpy/lib/npyio.py:405\u001b[0m, in \u001b[0;36mload\u001b[0;34m(file, mmap_mode, allow_pickle, fix_imports, encoding, max_header_size)\u001b[0m\n\u001b[1;32m    403\u001b[0m     own_fid \u001b[38;5;241m=\u001b[39m \u001b[38;5;28;01mFalse\u001b[39;00m\n\u001b[1;32m    404\u001b[0m \u001b[38;5;28;01melse\u001b[39;00m:\n\u001b[0;32m--> 405\u001b[0m     fid \u001b[38;5;241m=\u001b[39m stack\u001b[38;5;241m.\u001b[39menter_context(\u001b[38;5;28;43mopen\u001b[39;49m\u001b[43m(\u001b[49m\u001b[43mos_fspath\u001b[49m\u001b[43m(\u001b[49m\u001b[43mfile\u001b[49m\u001b[43m)\u001b[49m\u001b[43m,\u001b[49m\u001b[43m \u001b[49m\u001b[38;5;124;43m\"\u001b[39;49m\u001b[38;5;124;43mrb\u001b[39;49m\u001b[38;5;124;43m\"\u001b[39;49m\u001b[43m)\u001b[49m)\n\u001b[1;32m    406\u001b[0m     own_fid \u001b[38;5;241m=\u001b[39m \u001b[38;5;28;01mTrue\u001b[39;00m\n\u001b[1;32m    408\u001b[0m \u001b[38;5;66;03m# Code to distinguish from NumPy binary files and pickles.\u001b[39;00m\n",
      "\u001b[0;31mFileNotFoundError\u001b[0m: [Errno 2] No such file or directory: 'plugins/event_rqs/default_templates.npy'"
     ]
    }
   ],
   "source": [
    "# running the processing (or retrieving the data, if it was processed earlier)\n",
    "fit_results = context.get_array(run, 'fit_results')  # hx.FitResults plugin provides this data type \n",
    "\n",
    "# fit_results is a structured numpy array of events containing fields described in the FitResults documentation\n",
    "# one can work with it as a dictionary on numpy arrays, or as a numpy array of dictionaries. Works both ways. E.g.\n",
    "# fit_results['sum_uv_amplitude'][:100]  # amplitudes of UV signals in the sum of all channels in the first 100 events\n",
    "# fit_results[:100]['sum_uv_amplitude']  # same\n"
   ]
  },
  {
   "cell_type": "code",
   "execution_count": null,
   "id": "95055f4e-4f97-4db0-80f0-c0508d4795d2",
   "metadata": {},
   "outputs": [],
   "source": []
  },
  {
   "cell_type": "code",
   "execution_count": null,
   "id": "675803e5-158c-4239-bc28-7fe2cb53b2d2",
   "metadata": {},
   "outputs": [],
   "source": []
  },
  {
   "cell_type": "code",
   "execution_count": null,
   "id": "ff2dd9a7-ad3b-4832-be3f-6de9f268b1eb",
   "metadata": {},
   "outputs": [],
   "source": []
  }
 ],
 "metadata": {
  "kernelspec": {
   "display_name": "Python 3 (ipykernel)",
   "language": "python",
   "name": "python3"
  },
  "language_info": {
   "codemirror_mode": {
    "name": "ipython",
    "version": 3
   },
   "file_extension": ".py",
   "mimetype": "text/x-python",
   "name": "python",
   "nbconvert_exporter": "python",
   "pygments_lexer": "ipython3",
   "version": "3.9.15"
  }
 },
 "nbformat": 4,
 "nbformat_minor": 5
}
