{
 "cells": [
  {
   "cell_type": "markdown",
   "id": "4ee6df47-9310-492f-a495-3a86aace0be1",
   "metadata": {},
   "source": [
    "To install helix, run `pip install -e /path/to/helix/repo` "
   ]
  },
  {
   "cell_type": "code",
   "execution_count": null,
   "id": "28873021-2848-4f21-9936-83b40dc18236",
   "metadata": {},
   "outputs": [],
   "source": [
    "import helix as hx\n",
    "import strax as sx"
   ]
  },
  {
   "cell_type": "code",
   "execution_count": null,
   "id": "fb9f3962-8934-4d6c-9100-83837067d6f8",
   "metadata": {},
   "outputs": [],
   "source": [
    "from matplotlib import pyplot as plt\n",
    "import numpy as np"
   ]
  },
  {
   "cell_type": "code",
   "execution_count": null,
   "id": "2819f30b-3bbd-4fae-9697-23f515a08955",
   "metadata": {},
   "outputs": [],
   "source": [
    "import os\n",
    "import shutil\n",
    "from glob import glob"
   ]
  },
  {
   "cell_type": "markdown",
   "id": "00b2136d-e9c3-461b-b347-aa2b64009dbf",
   "metadata": {},
   "source": [
    "## Generate toy data"
   ]
  },
  {
   "cell_type": "markdown",
   "id": "545246ac-cf44-4277-b95b-5a82fb8b35ac",
   "metadata": {},
   "source": [
    "Toy data generator is very slow, might take ~20 seconds per 10 seconds of toy data. Don't ask for a lot of toy data if you don't want to wait forever"
   ]
  },
  {
   "cell_type": "code",
   "execution_count": null,
   "id": "a3a8b2e7-588c-4d47-9845-9ae4fe660b62",
   "metadata": {},
   "outputs": [],
   "source": [
    "run_id = 'run10' \n",
    "duration = 10  # seconds\n",
    "raw_data_dir = 'toy_data'  # to save the raw toy data\n",
    "helix_data_dir = 'test_helix_data'  # to save the run metadata\n",
    "baseline_step = 0  # add a baseline equal to baseline_step*channel_index to each channel"
   ]
  },
  {
   "cell_type": "code",
   "execution_count": null,
   "id": "0804a4a8-ae06-4529-9429-835d28cd7089",
   "metadata": {},
   "outputs": [],
   "source": [
    "# remove helix data corresponding to this run_id, if it exists\n",
    "for path in glob(f'{helix_data_dir}/*'):\n",
    "    if os.path.isdir(path):\n",
    "        shutil.rmtree(path)\n",
    "    else:\n",
    "        os.remove(path)\n",
    "    \n",
    "hx.generate_toy_data(run_id, duration, raw_data_dir, helix_data_dir=helix_data_dir, overwrite=True, baseline_step=baseline_step)"
   ]
  },
  {
   "cell_type": "markdown",
   "id": "97957f76-e969-4659-89c4-f370ff1c7b7f",
   "metadata": {},
   "source": [
    "## Process the toy data"
   ]
  },
  {
   "cell_type": "code",
   "execution_count": null,
   "id": "a8aaf228-1751-470c-a219-eb4b9efc6d32",
   "metadata": {},
   "outputs": [],
   "source": [
    "# creating context, registering storage and plugins\n",
    "context = sx.Context(storage=[sx.DataDirectory(helix_data_dir, provide_run_metadata=True), ],\n",
    "                     register=[hx.ToyDataRawRecords,\n",
    "                               hx.QPTriggers, hx.UVTriggers,\n",
    "                               hx.Events, hx.NoiseEvents,\n",
    "                               hx.NoisePSDs, hx.FitResults])    # all the plugins required for getting fit_results\n",
    "\n",
    "# creating a dictionary of plugins' options that we want to modify. \n",
    "config = {'run_metadata_directory': helix_data_dir,      # for the hx.ToyDataRawRecords plugin\n",
    "          'noise_events_random_seed': 1}                 # for the hx.NoiseEvents plugin\n",
    "\n",
    "# passing the settings to the plugins. Strax finds which plugins take these options automatically\n",
    "context.set_config(config)\n",
    "\n",
    "# running the processing (or retrieving the data, if it was processed earlier)\n",
    "psds = context.get_array(run_id, 'noise_psds')  # Helix needs to prebuild PSDs before calculating fit_results \n",
    "fit_results = context.get_array(run_id, 'fit_results')  # hx.FitResults plugin provides this data type\n",
    "\n",
    "# fit_results is a structured numpy array of events containing fields described in the FitResults documentation\n",
    "# one can work with it as a dictionary on numpy arrays, or as a numpy array of dictionaries. Works both ways. E.g.\n",
    "# fit_results['sum_uv_amplitude'][:100]  # amplitudes of UV signals in the sum of all channels in the first 100 events\n",
    "# fit_results[:100]['sum_uv_amplitude']  # same"
   ]
  },
  {
   "cell_type": "code",
   "execution_count": null,
   "id": "1ff9f8f2-b522-4315-ab72-caf8156509d6",
   "metadata": {},
   "outputs": [],
   "source": [
    "# to show all the field names stored in the fit_results numpy structured array\n",
    "fit_results.dtype.names"
   ]
  },
  {
   "cell_type": "code",
   "execution_count": null,
   "id": "7c68e6cf-9f38-4790-9a95-14414b1b6834",
   "metadata": {},
   "outputs": [],
   "source": [
    "# 2d scatter plot of QP vs UV signal amplitudes\n",
    "plt.scatter(fit_results['triggered_uv_amplitude'], fit_results['triggered_qp_amplitude'])\n",
    "plt.xlabel('UV signal amplitude')\n",
    "plt.ylabel('QP signal amplitude')\n",
    "plt.xlim(-1000, 20000)\n",
    "plt.ylim(-1000, 40000)\n",
    "plt.show()"
   ]
  },
  {
   "cell_type": "code",
   "execution_count": null,
   "id": "a30ec9fb-12e6-49ae-bd6c-e1bd189ff5c3",
   "metadata": {},
   "outputs": [],
   "source": []
  },
  {
   "cell_type": "code",
   "execution_count": null,
   "id": "0c092b16-f838-46af-bd37-e1eaa925720f",
   "metadata": {},
   "outputs": [],
   "source": [
    "events = context.get_array(run_id, 'events')"
   ]
  },
  {
   "cell_type": "code",
   "execution_count": null,
   "id": "15dbc02d-299a-4a1d-b73a-f50ab66cfebe",
   "metadata": {},
   "outputs": [],
   "source": [
    "events.dtype.names"
   ]
  },
  {
   "cell_type": "code",
   "execution_count": null,
   "id": "ca1c2060-c7da-4976-aff4-ee2e7898d5e9",
   "metadata": {},
   "outputs": [],
   "source": [
    "# Building the channel map and loading the templates\n",
    "\n",
    "channels = hx.Channels(hx.DEFAULT_CHANNEL_MAP)\n",
    "\n",
    "template_path = './plugins/event_rqs/default_templates.npy'\n",
    "templates = np.load(template_path, allow_pickle=True)\n",
    "uv_template = templates[0]\n",
    "qp_template = templates[1]"
   ]
  },
  {
   "cell_type": "code",
   "execution_count": null,
   "id": "4a31eb11-6027-4e0a-af28-ca3a4b4eb978",
   "metadata": {},
   "outputs": [],
   "source": [
    "# change this to choose another event if the one below is a bad one by chance\n",
    "i = 3\n",
    "\n",
    "plt.figure(figsize=(10,16))\n",
    "artificial_baselines = np.arange(len(channels)) * 300  # adding artificial baselines to each channel to separate the channels on the plot\n",
    "plt.plot(events['channel_data'][i].T + artificial_baselines, lw=0.5, alpha=0.8, color='C0')  # plotting data in each channel\n",
    "\n",
    "event = fit_results[i]\n",
    "\n",
    "# plotting two-template fits in the vacuum channels\n",
    "for i_vac, i_ch in enumerate(channels.indices_of_type(hx.ChannelType.VACUUM)):\n",
    "    # i_vac is the ordinal index of the vacuum channel\n",
    "    # i_ch is the corrending ordinal index in the array of all channels\n",
    "    fit = event['vacuum_channel_uv_amplitude'][i_vac] * np.roll(uv_template, event['vacuum_channel_uv_offset'][i_vac]) + \\\n",
    "          event['vacuum_channel_qp_amplitude'][i_vac] * np.roll(qp_template, event['vacuum_channel_qp_offset'][i_vac])\n",
    "    x = np.arange(len(uv_template)) - hx.DEFAULT_ALLOWED_FIT_SHIFTS[0]  # currently, the FitResults plugin does not fit the entire event. It skips -hx.DEFAULT_ALLOWED_FIT_SHIFTS[0] samples.\n",
    "    plt.plot(x, fit+artificial_baselines[i_ch], lw=1, alpha=0.8, color='C1')\n",
    "\n",
    "# plotting one-template fits in the submerged channels\n",
    "for i_sub, i_ch in enumerate(channels.indices_of_type(hx.ChannelType.SUBMERGED)):\n",
    "    fit = event['submerged_channel_uv_amplitude'][i_sub] * np.roll(uv_template, event['submerged_channel_uv_offset'][i_sub])\n",
    "    x = np.arange(len(uv_template)) - hx.DEFAULT_ALLOWED_FIT_SHIFTS[0]\n",
    "    plt.plot(x, fit+artificial_baselines[i_ch], lw=1, color='C3')\n",
    "\n",
    "\n",
    "plt.xlabel('Time (samples)')\n",
    "plt.ylabel('Current (ADC units)')\n",
    "plt.show()"
   ]
  },
  {
   "cell_type": "markdown",
   "id": "269a1a24-b306-4f8e-adc6-50c8b9bb4991",
   "metadata": {},
   "source": [
    "### Please, clear the output of all cells after running this notebook. Do not push the cell outputs to git!\n",
    "In the upper left corner click Edit -> Clear outputs of all cells"
   ]
  }
 ],
 "metadata": {
  "kernelspec": {
   "display_name": "Python 3 (ipykernel)",
   "language": "python",
   "name": "python3"
  },
  "language_info": {
   "codemirror_mode": {
    "name": "ipython",
    "version": 3
   },
   "file_extension": ".py",
   "mimetype": "text/x-python",
   "name": "python",
   "nbconvert_exporter": "python",
   "pygments_lexer": "ipython3",
   "version": "3.11.8"
  }
 },
 "nbformat": 4,
 "nbformat_minor": 5
}
