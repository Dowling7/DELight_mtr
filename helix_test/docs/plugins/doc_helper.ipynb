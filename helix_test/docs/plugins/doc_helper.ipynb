{
 "cells": [
  {
   "cell_type": "markdown",
   "id": "14f35cd5-cc21-4bad-8549-c5da1d727614",
   "metadata": {},
   "source": [
    "This notebook helps converting Plugin's code into a documentation page. Namely, it coverts the code responsible for config options and dtypes into html tables"
   ]
  },
  {
   "cell_type": "code",
   "execution_count": 188,
   "id": "f67f53bd-a838-49bc-9206-11cba5a717ac",
   "metadata": {},
   "outputs": [],
   "source": [
    "import helix as hx"
   ]
  },
  {
   "cell_type": "markdown",
   "id": "73f87ef9-fd3a-479c-bb11-6858bc5f8b0d",
   "metadata": {},
   "source": [
    "## Options table"
   ]
  },
  {
   "cell_type": "markdown",
   "id": "8f629121-cf32-45c9-8035-7581a89d1bdf",
   "metadata": {},
   "source": [
    "Copy code containing config options from the plugin source code into the cell below"
   ]
  },
  {
   "cell_type": "code",
   "execution_count": 242,
   "id": "9eeb2a1c-e8df-4ddd-bd71-869573c1fb1a",
   "metadata": {},
   "outputs": [],
   "source": [
    "config = \\\n",
    "'''\n",
    "    record_length = strax.Config(\n",
    "        default=hx.DEFAULT_RECORD_LENGTH, track=False, type=int,\n",
    "        help='Number of samples per raw_record'\n",
    "    )\n",
    "    sampling_dt = strax.Config(\n",
    "        default=hx.DEFAULT_SAMPLING_DT, track=False, type=int,\n",
    "        help='Sampling length in ns'\n",
    "    )\n",
    "    daq_data_directory = strax.Config(\n",
    "        default='toy_data', track=False, type=str,\n",
    "        help='Path to the directory containing run directories with the raw data'\n",
    "    )\n",
    "    channel_map = strax.Config(\n",
    "        default=hx.DEFAULT_CHANNEL_MAP, track=False, type=dict,\n",
    "        help='Dictionary mapping channel types (SUBMERGED, VACUUM) to the corresponding range of channel numbers'\n",
    "    )\n",
    "    run_metadata_directory = strax.Config(\n",
    "        default='', track=False, type=str,\n",
    "        help='Path to the directory containing run json metadata'\n",
    "    )\n",
    "'''"
   ]
  },
  {
   "cell_type": "code",
   "execution_count": 243,
   "id": "2bddffff-ab05-474d-b8f8-372a119b7dbb",
   "metadata": {},
   "outputs": [],
   "source": [
    "def get_row(option):\n",
    "    if not('default' in option and 'type' in option and 'help' in option):\n",
    "        return ''\n",
    "    name = option.split('=')[0].strip()\n",
    "    t = option.split('type=')[1].split(',')[0]\n",
    "    default = option.split('default=')[1].split(',')[0]\n",
    "    if 'hx.' in default:\n",
    "        default = str(eval(default))\n",
    "    description = ''.join([str(o)+' ' for o in option.split(\"help='\")[1].split(\"'\") if not o.isspace()])\n",
    "    return \\\n",
    "f\"\"\"\n",
    "    <tr>\n",
    "        <td><tt>{name}</tt></td><td>{t}</td><td>{default}</td><td>{description}</td>\n",
    "    </tr>\"\"\""
   ]
  },
  {
   "cell_type": "code",
   "execution_count": 244,
   "id": "6b492f4d-677d-41c0-bd96-54e5250082b5",
   "metadata": {},
   "outputs": [],
   "source": [
    "table = \\\n",
    "'''\n",
    "<table>\n",
    "    <thead align=left>\n",
    "        <tr><th>option</th><th>type</th><th>default</th><th>description</th></tr>\n",
    "    </thead>'''\n",
    "\n",
    "for option in config.split(')\\n'):\n",
    "    if not option.isspace():\n",
    "        table += get_row(option)\n",
    "        \n",
    "table += \\\n",
    "'''\n",
    "</table>'''"
   ]
  },
  {
   "cell_type": "markdown",
   "id": "1d7efad7-40ac-4f67-bb88-d19440433d3c",
   "metadata": {},
   "source": [
    "Copy the output below into the documentation md page"
   ]
  },
  {
   "cell_type": "code",
   "execution_count": 245,
   "id": "94398397-c758-4c52-9688-9da08cb423ad",
   "metadata": {},
   "outputs": [
    {
     "name": "stdout",
     "output_type": "stream",
     "text": [
      "\n",
      "<table>\n",
      "    <thead align=left>\n",
      "        <tr><th>option</th><th>type</th><th>default</th><th>description</th></tr>\n",
      "    </thead>\n",
      "    <tr>\n",
      "        <td><tt>record_length</tt></td><td>int</td><td>1250000</td><td>Number of samples per raw_record </td>\n",
      "    </tr>\n",
      "    <tr>\n",
      "        <td><tt>sampling_dt</tt></td><td>int</td><td>4000</td><td>Sampling length in ns </td>\n",
      "    </tr>\n",
      "    <tr>\n",
      "        <td><tt>daq_data_directory</tt></td><td>str</td><td>'toy_data'</td><td>Path to the directory containing run directories with the raw data </td>\n",
      "    </tr>\n",
      "    <tr>\n",
      "        <td><tt>channel_map</tt></td><td>dict</td><td>{<ChannelType.SUBMERGED: 0>: (1, 35), <ChannelType.VACUUM: 1>: (36, 50)}</td><td>Dictionary mapping channel types (SUBMERGED, VACUUM) to the corresponding range of channel numbers </td>\n",
      "    </tr>\n",
      "    <tr>\n",
      "        <td><tt>run_metadata_directory</tt></td><td>str</td><td>''</td><td>Path to the directory containing run json metadata </td>\n",
      "    </tr>\n",
      "</table>\n"
     ]
    }
   ],
   "source": [
    "print(table)"
   ]
  },
  {
   "cell_type": "code",
   "execution_count": null,
   "id": "5d04544f-23dd-4bf5-9cfc-307730fb5640",
   "metadata": {},
   "outputs": [],
   "source": []
  },
  {
   "cell_type": "code",
   "execution_count": null,
   "id": "7d244e0f-a7ea-4280-a2b3-f1a123737142",
   "metadata": {},
   "outputs": [],
   "source": []
  },
  {
   "cell_type": "markdown",
   "id": "4b60ecf5-b988-4346-bc22-2d42f7465f6a",
   "metadata": {},
   "source": [
    "## dtype table"
   ]
  },
  {
   "cell_type": "markdown",
   "id": "b6baffd2-4657-4f6d-8fb8-763e6241dc0a",
   "metadata": {},
   "source": [
    "Look for infer_dtype method or dtype property in the plugin's source code to find its dtype. Copy the dtype code into the cell below. Run the following cells"
   ]
  },
  {
   "cell_type": "code",
   "execution_count": 246,
   "id": "8001b2d0-bbd9-42ee-96cd-34fc1a96ba27",
   "metadata": {},
   "outputs": [],
   "source": [
    "dtype = \\\n",
    "'''\n",
    "time_dt_fields + [\n",
    "        (('Channel number', 'channel'), np.int16),\n",
    "        (('Channel type', 'channel_type'), np.int16),\n",
    "        (('Id of the block of records in the run', 'block_id'), np.int32),\n",
    "        (('Record data in raw ADC counts', 'data'), np.int16, record_length),\n",
    "    ]'''"
   ]
  },
  {
   "cell_type": "code",
   "execution_count": 247,
   "id": "5605ff8e-c965-4e18-be7b-3f7bdc5a7e94",
   "metadata": {},
   "outputs": [],
   "source": [
    "def process_time_fields(time_fields):\n",
    "    if 'time_dt_fields' in time_fields:\n",
    "        return \"\"\"\n",
    "        (('Start time since unix epoch [ns]', 'time'), np.int64),\n",
    "        (('Length of the interval in samples', 'length'), np.int64),\n",
    "        (('Width of one sample [ns]', 'dt'), np.int16),\"\"\".split('((')\n",
    "    else:\n",
    "        return \"\"\"\n",
    "        (('Start time since unix epoch [ns]', 'time'), np.int64),\n",
    "        (('Exclusive end time since unix epoch [ns]', 'endtime'), np.int64),\"\"\".split('((')        \n",
    "    \n",
    "\n",
    "def get_dtype_row(field):\n",
    "    description = field.split(',')[0].strip(\"'\")\n",
    "    name = field.split(',')[1].split(\"')\")[0].strip().strip(\"'\")\n",
    "    t = field.split(\"), np.\")[1]\n",
    "    if '\\n' in t:\n",
    "        t = t.split('\\n')[0]\n",
    "    if len(t.strip().strip('),')) > 10:\n",
    "        shape = ','.join(t.split(',')[1:]).strip(', ')\n",
    "        if shape[-2:]=='))':\n",
    "            shape = shape[:-1]\n",
    "        if shape[0]!='(':\n",
    "            shape = '(' + shape\n",
    "        t = t.split(',')[0]\n",
    "    else:\n",
    "        shape = '-'\n",
    "        t = t.strip().strip('),')\n",
    "    return \\\n",
    "f\"\"\"\n",
    "    <tr>\n",
    "        <td><tt>{name}</tt></td><td>{t}</td><td>{shape}</td><td>{description}</td>\n",
    "    </tr>\"\"\""
   ]
  },
  {
   "cell_type": "code",
   "execution_count": 248,
   "id": "03931f44-05ae-4e0e-b980-7aeb6ec2e810",
   "metadata": {},
   "outputs": [],
   "source": [
    "time_fields = dtype.split('+')[0].strip()\n",
    "other_fields = dtype.split('+')[1].strip(' [').split('((')\n",
    "\n",
    "fields = process_time_fields(time_fields) + other_fields\n",
    "\n",
    "table = \\\n",
    "'''\n",
    "<table>\n",
    "    <thead align=left>\n",
    "        <tr><th>field</th><th>type</th><th>shape</th><th>description</th></tr>\n",
    "    </thead>'''\n",
    "\n",
    "for field in fields:\n",
    "    if not field.isspace():\n",
    "        table += get_dtype_row(field)\n",
    "        \n",
    "table += \\\n",
    "'''\n",
    "</table>'''"
   ]
  },
  {
   "cell_type": "markdown",
   "id": "714d7a93-9a1d-46e5-b482-54d24df8b2a8",
   "metadata": {},
   "source": [
    "Copy the output below into the documentation md page"
   ]
  },
  {
   "cell_type": "code",
   "execution_count": 249,
   "id": "a8418f80-beec-44ff-b01b-d8d19b97312e",
   "metadata": {},
   "outputs": [
    {
     "name": "stdout",
     "output_type": "stream",
     "text": [
      "\n",
      "<table>\n",
      "    <thead align=left>\n",
      "        <tr><th>field</th><th>type</th><th>shape</th><th>description</th></tr>\n",
      "    </thead>\n",
      "    <tr>\n",
      "        <td><tt>time</tt></td><td>int64</td><td>-</td><td>Start time since unix epoch [ns]</td>\n",
      "    </tr>\n",
      "    <tr>\n",
      "        <td><tt>length</tt></td><td>int64</td><td>-</td><td>Length of the interval in samples</td>\n",
      "    </tr>\n",
      "    <tr>\n",
      "        <td><tt>dt</tt></td><td>int16</td><td>-</td><td>Width of one sample [ns]</td>\n",
      "    </tr>\n",
      "    <tr>\n",
      "        <td><tt>channel</tt></td><td>int16</td><td>-</td><td>Channel number</td>\n",
      "    </tr>\n",
      "    <tr>\n",
      "        <td><tt>channel_type</tt></td><td>int16</td><td>-</td><td>Channel type</td>\n",
      "    </tr>\n",
      "    <tr>\n",
      "        <td><tt>block_id</tt></td><td>int32</td><td>-</td><td>Id of the block of records in the run</td>\n",
      "    </tr>\n",
      "    <tr>\n",
      "        <td><tt>data</tt></td><td>int16</td><td>(record_length)</td><td>Record data in raw ADC counts</td>\n",
      "    </tr>\n",
      "</table>\n"
     ]
    }
   ],
   "source": [
    "print(table)"
   ]
  },
  {
   "cell_type": "code",
   "execution_count": null,
   "id": "7f02c6eb-21b7-4acc-ad51-01ce46c08c70",
   "metadata": {},
   "outputs": [],
   "source": []
  }
 ],
 "metadata": {
  "kernelspec": {
   "display_name": "Python 3 (ipykernel)",
   "language": "python",
   "name": "python3"
  },
  "language_info": {
   "codemirror_mode": {
    "name": "ipython",
    "version": 3
   },
   "file_extension": ".py",
   "mimetype": "text/x-python",
   "name": "python",
   "nbconvert_exporter": "python",
   "pygments_lexer": "ipython3",
   "version": "3.11.8"
  }
 },
 "nbformat": 4,
 "nbformat_minor": 5
}
