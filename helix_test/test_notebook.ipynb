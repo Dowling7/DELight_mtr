{
 "cells": [
  {
   "cell_type": "markdown",
   "id": "4ee6df47-9310-492f-a495-3a86aace0be1",
   "metadata": {},
   "source": [
    "To install helix, run `pip install -e /path/to/helix/repo` "
   ]
  },
  {
   "cell_type": "code",
   "execution_count": 1,
   "id": "28873021-2848-4f21-9936-83b40dc18236",
   "metadata": {},
   "outputs": [],
   "source": [
    "import helix as hx\n",
    "import strax as sx"
   ]
  },
  {
   "cell_type": "code",
   "execution_count": 2,
   "id": "e686cdfb-1a01-4c16-9c3f-f34bcdec3edd",
   "metadata": {},
   "outputs": [
    {
     "name": "stdout",
     "output_type": "stream",
     "text": [
      "strax version: 2.0.3\n",
      "NumPy version: 1.23.5\n",
      "Numba version: 0.60.0\n",
      "Pandas version: 1.5.3\n"
     ]
    }
   ],
   "source": [
    "import numpy as np\n",
    "import strax\n",
    "import numba\n",
    "import pandas as pd\n",
    "print(\"strax version:\", strax.__version__)\n",
    "print(\"NumPy version:\", np.__version__)\n",
    "print(\"Numba version:\", numba.__version__)\n",
    "print(\"Pandas version:\", pd.__version__)\n",
    "#strax latest version: 2.0.3\n",
    "#Numpy latest version: 2.2.1\n",
    "#Numba latest version: 0.60.0\n",
    "#Pandas latest version: 2.2.3\n"
   ]
  },
  {
   "cell_type": "code",
   "execution_count": 3,
   "id": "2819f30b-3bbd-4fae-9697-23f515a08955",
   "metadata": {},
   "outputs": [],
   "source": [
    "import os\n",
    "import shutil\n",
    "from glob import glob\n",
    "from matplotlib import pyplot as plt\n"
   ]
  },
  {
   "cell_type": "markdown",
   "id": "00b2136d-e9c3-461b-b347-aa2b64009dbf",
   "metadata": {},
   "source": [
    "## Generate toy data"
   ]
  },
  {
   "cell_type": "markdown",
   "id": "545246ac-cf44-4277-b95b-5a82fb8b35ac",
   "metadata": {},
   "source": [
    "Toy data generator is very slow, might take ~20 seconds per 10 seconds of toy data. Don't ask for a lot of toy data if you don't want to wait forever"
   ]
  },
  {
   "cell_type": "code",
   "execution_count": 4,
   "id": "a3a8b2e7-588c-4d47-9845-9ae4fe660b62",
   "metadata": {},
   "outputs": [],
   "source": [
    "run_id = 'run10' \n",
    "duration = 10  # seconds\n",
    "raw_data_dir = 'toy_data'  # to save the raw toy data\n",
    "helix_data_dir = 'test_helix_data'  # to save the run metadata\n",
    "baseline_step = 0  # add a baseline equal to baseline_step*channel_index to each channel"
   ]
  },
  {
   "cell_type": "code",
   "execution_count": 5,
   "id": "0804a4a8-ae06-4529-9429-835d28cd7089",
   "metadata": {},
   "outputs": [
    {
     "name": "stderr",
     "output_type": "stream",
     "text": [
      "100%|█████████████████████████████████████████████| 1/1 [00:38<00:00, 38.79s/it]\n"
     ]
    }
   ],
   "source": [
    "# remove helix data corresponding to this run_id, if it exists\n",
    "for path in glob(f'{helix_data_dir}/*'):\n",
    "    if os.path.isdir(path):\n",
    "        shutil.rmtree(path)\n",
    "    else:\n",
    "        os.remove(path)\n",
    "    \n",
    "hx.generate_toy_data(run_id, duration, raw_data_dir, helix_data_dir=helix_data_dir, overwrite=True, baseline_step=baseline_step)"
   ]
  },
  {
   "cell_type": "markdown",
   "id": "97957f76-e969-4659-89c4-f370ff1c7b7f",
   "metadata": {},
   "source": [
    "## Process the toy data"
   ]
  },
  {
   "cell_type": "code",
   "execution_count": 13,
   "id": "a8aaf228-1751-470c-a219-eb4b9efc6d32",
   "metadata": {},
   "outputs": [
    {
     "name": "stdout",
     "output_type": "stream",
     "text": [
      "Removing old incomplete data in test_helix_data/run10-raw_records-p2akieui5i_temp\n",
      "Removing old incomplete data in test_helix_data/run10-qp_triggers-lndpgukla7_temp\n",
      "Removing old incomplete data in test_helix_data/run10-uv_triggers-il2q6cmf4u_temp\n",
      "Removing old incomplete data in test_helix_data/run10-noise_events-ewlivewzgk_temp\n",
      "Removing old incomplete data in test_helix_data/run10-noise_psds-3ucezkkcs5_temp\n"
     ]
    },
    {
     "name": "stderr",
     "output_type": "stream",
     "text": [
      "Exception during processing, closing savers and reraising     | 0.00 % [00:00<?]\n",
      "Loading noise_psds: |                                         | 0.00 % [00:07<?]\n"
     ]
    },
    {
     "ename": "AttributeError",
     "evalue": "'Boolean' object has no attribute 'bitwidth'",
     "output_type": "error",
     "traceback": [
      "\u001b[0;31m---------------------------------------------------------------------------\u001b[0m",
      "\u001b[0;31mAttributeError\u001b[0m                            Traceback (most recent call last)",
      "Cell \u001b[0;32mIn[13], line 18\u001b[0m\n\u001b[1;32m     13\u001b[0m context\u001b[38;5;241m.\u001b[39mset_config(config)\n\u001b[1;32m     15\u001b[0m \u001b[38;5;66;03m# running the processing (or retrieving the data, if it was processed earlier)\u001b[39;00m\n\u001b[0;32m---> 18\u001b[0m psds \u001b[38;5;241m=\u001b[39m \u001b[43mcontext\u001b[49m\u001b[38;5;241;43m.\u001b[39;49m\u001b[43mget_array\u001b[49m\u001b[43m(\u001b[49m\u001b[43mrun_id\u001b[49m\u001b[43m,\u001b[49m\u001b[43m \u001b[49m\u001b[38;5;124;43m'\u001b[39;49m\u001b[38;5;124;43mnoise_psds\u001b[39;49m\u001b[38;5;124;43m'\u001b[39;49m\u001b[43m)\u001b[49m  \u001b[38;5;66;03m# Helix needs to prebuild PSDs before calculating fit_results\u001b[39;00m\n\u001b[1;32m     21\u001b[0m fit_results \u001b[38;5;241m=\u001b[39m context\u001b[38;5;241m.\u001b[39mget_array(run_id, \u001b[38;5;124m'\u001b[39m\u001b[38;5;124mfit_results\u001b[39m\u001b[38;5;124m'\u001b[39m)  \u001b[38;5;66;03m# hx.FitResults plugin provides this data type\u001b[39;00m\n\u001b[1;32m     23\u001b[0m \u001b[38;5;66;03m# fit_results is a structured numpy array of events containing fields described in the FitResults documentation\u001b[39;00m\n\u001b[1;32m     24\u001b[0m \u001b[38;5;66;03m# one can work with it as a dictionary on numpy arrays, or as a numpy array of dictionaries. Works both ways. E.g.\u001b[39;00m\n\u001b[1;32m     25\u001b[0m \u001b[38;5;66;03m# fit_results['sum_uv_amplitude'][:100]  # amplitudes of UV signals in the sum of all channels in the first 100 events\u001b[39;00m\n\u001b[1;32m     26\u001b[0m \u001b[38;5;66;03m# fit_results[:100]['sum_uv_amplitude']  # same\u001b[39;00m\n",
      "File \u001b[0;32m~/anaconda3/envs/delight/lib/python3.11/site-packages/strax/context.py:1799\u001b[0m, in \u001b[0;36mContext.get_array\u001b[0;34m(self, run_id, targets, save, max_workers, **kwargs)\u001b[0m\n\u001b[1;32m   1795\u001b[0m \u001b[38;5;28;01melse\u001b[39;00m:\n\u001b[1;32m   1796\u001b[0m     source \u001b[38;5;241m=\u001b[39m \u001b[38;5;28mself\u001b[39m\u001b[38;5;241m.\u001b[39mget_iter(\n\u001b[1;32m   1797\u001b[0m         run_ids[\u001b[38;5;241m0\u001b[39m], targets, save\u001b[38;5;241m=\u001b[39msave, max_workers\u001b[38;5;241m=\u001b[39mmax_workers, \u001b[38;5;241m*\u001b[39m\u001b[38;5;241m*\u001b[39mkwargs\n\u001b[1;32m   1798\u001b[0m     )\n\u001b[0;32m-> 1799\u001b[0m     results \u001b[38;5;241m=\u001b[39m \u001b[43m[\u001b[49m\u001b[43mx\u001b[49m\u001b[38;5;241;43m.\u001b[39;49m\u001b[43mdata\u001b[49m\u001b[43m \u001b[49m\u001b[38;5;28;43;01mfor\u001b[39;49;00m\u001b[43m \u001b[49m\u001b[43mx\u001b[49m\u001b[43m \u001b[49m\u001b[38;5;129;43;01min\u001b[39;49;00m\u001b[43m \u001b[49m\u001b[43msource\u001b[49m\u001b[43m]\u001b[49m\n\u001b[1;32m   1801\u001b[0m results \u001b[38;5;241m=\u001b[39m np\u001b[38;5;241m.\u001b[39mconcatenate(results)\n\u001b[1;32m   1802\u001b[0m \u001b[38;5;28;01mreturn\u001b[39;00m results\n",
      "File \u001b[0;32m~/anaconda3/envs/delight/lib/python3.11/site-packages/strax/context.py:1799\u001b[0m, in \u001b[0;36m<listcomp>\u001b[0;34m(.0)\u001b[0m\n\u001b[1;32m   1795\u001b[0m \u001b[38;5;28;01melse\u001b[39;00m:\n\u001b[1;32m   1796\u001b[0m     source \u001b[38;5;241m=\u001b[39m \u001b[38;5;28mself\u001b[39m\u001b[38;5;241m.\u001b[39mget_iter(\n\u001b[1;32m   1797\u001b[0m         run_ids[\u001b[38;5;241m0\u001b[39m], targets, save\u001b[38;5;241m=\u001b[39msave, max_workers\u001b[38;5;241m=\u001b[39mmax_workers, \u001b[38;5;241m*\u001b[39m\u001b[38;5;241m*\u001b[39mkwargs\n\u001b[1;32m   1798\u001b[0m     )\n\u001b[0;32m-> 1799\u001b[0m     results \u001b[38;5;241m=\u001b[39m \u001b[43m[\u001b[49m\u001b[43mx\u001b[49m\u001b[38;5;241;43m.\u001b[39;49m\u001b[43mdata\u001b[49m\u001b[43m \u001b[49m\u001b[38;5;28;43;01mfor\u001b[39;49;00m\u001b[43m \u001b[49m\u001b[43mx\u001b[49m\u001b[43m \u001b[49m\u001b[38;5;129;43;01min\u001b[39;49;00m\u001b[43m \u001b[49m\u001b[43msource\u001b[49m\u001b[43m]\u001b[49m\n\u001b[1;32m   1801\u001b[0m results \u001b[38;5;241m=\u001b[39m np\u001b[38;5;241m.\u001b[39mconcatenate(results)\n\u001b[1;32m   1802\u001b[0m \u001b[38;5;28;01mreturn\u001b[39;00m results\n",
      "File \u001b[0;32m~/anaconda3/envs/delight/lib/python3.11/site-packages/strax/context.py:1652\u001b[0m, in \u001b[0;36mContext.get_iter\u001b[0;34m(self, run_id, targets, save, max_workers, time_range, seconds_range, time_within, time_selection, selection, keep_columns, drop_columns, allow_multiple, progress_bar, multi_run_progress_bar, chunk_number, processor, combining, **kwargs)\u001b[0m\n\u001b[1;32m   1644\u001b[0m     generator\u001b[38;5;241m.\u001b[39mthrow(\n\u001b[1;32m   1645\u001b[0m         OutsideException(\n\u001b[1;32m   1646\u001b[0m             \u001b[38;5;124m\"\u001b[39m\u001b[38;5;124mTerminating due to an exception originating from outside \u001b[39m\u001b[38;5;124m\"\u001b[39m\n\u001b[1;32m   1647\u001b[0m             \u001b[38;5;124m\"\u001b[39m\u001b[38;5;124mstrax\u001b[39m\u001b[38;5;124m'\u001b[39m\u001b[38;5;124ms get_iter (which we cannot retrieve).\u001b[39m\u001b[38;5;124m\"\u001b[39m\n\u001b[1;32m   1648\u001b[0m         )\n\u001b[1;32m   1649\u001b[0m     )\n\u001b[1;32m   1651\u001b[0m \u001b[38;5;28;01mexcept\u001b[39;00m \u001b[38;5;167;01mException\u001b[39;00m \u001b[38;5;28;01mas\u001b[39;00m e:\n\u001b[0;32m-> 1652\u001b[0m     generator\u001b[38;5;241m.\u001b[39mthrow(e)\n\u001b[1;32m   1653\u001b[0m     \u001b[38;5;28;01mraise\u001b[39;00m \u001b[38;5;167;01mValueError\u001b[39;00m(\u001b[38;5;124mf\u001b[39m\u001b[38;5;124m\"\u001b[39m\u001b[38;5;124mFailed to process chunk \u001b[39m\u001b[38;5;132;01m{\u001b[39;00mn_chunks\u001b[38;5;132;01m}\u001b[39;00m\u001b[38;5;124m!\u001b[39m\u001b[38;5;124m\"\u001b[39m)\n\u001b[1;32m   1655\u001b[0m \u001b[38;5;28;01mif\u001b[39;00m \u001b[38;5;129;01mnot\u001b[39;00m seen_a_chunk:\n",
      "File \u001b[0;32m~/anaconda3/envs/delight/lib/python3.11/site-packages/strax/context.py:1619\u001b[0m, in \u001b[0;36mContext.get_iter\u001b[0;34m(self, run_id, targets, save, max_workers, time_range, seconds_range, time_within, time_selection, selection, keep_columns, drop_columns, allow_multiple, progress_bar, multi_run_progress_bar, chunk_number, processor, combining, **kwargs)\u001b[0m\n\u001b[1;32m   1617\u001b[0m pbar\u001b[38;5;241m.\u001b[39mstrax_print_time \u001b[38;5;241m=\u001b[39m time\u001b[38;5;241m.\u001b[39mperf_counter()\n\u001b[1;32m   1618\u001b[0m pbar\u001b[38;5;241m.\u001b[39mmbs \u001b[38;5;241m=\u001b[39m []\n\u001b[0;32m-> 1619\u001b[0m \u001b[43m\u001b[49m\u001b[38;5;28;43;01mfor\u001b[39;49;00m\u001b[43m \u001b[49m\u001b[43mn_chunks\u001b[49m\u001b[43m,\u001b[49m\u001b[43m \u001b[49m\u001b[43mresult\u001b[49m\u001b[43m \u001b[49m\u001b[38;5;129;43;01min\u001b[39;49;00m\u001b[43m \u001b[49m\u001b[38;5;28;43menumerate\u001b[39;49m\u001b[43m(\u001b[49m\u001b[43mstrax\u001b[49m\u001b[38;5;241;43m.\u001b[39;49m\u001b[43mcontinuity_check\u001b[49m\u001b[43m(\u001b[49m\u001b[43mgenerator\u001b[49m\u001b[43m)\u001b[49m\u001b[43m,\u001b[49m\u001b[43m \u001b[49m\u001b[38;5;241;43m1\u001b[39;49m\u001b[43m)\u001b[49m\u001b[43m:\u001b[49m\n\u001b[1;32m   1620\u001b[0m \u001b[43m    \u001b[49m\u001b[43mseen_a_chunk\u001b[49m\u001b[43m \u001b[49m\u001b[38;5;241;43m=\u001b[39;49m\u001b[43m \u001b[49m\u001b[38;5;28;43;01mTrue\u001b[39;49;00m\n\u001b[1;32m   1621\u001b[0m \u001b[43m    \u001b[49m\u001b[38;5;28;43;01mif\u001b[39;49;00m\u001b[43m \u001b[49m\u001b[38;5;129;43;01mnot\u001b[39;49;00m\u001b[43m \u001b[49m\u001b[38;5;28;43misinstance\u001b[39;49m\u001b[43m(\u001b[49m\u001b[43mresult\u001b[49m\u001b[43m,\u001b[49m\u001b[43m \u001b[49m\u001b[43mstrax\u001b[49m\u001b[38;5;241;43m.\u001b[39;49m\u001b[43mChunk\u001b[49m\u001b[43m)\u001b[49m\u001b[43m:\u001b[49m\n",
      "File \u001b[0;32m~/anaconda3/envs/delight/lib/python3.11/site-packages/strax/chunk.py:363\u001b[0m, in \u001b[0;36mcontinuity_check\u001b[0;34m(chunk_iter)\u001b[0m\n\u001b[1;32m    360\u001b[0m last_runid \u001b[38;5;241m=\u001b[39m \u001b[38;5;28;01mNone\u001b[39;00m\n\u001b[1;32m    362\u001b[0m last_subrun \u001b[38;5;241m=\u001b[39m {\u001b[38;5;124m\"\u001b[39m\u001b[38;5;124mrun_id\u001b[39m\u001b[38;5;124m\"\u001b[39m: \u001b[38;5;28;01mNone\u001b[39;00m}\n\u001b[0;32m--> 363\u001b[0m \u001b[43m\u001b[49m\u001b[38;5;28;43;01mfor\u001b[39;49;00m\u001b[43m \u001b[49m\u001b[43mchunk\u001b[49m\u001b[43m \u001b[49m\u001b[38;5;129;43;01min\u001b[39;49;00m\u001b[43m \u001b[49m\u001b[43mchunk_iter\u001b[49m\u001b[43m:\u001b[49m\n\u001b[1;32m    364\u001b[0m \u001b[43m    \u001b[49m\u001b[38;5;28;43;01mif\u001b[39;49;00m\u001b[43m \u001b[49m\u001b[43mchunk\u001b[49m\u001b[38;5;241;43m.\u001b[39;49m\u001b[43mrun_id\u001b[49m\u001b[43m \u001b[49m\u001b[38;5;241;43m!=\u001b[39;49m\u001b[43m \u001b[49m\u001b[43mlast_runid\u001b[49m\u001b[43m:\u001b[49m\n\u001b[1;32m    365\u001b[0m \u001b[43m        \u001b[49m\u001b[43mlast_end\u001b[49m\u001b[43m \u001b[49m\u001b[38;5;241;43m=\u001b[39;49m\u001b[43m \u001b[49m\u001b[38;5;28;43;01mNone\u001b[39;49;00m\n",
      "File \u001b[0;32m~/anaconda3/envs/delight/lib/python3.11/site-packages/strax/processors/single_thread.py:63\u001b[0m, in \u001b[0;36mSingleThreadProcessor.iter\u001b[0;34m(self)\u001b[0m\n\u001b[1;32m     60\u001b[0m \u001b[38;5;28mself\u001b[39m\u001b[38;5;241m.\u001b[39mlog\u001b[38;5;241m.\u001b[39mdebug(\u001b[38;5;124mf\u001b[39m\u001b[38;5;124m\"\u001b[39m\u001b[38;5;124mYielding \u001b[39m\u001b[38;5;132;01m{\u001b[39;00mtarget\u001b[38;5;132;01m}\u001b[39;00m\u001b[38;5;124m\"\u001b[39m)\n\u001b[1;32m     62\u001b[0m \u001b[38;5;28;01mtry\u001b[39;00m:\n\u001b[0;32m---> 63\u001b[0m     \u001b[38;5;28;01myield from\u001b[39;00m final_generator\n\u001b[1;32m     65\u001b[0m \u001b[38;5;28;01mexcept\u001b[39;00m \u001b[38;5;167;01mException\u001b[39;00m:\n\u001b[1;32m     66\u001b[0m     \u001b[38;5;66;03m# Exception in one of the producers. Close savers (they will record\u001b[39;00m\n\u001b[1;32m     67\u001b[0m     \u001b[38;5;66;03m# the exception from sys.exc_info()) then reraise.\u001b[39;00m\n\u001b[1;32m     68\u001b[0m     \u001b[38;5;28mself\u001b[39m\u001b[38;5;241m.\u001b[39mlog\u001b[38;5;241m.\u001b[39mfatal(\u001b[38;5;124mf\u001b[39m\u001b[38;5;124m\"\u001b[39m\u001b[38;5;124mException during processing, closing savers and reraising\u001b[39m\u001b[38;5;124m\"\u001b[39m)\n",
      "File \u001b[0;32m~/anaconda3/envs/delight/lib/python3.11/site-packages/strax/processors/post_office.py:204\u001b[0m, in \u001b[0;36mPostOffice._read\u001b[0;34m(self, topic, reader)\u001b[0m\n\u001b[1;32m    201\u001b[0m \u001b[38;5;28;01melse\u001b[39;00m:\n\u001b[1;32m    202\u001b[0m     \u001b[38;5;28;01mtry\u001b[39;00m:\n\u001b[1;32m    203\u001b[0m         \u001b[38;5;66;03m# We have to produce a new message\u001b[39;00m\n\u001b[0;32m--> 204\u001b[0m         result \u001b[38;5;241m=\u001b[39m \u001b[38;5;28;43mself\u001b[39;49m\u001b[38;5;241;43m.\u001b[39;49m\u001b[43m_fetch_new\u001b[49m\u001b[43m(\u001b[49m\u001b[43mtopic\u001b[49m\u001b[43m)\u001b[49m\n\u001b[1;32m    205\u001b[0m     \u001b[38;5;28;01mexcept\u001b[39;00m \u001b[38;5;167;01mStopIteration\u001b[39;00m:\n\u001b[1;32m    206\u001b[0m         \u001b[38;5;66;03m# Message actually won't come, exit the while loop.\u001b[39;00m\n\u001b[1;32m    207\u001b[0m         \u001b[38;5;66;03m# (The while condition wasn't triggered because\u001b[39;00m\n\u001b[1;32m    208\u001b[0m         \u001b[38;5;66;03m# the producer only just realized the topic is exhausted)\u001b[39;00m\n\u001b[1;32m    209\u001b[0m         \u001b[38;5;28;01mbreak\u001b[39;00m\n",
      "File \u001b[0;32m~/anaconda3/envs/delight/lib/python3.11/site-packages/strax/processors/post_office.py:247\u001b[0m, in \u001b[0;36mPostOffice._fetch_new\u001b[0;34m(self, topic)\u001b[0m\n\u001b[1;32m    245\u001b[0m     \u001b[38;5;28;01mraise\u001b[39;00m \u001b[38;5;167;01mRuntimeError\u001b[39;00m(\u001b[38;5;124mf\u001b[39m\u001b[38;5;124m\"\u001b[39m\u001b[38;5;124mNo producer registered for \u001b[39m\u001b[38;5;132;01m{\u001b[39;00mtopic\u001b[38;5;132;01m}\u001b[39;00m\u001b[38;5;124m\"\u001b[39m)\n\u001b[1;32m    246\u001b[0m \u001b[38;5;28;01mtry\u001b[39;00m:\n\u001b[0;32m--> 247\u001b[0m     msg \u001b[38;5;241m=\u001b[39m \u001b[38;5;28mnext\u001b[39m(\u001b[38;5;28mself\u001b[39m\u001b[38;5;241m.\u001b[39m_producers[topic])\n\u001b[1;32m    248\u001b[0m \u001b[38;5;28;01mexcept\u001b[39;00m \u001b[38;5;167;01mStopIteration\u001b[39;00m:\n\u001b[1;32m    249\u001b[0m     \u001b[38;5;28;01mfor\u001b[39;00m sub_topic \u001b[38;5;129;01min\u001b[39;00m \u001b[38;5;28mself\u001b[39m\u001b[38;5;241m.\u001b[39m_multi_output_topics\u001b[38;5;241m.\u001b[39mget(topic, [topic]):\n",
      "File \u001b[0;32m~/Documents/DELight_mtr/helix_test/helix/plugins/noise_psds/noise_psds.py:78\u001b[0m, in \u001b[0;36mNoisePSDs.iter\u001b[0;34m(self, iters, executor)\u001b[0m\n\u001b[1;32m     66\u001b[0m \u001b[38;5;250m\u001b[39m\u001b[38;5;124;03m\"\"\"\u001b[39;00m\n\u001b[1;32m     67\u001b[0m \u001b[38;5;124;03mOverloading strax.Plugin.iter() method to return all the cached PSDs after strax has completed feeding data to\u001b[39;00m\n\u001b[1;32m     68\u001b[0m \u001b[38;5;124;03mthe plugin. This is necessary, because when strax calls the compute method, passing more and more data to it,\u001b[39;00m\n\u001b[0;32m   (...)\u001b[0m\n\u001b[1;32m     75\u001b[0m \u001b[38;5;124;03m:return: see strax.Plugin.iter()\u001b[39;00m\n\u001b[1;32m     76\u001b[0m \u001b[38;5;124;03m\"\"\"\u001b[39;00m\n\u001b[1;32m     77\u001b[0m \u001b[38;5;66;03m# doing what strax.Plugin.iter should do\u001b[39;00m\n\u001b[0;32m---> 78\u001b[0m \u001b[38;5;28;01myield from\u001b[39;00m \u001b[38;5;28msuper\u001b[39m()\u001b[38;5;241m.\u001b[39miter(iters, executor\u001b[38;5;241m=\u001b[39mexecutor)\n\u001b[1;32m     80\u001b[0m \u001b[38;5;28;01mif\u001b[39;00m \u001b[38;5;28mself\u001b[39m\u001b[38;5;241m.\u001b[39mfinished_cached_psd \u001b[38;5;129;01mor\u001b[39;00m \u001b[38;5;28mself\u001b[39m\u001b[38;5;241m.\u001b[39munfinished_cached_psd:\n\u001b[1;32m     81\u001b[0m     \u001b[38;5;66;03m# when all the data was passed to the plugin, returning the last (cached) PSDs.\u001b[39;00m\n\u001b[1;32m     82\u001b[0m     \u001b[38;5;66;03m# merge the cached PSDs if necessary\u001b[39;00m\n\u001b[1;32m     83\u001b[0m     \u001b[38;5;28;01myield\u001b[39;00m \u001b[38;5;28mself\u001b[39m\u001b[38;5;241m.\u001b[39m_merge_cached_psds()\n",
      "File \u001b[0;32m~/anaconda3/envs/delight/lib/python3.11/site-packages/strax/plugins/plugin.py:438\u001b[0m, in \u001b[0;36mPlugin.iter\u001b[0;34m(self, iters, executor)\u001b[0m\n\u001b[1;32m    436\u001b[0m _end \u001b[38;5;241m=\u001b[39m \u001b[38;5;28mfloat\u001b[39m(\u001b[38;5;124m\"\u001b[39m\u001b[38;5;124minf\u001b[39m\u001b[38;5;124m\"\u001b[39m)\n\u001b[1;32m    437\u001b[0m \u001b[38;5;28;01mfor\u001b[39;00m d \u001b[38;5;129;01min\u001b[39;00m \u001b[38;5;28mself\u001b[39m\u001b[38;5;241m.\u001b[39mdepends_on:\n\u001b[0;32m--> 438\u001b[0m     \u001b[38;5;28;43mself\u001b[39;49m\u001b[38;5;241;43m.\u001b[39;49m\u001b[43m_fetch_chunk\u001b[49m\u001b[43m(\u001b[49m\u001b[43md\u001b[49m\u001b[43m,\u001b[49m\u001b[43m \u001b[49m\u001b[43miters\u001b[49m\u001b[43m)\u001b[49m\n\u001b[1;32m    439\u001b[0m     \u001b[38;5;28;01mif\u001b[39;00m \u001b[38;5;28mself\u001b[39m\u001b[38;5;241m.\u001b[39minput_buffer[d] \u001b[38;5;129;01mis\u001b[39;00m \u001b[38;5;28;01mNone\u001b[39;00m:\n\u001b[1;32m    440\u001b[0m         \u001b[38;5;28;01mraise\u001b[39;00m \u001b[38;5;167;01mValueError\u001b[39;00m(\u001b[38;5;124mf\u001b[39m\u001b[38;5;124m\"\u001b[39m\u001b[38;5;124mCannot work with empty input buffer \u001b[39m\u001b[38;5;132;01m{\u001b[39;00m\u001b[38;5;28mself\u001b[39m\u001b[38;5;241m.\u001b[39minput_buffer\u001b[38;5;132;01m}\u001b[39;00m\u001b[38;5;124m\"\u001b[39m)\n",
      "File \u001b[0;32m~/anaconda3/envs/delight/lib/python3.11/site-packages/strax/plugins/plugin.py:407\u001b[0m, in \u001b[0;36mPlugin._fetch_chunk\u001b[0;34m(self, d, iters, check_end_not_before)\u001b[0m\n\u001b[1;32m    395\u001b[0m \u001b[38;5;250m\u001b[39m\u001b[38;5;124;03m\"\"\"Add a chunk of the datatype d to the input buffer. Return True if this succeeded, False\u001b[39;00m\n\u001b[1;32m    396\u001b[0m \u001b[38;5;124;03mif the source is exhausted.\u001b[39;00m\n\u001b[1;32m    397\u001b[0m \n\u001b[0;32m   (...)\u001b[0m\n\u001b[1;32m    402\u001b[0m \n\u001b[1;32m    403\u001b[0m \u001b[38;5;124;03m\"\"\"\u001b[39;00m\n\u001b[1;32m    404\u001b[0m \u001b[38;5;28;01mtry\u001b[39;00m:\n\u001b[1;32m    405\u001b[0m     \u001b[38;5;66;03m# print(f\"Fetching {d} in {self}, hope to see {hope_to_see}\")\u001b[39;00m\n\u001b[1;32m    406\u001b[0m     \u001b[38;5;28mself\u001b[39m\u001b[38;5;241m.\u001b[39minput_buffer[d] \u001b[38;5;241m=\u001b[39m strax\u001b[38;5;241m.\u001b[39mChunk\u001b[38;5;241m.\u001b[39mconcatenate(\n\u001b[0;32m--> 407\u001b[0m         [\u001b[38;5;28mself\u001b[39m\u001b[38;5;241m.\u001b[39minput_buffer[d], \u001b[38;5;28mnext\u001b[39m(iters[d])], \u001b[38;5;28mself\u001b[39m\u001b[38;5;241m.\u001b[39mallow_superrun\n\u001b[1;32m    408\u001b[0m     )\n\u001b[1;32m    409\u001b[0m     \u001b[38;5;66;03m# print(f\"Fetched {d} in {self}, \"\u001b[39;00m\n\u001b[1;32m    410\u001b[0m     \u001b[38;5;66;03m#      f\"now have {self.input_buffer[d]}\")\u001b[39;00m\n\u001b[1;32m    411\u001b[0m     \u001b[38;5;28;01mreturn\u001b[39;00m \u001b[38;5;28;01mTrue\u001b[39;00m\n",
      "File \u001b[0;32m~/anaconda3/envs/delight/lib/python3.11/site-packages/strax/processors/post_office.py:204\u001b[0m, in \u001b[0;36mPostOffice._read\u001b[0;34m(self, topic, reader)\u001b[0m\n\u001b[1;32m    201\u001b[0m \u001b[38;5;28;01melse\u001b[39;00m:\n\u001b[1;32m    202\u001b[0m     \u001b[38;5;28;01mtry\u001b[39;00m:\n\u001b[1;32m    203\u001b[0m         \u001b[38;5;66;03m# We have to produce a new message\u001b[39;00m\n\u001b[0;32m--> 204\u001b[0m         result \u001b[38;5;241m=\u001b[39m \u001b[38;5;28;43mself\u001b[39;49m\u001b[38;5;241;43m.\u001b[39;49m\u001b[43m_fetch_new\u001b[49m\u001b[43m(\u001b[49m\u001b[43mtopic\u001b[49m\u001b[43m)\u001b[49m\n\u001b[1;32m    205\u001b[0m     \u001b[38;5;28;01mexcept\u001b[39;00m \u001b[38;5;167;01mStopIteration\u001b[39;00m:\n\u001b[1;32m    206\u001b[0m         \u001b[38;5;66;03m# Message actually won't come, exit the while loop.\u001b[39;00m\n\u001b[1;32m    207\u001b[0m         \u001b[38;5;66;03m# (The while condition wasn't triggered because\u001b[39;00m\n\u001b[1;32m    208\u001b[0m         \u001b[38;5;66;03m# the producer only just realized the topic is exhausted)\u001b[39;00m\n\u001b[1;32m    209\u001b[0m         \u001b[38;5;28;01mbreak\u001b[39;00m\n",
      "File \u001b[0;32m~/anaconda3/envs/delight/lib/python3.11/site-packages/strax/processors/post_office.py:257\u001b[0m, in \u001b[0;36mPostOffice._fetch_new\u001b[0;34m(self, topic)\u001b[0m\n\u001b[1;32m    255\u001b[0m     log\u001b[38;5;241m.\u001b[39mdebug(\u001b[38;5;124mf\u001b[39m\u001b[38;5;124m\"\u001b[39m\u001b[38;5;124mGot simple message \u001b[39m\u001b[38;5;132;01m{\u001b[39;00mmsg\u001b[38;5;132;01m}\u001b[39;00m\u001b[38;5;124m for topic \u001b[39m\u001b[38;5;132;01m{\u001b[39;00mtopic\u001b[38;5;132;01m}\u001b[39;00m\u001b[38;5;124m\"\u001b[39m)\n\u001b[1;32m    256\u001b[0m     \u001b[38;5;66;03m# Simple message, just ack and return to caller\u001b[39;00m\n\u001b[0;32m--> 257\u001b[0m     \u001b[38;5;28;43mself\u001b[39;49m\u001b[38;5;241;43m.\u001b[39;49m\u001b[43m_ack_msg_produced\u001b[49m\u001b[43m(\u001b[49m\u001b[43mmsg\u001b[49m\u001b[43m,\u001b[49m\u001b[43m \u001b[49m\u001b[43mtopic\u001b[49m\u001b[43m)\u001b[49m\n\u001b[1;32m    258\u001b[0m     \u001b[38;5;28;01mreturn\u001b[39;00m msg\n\u001b[1;32m    260\u001b[0m \u001b[38;5;66;03m# msg is a dict with messages for different topics\u001b[39;00m\n",
      "File \u001b[0;32m~/anaconda3/envs/delight/lib/python3.11/site-packages/strax/processors/post_office.py:284\u001b[0m, in \u001b[0;36mPostOffice._ack_msg_produced\u001b[0;34m(self, msg, topic)\u001b[0m\n\u001b[1;32m    282\u001b[0m \u001b[38;5;66;03m# Deliver the message to the spies (savers/monitors)\u001b[39;00m\n\u001b[1;32m    283\u001b[0m \u001b[38;5;28;01mfor\u001b[39;00m spy \u001b[38;5;129;01min\u001b[39;00m \u001b[38;5;28mself\u001b[39m\u001b[38;5;241m.\u001b[39m_spies[topic]:\n\u001b[0;32m--> 284\u001b[0m     \u001b[43mspy\u001b[49m\u001b[38;5;241;43m.\u001b[39;49m\u001b[43mreceive\u001b[49m\u001b[43m(\u001b[49m\u001b[43mmsg\u001b[49m\u001b[43m)\u001b[49m\n",
      "File \u001b[0;32m~/anaconda3/envs/delight/lib/python3.11/site-packages/strax/processors/single_thread.py:97\u001b[0m, in \u001b[0;36mSaverSpy.receive\u001b[0;34m(self, chunk)\u001b[0m\n\u001b[1;32m     96\u001b[0m \u001b[38;5;28;01mdef\u001b[39;00m \u001b[38;5;21mreceive\u001b[39m(\u001b[38;5;28mself\u001b[39m, chunk):\n\u001b[0;32m---> 97\u001b[0m     \u001b[38;5;28mself\u001b[39m\u001b[38;5;241m.\u001b[39m_save_chunk(\u001b[38;5;28;43mself\u001b[39;49m\u001b[38;5;241;43m.\u001b[39;49m\u001b[43mrechunker\u001b[49m\u001b[38;5;241;43m.\u001b[39;49m\u001b[43mreceive\u001b[49m\u001b[43m(\u001b[49m\u001b[43mchunk\u001b[49m\u001b[43m)\u001b[49m)\n",
      "File \u001b[0;32m~/anaconda3/envs/delight/lib/python3.11/site-packages/strax/chunk.py:585\u001b[0m, in \u001b[0;36mRechunker.receive\u001b[0;34m(self, chunk)\u001b[0m\n\u001b[1;32m    581\u001b[0m target_size_b \u001b[38;5;241m=\u001b[39m chunk\u001b[38;5;241m.\u001b[39mtarget_size_mb \u001b[38;5;241m*\u001b[39m \u001b[38;5;241m1e6\u001b[39m\n\u001b[1;32m    583\u001b[0m \u001b[38;5;66;03m# Get the split indices according to the allowed minimum gaps\u001b[39;00m\n\u001b[1;32m    584\u001b[0m \u001b[38;5;66;03m# between data and the target size of chunk\u001b[39;00m\n\u001b[0;32m--> 585\u001b[0m split_indices \u001b[38;5;241m=\u001b[39m \u001b[38;5;28;43mself\u001b[39;49m\u001b[38;5;241;43m.\u001b[39;49m\u001b[43mget_splits\u001b[49m\u001b[43m(\u001b[49m\u001b[43mchunk\u001b[49m\u001b[38;5;241;43m.\u001b[39;49m\u001b[43mdata\u001b[49m\u001b[43m,\u001b[49m\u001b[43m \u001b[49m\u001b[43mtarget_size_b\u001b[49m\u001b[43m,\u001b[49m\u001b[43m \u001b[49m\u001b[43mDEFAULT_CHUNK_SPLIT_NS\u001b[49m\u001b[43m)\u001b[49m\n\u001b[1;32m    586\u001b[0m \u001b[38;5;66;03m# Split the cache into chunks and return list of chunks\u001b[39;00m\n\u001b[1;32m    587\u001b[0m chunks \u001b[38;5;241m=\u001b[39m []\n",
      "File \u001b[0;32m~/anaconda3/envs/delight/lib/python3.11/site-packages/strax/chunk.py:610\u001b[0m, in \u001b[0;36mRechunker.get_splits\u001b[0;34m(data, target_size, min_gap)\u001b[0m\n\u001b[1;32m    608\u001b[0m \u001b[38;5;250m\u001b[39m\u001b[38;5;124;03m\"\"\"Get indices where to split the data into chunks of approximately target_size.\"\"\"\u001b[39;00m\n\u001b[1;32m    609\u001b[0m assumed_i \u001b[38;5;241m=\u001b[39m \u001b[38;5;28mint\u001b[39m(target_size \u001b[38;5;241m/\u001b[39m\u001b[38;5;241m/\u001b[39m data\u001b[38;5;241m.\u001b[39mitemsize)\n\u001b[0;32m--> 610\u001b[0m gap_indices \u001b[38;5;241m=\u001b[39m np\u001b[38;5;241m.\u001b[39margwhere(\u001b[43mstrax\u001b[49m\u001b[38;5;241;43m.\u001b[39;49m\u001b[43mdiff\u001b[49m\u001b[43m(\u001b[49m\u001b[43mdata\u001b[49m\u001b[43m)\u001b[49m \u001b[38;5;241m>\u001b[39m min_gap)\u001b[38;5;241m.\u001b[39mflatten() \u001b[38;5;241m+\u001b[39m \u001b[38;5;241m1\u001b[39m\n\u001b[1;32m    611\u001b[0m split_indices \u001b[38;5;241m=\u001b[39m [\u001b[38;5;241m0\u001b[39m]\n\u001b[1;32m    612\u001b[0m \u001b[38;5;28;01mif\u001b[39;00m \u001b[38;5;28mlen\u001b[39m(gap_indices) \u001b[38;5;241m!=\u001b[39m \u001b[38;5;241m0\u001b[39m:\n",
      "File \u001b[0;32m~/anaconda3/envs/delight/lib/python3.11/site-packages/numba/core/dispatcher.py:688\u001b[0m, in \u001b[0;36m_DispatcherBase.typeof_pyval\u001b[0;34m(self, val)\u001b[0m\n\u001b[1;32m    685\u001b[0m \u001b[38;5;66;03m# Not going through the resolve_argument_type() indirection\u001b[39;00m\n\u001b[1;32m    686\u001b[0m \u001b[38;5;66;03m# can save a couple µs.\u001b[39;00m\n\u001b[1;32m    687\u001b[0m \u001b[38;5;28;01mtry\u001b[39;00m:\n\u001b[0;32m--> 688\u001b[0m     tp \u001b[38;5;241m=\u001b[39m \u001b[43mtypeof\u001b[49m\u001b[43m(\u001b[49m\u001b[43mval\u001b[49m\u001b[43m,\u001b[49m\u001b[43m \u001b[49m\u001b[43mPurpose\u001b[49m\u001b[38;5;241;43m.\u001b[39;49m\u001b[43margument\u001b[49m\u001b[43m)\u001b[49m\n\u001b[1;32m    689\u001b[0m \u001b[38;5;28;01mexcept\u001b[39;00m \u001b[38;5;167;01mValueError\u001b[39;00m:\n\u001b[1;32m    690\u001b[0m     tp \u001b[38;5;241m=\u001b[39m types\u001b[38;5;241m.\u001b[39mpyobject\n",
      "File \u001b[0;32m~/anaconda3/envs/delight/lib/python3.11/site-packages/numba/core/typing/typeof.py:33\u001b[0m, in \u001b[0;36mtypeof\u001b[0;34m(val, purpose)\u001b[0m\n\u001b[1;32m     31\u001b[0m \u001b[38;5;66;03m# Note the behaviour for Purpose.argument must match _typeof.c.\u001b[39;00m\n\u001b[1;32m     32\u001b[0m c \u001b[38;5;241m=\u001b[39m _TypeofContext(purpose)\n\u001b[0;32m---> 33\u001b[0m ty \u001b[38;5;241m=\u001b[39m \u001b[43mtypeof_impl\u001b[49m\u001b[43m(\u001b[49m\u001b[43mval\u001b[49m\u001b[43m,\u001b[49m\u001b[43m \u001b[49m\u001b[43mc\u001b[49m\u001b[43m)\u001b[49m\n\u001b[1;32m     34\u001b[0m \u001b[38;5;28;01mif\u001b[39;00m ty \u001b[38;5;129;01mis\u001b[39;00m \u001b[38;5;28;01mNone\u001b[39;00m:\n\u001b[1;32m     35\u001b[0m     msg \u001b[38;5;241m=\u001b[39m _termcolor\u001b[38;5;241m.\u001b[39merrmsg(\n\u001b[1;32m     36\u001b[0m         \u001b[38;5;124mf\u001b[39m\u001b[38;5;124m\"\u001b[39m\u001b[38;5;124mCannot determine Numba type of \u001b[39m\u001b[38;5;132;01m{\u001b[39;00m\u001b[38;5;28mtype\u001b[39m(val)\u001b[38;5;132;01m}\u001b[39;00m\u001b[38;5;124m\"\u001b[39m)\n",
      "File \u001b[0;32m~/anaconda3/envs/delight/lib/python3.11/functools.py:909\u001b[0m, in \u001b[0;36msingledispatch.<locals>.wrapper\u001b[0;34m(*args, **kw)\u001b[0m\n\u001b[1;32m    905\u001b[0m \u001b[38;5;28;01mif\u001b[39;00m \u001b[38;5;129;01mnot\u001b[39;00m args:\n\u001b[1;32m    906\u001b[0m     \u001b[38;5;28;01mraise\u001b[39;00m \u001b[38;5;167;01mTypeError\u001b[39;00m(\u001b[38;5;124mf\u001b[39m\u001b[38;5;124m'\u001b[39m\u001b[38;5;132;01m{\u001b[39;00mfuncname\u001b[38;5;132;01m}\u001b[39;00m\u001b[38;5;124m requires at least \u001b[39m\u001b[38;5;124m'\u001b[39m\n\u001b[1;32m    907\u001b[0m                     \u001b[38;5;124m'\u001b[39m\u001b[38;5;124m1 positional argument\u001b[39m\u001b[38;5;124m'\u001b[39m)\n\u001b[0;32m--> 909\u001b[0m \u001b[38;5;28;01mreturn\u001b[39;00m \u001b[43mdispatch\u001b[49m\u001b[43m(\u001b[49m\u001b[43margs\u001b[49m\u001b[43m[\u001b[49m\u001b[38;5;241;43m0\u001b[39;49m\u001b[43m]\u001b[49m\u001b[38;5;241;43m.\u001b[39;49m\u001b[38;5;18;43m__class__\u001b[39;49m\u001b[43m)\u001b[49m\u001b[43m(\u001b[49m\u001b[38;5;241;43m*\u001b[39;49m\u001b[43margs\u001b[49m\u001b[43m,\u001b[49m\u001b[43m \u001b[49m\u001b[38;5;241;43m*\u001b[39;49m\u001b[38;5;241;43m*\u001b[39;49m\u001b[43mkw\u001b[49m\u001b[43m)\u001b[49m\n",
      "File \u001b[0;32m~/anaconda3/envs/delight/lib/python3.11/site-packages/numba/core/typing/typeof.py:246\u001b[0m, in \u001b[0;36m_typeof_ndarray\u001b[0;34m(val, c)\u001b[0m\n\u001b[1;32m    244\u001b[0m     \u001b[38;5;28;01mraise\u001b[39;00m errors\u001b[38;5;241m.\u001b[39mNumbaTypeError(msg)\n\u001b[1;32m    245\u001b[0m \u001b[38;5;28;01mtry\u001b[39;00m:\n\u001b[0;32m--> 246\u001b[0m     dtype \u001b[38;5;241m=\u001b[39m \u001b[43mnumpy_support\u001b[49m\u001b[38;5;241;43m.\u001b[39;49m\u001b[43mfrom_dtype\u001b[49m\u001b[43m(\u001b[49m\u001b[43mval\u001b[49m\u001b[38;5;241;43m.\u001b[39;49m\u001b[43mdtype\u001b[49m\u001b[43m)\u001b[49m\n\u001b[1;32m    247\u001b[0m \u001b[38;5;28;01mexcept\u001b[39;00m errors\u001b[38;5;241m.\u001b[39mNumbaNotImplementedError:\n\u001b[1;32m    248\u001b[0m     \u001b[38;5;28;01mraise\u001b[39;00m errors\u001b[38;5;241m.\u001b[39mNumbaValueError(\u001b[38;5;124mf\u001b[39m\u001b[38;5;124m\"\u001b[39m\u001b[38;5;124mUnsupported array dtype: \u001b[39m\u001b[38;5;132;01m{\u001b[39;00mval\u001b[38;5;241m.\u001b[39mdtype\u001b[38;5;132;01m}\u001b[39;00m\u001b[38;5;124m\"\u001b[39m)\n",
      "File \u001b[0;32m~/anaconda3/envs/delight/lib/python3.11/site-packages/numba/np/numpy_support.py:94\u001b[0m, in \u001b[0;36mfrom_dtype\u001b[0;34m(dtype)\u001b[0m\n\u001b[1;32m     92\u001b[0m     dtype \u001b[38;5;241m=\u001b[39m np\u001b[38;5;241m.\u001b[39mdtype(dtype)\n\u001b[1;32m     93\u001b[0m \u001b[38;5;28;01melif\u001b[39;00m \u001b[38;5;28mgetattr\u001b[39m(dtype, \u001b[38;5;124m\"\u001b[39m\u001b[38;5;124mfields\u001b[39m\u001b[38;5;124m\"\u001b[39m, \u001b[38;5;28;01mNone\u001b[39;00m) \u001b[38;5;129;01mis\u001b[39;00m \u001b[38;5;129;01mnot\u001b[39;00m \u001b[38;5;28;01mNone\u001b[39;00m:\n\u001b[0;32m---> 94\u001b[0m     \u001b[38;5;28;01mreturn\u001b[39;00m \u001b[43mfrom_struct_dtype\u001b[49m\u001b[43m(\u001b[49m\u001b[43mdtype\u001b[49m\u001b[43m)\u001b[49m\n\u001b[1;32m     96\u001b[0m \u001b[38;5;28;01mtry\u001b[39;00m:\n\u001b[1;32m     97\u001b[0m     \u001b[38;5;28;01mreturn\u001b[39;00m FROM_DTYPE[dtype]\n",
      "File \u001b[0;32m~/anaconda3/envs/delight/lib/python3.11/site-packages/numba/np/numpy_support.py:560\u001b[0m, in \u001b[0;36mfrom_struct_dtype\u001b[0;34m(dtype)\u001b[0m\n\u001b[1;32m    557\u001b[0m [elemdtype, offset] \u001b[38;5;241m=\u001b[39m info[:\u001b[38;5;241m2\u001b[39m]\n\u001b[1;32m    558\u001b[0m title \u001b[38;5;241m=\u001b[39m info[\u001b[38;5;241m2\u001b[39m] \u001b[38;5;28;01mif\u001b[39;00m \u001b[38;5;28mlen\u001b[39m(info) \u001b[38;5;241m==\u001b[39m \u001b[38;5;241m3\u001b[39m \u001b[38;5;28;01melse\u001b[39;00m \u001b[38;5;28;01mNone\u001b[39;00m\n\u001b[0;32m--> 560\u001b[0m ty \u001b[38;5;241m=\u001b[39m \u001b[43mfrom_dtype\u001b[49m\u001b[43m(\u001b[49m\u001b[43melemdtype\u001b[49m\u001b[43m)\u001b[49m\n\u001b[1;32m    561\u001b[0m infos \u001b[38;5;241m=\u001b[39m {\n\u001b[1;32m    562\u001b[0m     \u001b[38;5;124m'\u001b[39m\u001b[38;5;124mtype\u001b[39m\u001b[38;5;124m'\u001b[39m: ty,\n\u001b[1;32m    563\u001b[0m     \u001b[38;5;124m'\u001b[39m\u001b[38;5;124moffset\u001b[39m\u001b[38;5;124m'\u001b[39m: offset,\n\u001b[1;32m    564\u001b[0m     \u001b[38;5;124m'\u001b[39m\u001b[38;5;124mtitle\u001b[39m\u001b[38;5;124m'\u001b[39m: title,\n\u001b[1;32m    565\u001b[0m }\n\u001b[1;32m    566\u001b[0m fields\u001b[38;5;241m.\u001b[39mappend((name, infos))\n",
      "File \u001b[0;32m~/anaconda3/envs/delight/lib/python3.11/site-packages/numba/np/numpy_support.py:112\u001b[0m, in \u001b[0;36mfrom_dtype\u001b[0;34m(dtype)\u001b[0m\n\u001b[1;32m    110\u001b[0m     \u001b[38;5;28;01mif\u001b[39;00m char \u001b[38;5;129;01min\u001b[39;00m \u001b[38;5;124m'\u001b[39m\u001b[38;5;124mV\u001b[39m\u001b[38;5;124m'\u001b[39m \u001b[38;5;129;01mand\u001b[39;00m dtype\u001b[38;5;241m.\u001b[39msubdtype \u001b[38;5;129;01mis\u001b[39;00m \u001b[38;5;129;01mnot\u001b[39;00m \u001b[38;5;28;01mNone\u001b[39;00m:\n\u001b[1;32m    111\u001b[0m         subtype \u001b[38;5;241m=\u001b[39m from_dtype(dtype\u001b[38;5;241m.\u001b[39msubdtype[\u001b[38;5;241m0\u001b[39m])\n\u001b[0;32m--> 112\u001b[0m         \u001b[38;5;28;01mreturn\u001b[39;00m \u001b[43mtypes\u001b[49m\u001b[38;5;241;43m.\u001b[39;49m\u001b[43mNestedArray\u001b[49m\u001b[43m(\u001b[49m\u001b[43msubtype\u001b[49m\u001b[43m,\u001b[49m\u001b[43m \u001b[49m\u001b[43mdtype\u001b[49m\u001b[38;5;241;43m.\u001b[39;49m\u001b[43mshape\u001b[49m\u001b[43m)\u001b[49m\n\u001b[1;32m    114\u001b[0m \u001b[38;5;28;01mraise\u001b[39;00m errors\u001b[38;5;241m.\u001b[39mNumbaNotImplementedError(dtype)\n",
      "File \u001b[0;32m~/anaconda3/envs/delight/lib/python3.11/site-packages/numba/core/types/abstract.py:67\u001b[0m, in \u001b[0;36m_TypeMetaclass.__call__\u001b[0;34m(cls, *args, **kwargs)\u001b[0m\n\u001b[1;32m     61\u001b[0m \u001b[38;5;28;01mdef\u001b[39;00m \u001b[38;5;21m__call__\u001b[39m(\u001b[38;5;28mcls\u001b[39m, \u001b[38;5;241m*\u001b[39margs, \u001b[38;5;241m*\u001b[39m\u001b[38;5;241m*\u001b[39mkwargs):\n\u001b[1;32m     62\u001b[0m \u001b[38;5;250m    \u001b[39m\u001b[38;5;124;03m\"\"\"\u001b[39;00m\n\u001b[1;32m     63\u001b[0m \u001b[38;5;124;03m    Instantiate *cls* (a Type subclass, presumably) and intern it.\u001b[39;00m\n\u001b[1;32m     64\u001b[0m \u001b[38;5;124;03m    If an interned instance already exists, it is returned, otherwise\u001b[39;00m\n\u001b[1;32m     65\u001b[0m \u001b[38;5;124;03m    the new instance is returned.\u001b[39;00m\n\u001b[1;32m     66\u001b[0m \u001b[38;5;124;03m    \"\"\"\u001b[39;00m\n\u001b[0;32m---> 67\u001b[0m     inst \u001b[38;5;241m=\u001b[39m \u001b[38;5;28;43mtype\u001b[39;49m\u001b[38;5;241;43m.\u001b[39;49m\u001b[38;5;21;43m__call__\u001b[39;49m\u001b[43m(\u001b[49m\u001b[38;5;28;43mcls\u001b[39;49m\u001b[43m,\u001b[49m\u001b[43m \u001b[49m\u001b[38;5;241;43m*\u001b[39;49m\u001b[43margs\u001b[49m\u001b[43m,\u001b[49m\u001b[43m \u001b[49m\u001b[38;5;241;43m*\u001b[39;49m\u001b[38;5;241;43m*\u001b[39;49m\u001b[43mkwargs\u001b[49m\u001b[43m)\u001b[49m\n\u001b[1;32m     68\u001b[0m     \u001b[38;5;28;01mreturn\u001b[39;00m \u001b[38;5;28mcls\u001b[39m\u001b[38;5;241m.\u001b[39m_intern(inst)\n",
      "File \u001b[0;32m~/anaconda3/envs/delight/lib/python3.11/site-packages/numba/core/types/npytypes.py:589\u001b[0m, in \u001b[0;36mNestedArray.__init__\u001b[0;34m(self, dtype, shape)\u001b[0m\n\u001b[1;32m    587\u001b[0m     shape \u001b[38;5;241m+\u001b[39m\u001b[38;5;241m=\u001b[39m dtype\u001b[38;5;241m.\u001b[39mshape\n\u001b[1;32m    588\u001b[0m     dtype \u001b[38;5;241m=\u001b[39m tmp\u001b[38;5;241m.\u001b[39mdtype\n\u001b[0;32m--> 589\u001b[0m \u001b[38;5;28;01massert\u001b[39;00m \u001b[43mdtype\u001b[49m\u001b[38;5;241;43m.\u001b[39;49m\u001b[43mbitwidth\u001b[49m \u001b[38;5;241m%\u001b[39m \u001b[38;5;241m8\u001b[39m \u001b[38;5;241m==\u001b[39m \u001b[38;5;241m0\u001b[39m, \\\n\u001b[1;32m    590\u001b[0m     \u001b[38;5;124m\"\u001b[39m\u001b[38;5;124mDtype bitwidth must be a multiple of bytes\u001b[39m\u001b[38;5;124m\"\u001b[39m\n\u001b[1;32m    591\u001b[0m \u001b[38;5;28mself\u001b[39m\u001b[38;5;241m.\u001b[39m_shape \u001b[38;5;241m=\u001b[39m shape\n\u001b[1;32m    592\u001b[0m name \u001b[38;5;241m=\u001b[39m \u001b[38;5;124m\"\u001b[39m\u001b[38;5;124mnestedarray(\u001b[39m\u001b[38;5;132;01m%s\u001b[39;00m\u001b[38;5;124m, \u001b[39m\u001b[38;5;132;01m%s\u001b[39;00m\u001b[38;5;124m)\u001b[39m\u001b[38;5;124m\"\u001b[39m \u001b[38;5;241m%\u001b[39m (dtype, shape)\n",
      "\u001b[0;31mAttributeError\u001b[0m: 'Boolean' object has no attribute 'bitwidth'"
     ]
    }
   ],
   "source": [
    "# creating context, registering storage and plugins\n",
    "context = sx.Context(storage=[sx.DataDirectory(helix_data_dir, provide_run_metadata=True), ],\n",
    "                     register=[hx.ToyDataRawRecords,\n",
    "                               hx.QPTriggers, hx.UVTriggers,\n",
    "                               hx.Events, hx.NoiseEvents,\n",
    "                               hx.NoisePSDs, hx.FitResults])    # all the plugins required for getting fit_results\n",
    "\n",
    "# creating a dictionary of plugins' options that we want to modify. \n",
    "config = {'run_metadata_directory': helix_data_dir,      # for the hx.ToyDataRawRecords plugin\n",
    "          'noise_events_random_seed': 1}                 # for the hx.NoiseEvents plugin\n",
    "\n",
    "# passing the settings to the plugins. Strax finds which plugins take these options automatically\n",
    "context.set_config(config)\n",
    "\n",
    "# running the processing (or retrieving the data, if it was processed earlier)\n",
    "\n",
    "\n",
    "psds = context.get_array(run_id, 'noise_psds')  # Helix needs to prebuild PSDs before calculating fit_results\n",
    "\n",
    "\n",
    "fit_results = context.get_array(run_id, 'fit_results')  # hx.FitResults plugin provides this data type\n",
    "\n",
    "# fit_results is a structured numpy array of events containing fields described in the FitResults documentation\n",
    "# one can work with it as a dictionary on numpy arrays, or as a numpy array of dictionaries. Works both ways. E.g.\n",
    "# fit_results['sum_uv_amplitude'][:100]  # amplitudes of UV signals in the sum of all channels in the first 100 events\n",
    "# fit_results[:100]['sum_uv_amplitude']  # same"
   ]
  },
  {
   "cell_type": "code",
   "execution_count": 8,
   "id": "4e6292e8-404c-4185-a054-ee872bb17959",
   "metadata": {},
   "outputs": [
    {
     "ename": "NameError",
     "evalue": "name 'chunk' is not defined",
     "output_type": "error",
     "traceback": [
      "\u001b[0;31m---------------------------------------------------------------------------\u001b[0m",
      "\u001b[0;31mNameError\u001b[0m                                 Traceback (most recent call last)",
      "Cell \u001b[0;32mIn[8], line 1\u001b[0m\n\u001b[0;32m----> 1\u001b[0m \u001b[38;5;28mprint\u001b[39m(\u001b[43mchunk\u001b[49m\u001b[38;5;241m.\u001b[39mdata\u001b[38;5;241m.\u001b[39mdtype)\n\u001b[1;32m      2\u001b[0m \u001b[38;5;28mprint\u001b[39m(chunk\u001b[38;5;241m.\u001b[39mdata)\n",
      "\u001b[0;31mNameError\u001b[0m: name 'chunk' is not defined"
     ]
    }
   ],
   "source": [
    "print(chunk.data.dtype)\n",
    "print(chunk.data)\n"
   ]
  },
  {
   "cell_type": "code",
   "execution_count": 7,
   "id": "1ff9f8f2-b522-4315-ab72-caf8156509d6",
   "metadata": {},
   "outputs": [
    {
     "ename": "NameError",
     "evalue": "name 'fit_results' is not defined",
     "output_type": "error",
     "traceback": [
      "\u001b[0;31m---------------------------------------------------------------------------\u001b[0m",
      "\u001b[0;31mNameError\u001b[0m                                 Traceback (most recent call last)",
      "Cell \u001b[0;32mIn[7], line 2\u001b[0m\n\u001b[1;32m      1\u001b[0m \u001b[38;5;66;03m# to show all the field names stored in the fit_results numpy structured array\u001b[39;00m\n\u001b[0;32m----> 2\u001b[0m \u001b[43mfit_results\u001b[49m\u001b[38;5;241m.\u001b[39mdtype\u001b[38;5;241m.\u001b[39mnames\n",
      "\u001b[0;31mNameError\u001b[0m: name 'fit_results' is not defined"
     ]
    }
   ],
   "source": [
    "# to show all the field names stored in the fit_results numpy structured array\n",
    "fit_results.dtype.names"
   ]
  },
  {
   "cell_type": "code",
   "execution_count": null,
   "id": "7c68e6cf-9f38-4790-9a95-14414b1b6834",
   "metadata": {},
   "outputs": [],
   "source": [
    "# 2d scatter plot of QP vs UV signal amplitudes\n",
    "plt.scatter(fit_results['triggered_uv_amplitude'], fit_results['triggered_qp_amplitude'])\n",
    "plt.xlabel('UV signal amplitude')\n",
    "plt.ylabel('QP signal amplitude')\n",
    "plt.xlim(-1000, 20000)\n",
    "plt.ylim(-1000, 40000)\n",
    "plt.show()"
   ]
  },
  {
   "cell_type": "code",
   "execution_count": null,
   "id": "a30ec9fb-12e6-49ae-bd6c-e1bd189ff5c3",
   "metadata": {},
   "outputs": [],
   "source": []
  },
  {
   "cell_type": "code",
   "execution_count": null,
   "id": "0c092b16-f838-46af-bd37-e1eaa925720f",
   "metadata": {},
   "outputs": [],
   "source": [
    "events = context.get_array(run_id, 'events')"
   ]
  },
  {
   "cell_type": "code",
   "execution_count": null,
   "id": "15dbc02d-299a-4a1d-b73a-f50ab66cfebe",
   "metadata": {},
   "outputs": [],
   "source": [
    "events.dtype.names"
   ]
  },
  {
   "cell_type": "code",
   "execution_count": null,
   "id": "ca1c2060-c7da-4976-aff4-ee2e7898d5e9",
   "metadata": {},
   "outputs": [],
   "source": [
    "# Building the channel map and loading the templates\n",
    "\n",
    "channels = hx.Channels(hx.DEFAULT_CHANNEL_MAP)\n",
    "\n",
    "template_path = './plugins/event_rqs/default_templates.npy'\n",
    "templates = np.load(template_path, allow_pickle=True)\n",
    "uv_template = templates[0]\n",
    "qp_template = templates[1]"
   ]
  },
  {
   "cell_type": "code",
   "execution_count": null,
   "id": "4a31eb11-6027-4e0a-af28-ca3a4b4eb978",
   "metadata": {},
   "outputs": [],
   "source": [
    "# change this to choose another event if the one below is a bad one by chance\n",
    "i = 3\n",
    "\n",
    "plt.figure(figsize=(10,16))\n",
    "artificial_baselines = np.arange(len(channels)) * 300  # adding artificial baselines to each channel to separate the channels on the plot\n",
    "plt.plot(events['channel_data'][i].T + artificial_baselines, lw=0.5, alpha=0.8, color='C0')  # plotting data in each channel\n",
    "\n",
    "event = fit_results[i]\n",
    "\n",
    "# plotting two-template fits in the vacuum channels\n",
    "for i_vac, i_ch in enumerate(channels.indices_of_type(hx.ChannelType.VACUUM)):\n",
    "    # i_vac is the ordinal index of the vacuum channel\n",
    "    # i_ch is the corrending ordinal index in the array of all channels\n",
    "    fit = event['vacuum_channel_uv_amplitude'][i_vac] * np.roll(uv_template, event['vacuum_channel_uv_offset'][i_vac]) + \\\n",
    "          event['vacuum_channel_qp_amplitude'][i_vac] * np.roll(qp_template, event['vacuum_channel_qp_offset'][i_vac])\n",
    "    x = np.arange(len(uv_template)) - hx.DEFAULT_ALLOWED_FIT_SHIFTS[0]  # currently, the FitResults plugin does not fit the entire event. It skips -hx.DEFAULT_ALLOWED_FIT_SHIFTS[0] samples.\n",
    "    plt.plot(x, fit+artificial_baselines[i_ch], lw=1, alpha=0.8, color='C1')\n",
    "\n",
    "# plotting one-template fits in the submerged channels\n",
    "for i_sub, i_ch in enumerate(channels.indices_of_type(hx.ChannelType.SUBMERGED)):\n",
    "    fit = event['submerged_channel_uv_amplitude'][i_sub] * np.roll(uv_template, event['submerged_channel_uv_offset'][i_sub])\n",
    "    x = np.arange(len(uv_template)) - hx.DEFAULT_ALLOWED_FIT_SHIFTS[0]\n",
    "    plt.plot(x, fit+artificial_baselines[i_ch], lw=1, color='C3')\n",
    "\n",
    "\n",
    "plt.xlabel('Time (samples)')\n",
    "plt.ylabel('Current (ADC units)')\n",
    "plt.show()"
   ]
  },
  {
   "cell_type": "markdown",
   "id": "269a1a24-b306-4f8e-adc6-50c8b9bb4991",
   "metadata": {},
   "source": [
    "### Please, clear the output of all cells after running this notebook. Do not push the cell outputs to git!\n",
    "In the upper left corner click Edit -> Clear outputs of all cells"
   ]
  }
 ],
 "metadata": {
  "kernelspec": {
   "display_name": "Python 3 (ipykernel)",
   "language": "python",
   "name": "python3"
  },
  "language_info": {
   "codemirror_mode": {
    "name": "ipython",
    "version": 3
   },
   "file_extension": ".py",
   "mimetype": "text/x-python",
   "name": "python",
   "nbconvert_exporter": "python",
   "pygments_lexer": "ipython3",
   "version": "3.11.11"
  }
 },
 "nbformat": 4,
 "nbformat_minor": 5
}
