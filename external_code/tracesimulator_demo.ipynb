{
 "cells": [
  {
   "cell_type": "markdown",
   "id": "e2163739-346d-450f-92f6-4124a621389e",
   "metadata": {},
   "source": [
    "## Trace Simulator Demo\n",
    "\n",
    "Notebook to generate toy data using the DELight TraceSimulator package as input\n",
    "\n",
    "To install helix, run pip install -e /path/to/helix/repo "
   ]
  },
  {
   "cell_type": "code",
   "execution_count": null,
   "id": "e47af6d5-86d2-4db7-a575-c454fc04828b",
   "metadata": {},
   "outputs": [],
   "source": [
    "import helix as hx\n",
    "import strax as sx  \n",
    "from matplotlib import pyplot as plt\n",
    "import numpy as np  \n",
    "import os\n",
    "import shutil\n",
    "from glob import glob"
   ]
  },
  {
   "cell_type": "markdown",
   "id": "46c2d7f5-6894-4c09-b7e4-d8ead011bd66",
   "metadata": {},
   "source": [
    "### Generate toy data using trace simulator \n",
    "\n",
    "The trace simulator toy data generator can produce data for different scenarios. \n",
    "- Provide a single event energy, recoil type, and event rate. The generated data will have a poissonian number of waveforms at random times throughout the stream according to the run duration and the event rate.\n",
    "- Provide a range of energies in the format [E1,E2], where energies will be uniformly drawn bewteen the two values. Also provide recoil type and event rate.\n",
    "- Provide a list of specific energies to use [E1,E2,E3,...,En]. Also provide recoil type and event rate\n",
    "- Provide the output of a geant4 simulation. Also provide event rate. The recoil type is taken from the simulation.\n",
    "\n",
    "Let's generate data with 500eV NR recoils. "
   ]
  },
  {
   "cell_type": "code",
   "execution_count": null,
   "id": "8a0be0eb-7297-4108-b554-ec853ba97fbf",
   "metadata": {},
   "outputs": [],
   "source": [
    "run_id = 'run_5keV_NR' \n",
    "duration = 10  # seconds\n",
    "raw_data_dir = 'tracesimulator_data'  # to save the raw toy data\n",
    "helix_data_dir = 'test_helix_data'  # to save the run metadata\n",
    "baseline_step = 0  # add a baseline equal to baseline_step*channel_index to each channel  \n",
    "\n",
    "energy = 5000 #eV\n",
    "recoil_type = 'NR'"
   ]
  },
  {
   "cell_type": "code",
   "execution_count": null,
   "id": "e6fe004b-cdfc-409f-b6b7-b1d6cba3b689",
   "metadata": {
    "tags": []
   },
   "outputs": [],
   "source": [
    "# remove helix data corresponding to this run_id, if it exists\n",
    "for path in glob(f'{helix_data_dir}/*'):\n",
    "    if os.path.isdir(path):\n",
    "        shutil.rmtree(path)\n",
    "    else:\n",
    "        os.remove(path)\n",
    "\n",
    "hx.generate_tracesimulator_data(run_id,duration,event_rate=3,event_energy=energy,overwrite=True,recoil_type=recoil_type,directory=raw_data_dir,helix_data_dir =helix_data_dir )"
   ]
  },
  {
   "cell_type": "markdown",
   "id": "e334fe35-5c6a-4706-93f3-1dd6dd59dc09",
   "metadata": {},
   "source": [
    "### Process the data\n",
    "Once the data have been generated, let's process them with helix "
   ]
  },
  {
   "cell_type": "code",
   "execution_count": null,
   "id": "d68f4c5d-ef04-4932-b7b8-07189ee2aaa4",
   "metadata": {},
   "outputs": [],
   "source": [
    "# creating context, registering storage and plugins\n",
    "context = sx.Context(storage=[sx.DataDirectory(helix_data_dir, provide_run_metadata=True), ],\n",
    "                     register=[hx.ToyDataRawRecords,\n",
    "                               hx.QPTriggers, hx.UVTriggers,\n",
    "                               hx.Events, hx.NoiseEvents,\n",
    "                               hx.NoisePSDs, hx.FitResults,\n",
    "                               hx.EventsBasics])    # all the plugins required for getting fit_results\n",
    "\n",
    "# creating a dictionary of plugins' options that we want to modify.\n",
    "config = {'run_metadata_directory': helix_data_dir,      # for the hx.ToyDataRawRecords plugin\n",
    "          'noise_events_random_seed': 1,                 # for the hx.NoiseEvents plugin\n",
    "          'daq_data_directory': raw_data_dir,\n",
    "          'trigger_threshold':100,\n",
    "          'templates_path':'plugins/event_rqs/signalformation_templates.npy'}                 # for the hx.NoiseEvents plugin\n",
    "\n",
    "# passing the settings to the plugins. Strax finds which plugins take these options automatically\n",
    "context.set_config(config)\n",
    "\n",
    "# running the processing (or retrieving the data, if it was processed earlier)\n",
    "psds = context.get_array(run_id, 'noise_psds')  # Helix needs to prebuild PSDs before calculating fit_results \n",
    "fit_results = context.get_array(run_id, 'fit_results')  # hx.FitResults plugin provides this data type\n",
    "\n",
    "# fit_results is a structured numpy array of events containing fields described in the FitResults documentation\n",
    "# one can work with it as a dictionary on numpy arrays, or as a numpy array of dictionaries. Works both ways. E.g.\n",
    "# fit_results['sum_uv_amplitude'][:100]  # amplitudes of UV signals in the sum of all channels in the first 100 events\n",
    "# fit_results[:100]['sum_uv_amplitude']  # same"
   ]
  },
  {
   "cell_type": "markdown",
   "id": "503472c3-f012-40aa-970b-a4282ebe0e7f",
   "metadata": {},
   "source": [
    "## Results of Processing"
   ]
  },
  {
   "cell_type": "code",
   "execution_count": null,
   "id": "e2229bee-23d4-4e0d-8259-e12bde9e0868",
   "metadata": {},
   "outputs": [],
   "source": [
    "plt.scatter(fit_results['triggered_uv_amplitude'], fit_results['triggered_qp_amplitude'])\n",
    "plt.xlabel('UV signal amplitude')\n",
    "plt.ylabel('QP signal amplitude')\n",
    "plt.xlim(-1000, 20000)\n",
    "plt.ylim(-1000, 40000)\n",
    "plt.show()"
   ]
  },
  {
   "cell_type": "code",
   "execution_count": null,
   "id": "bde4b697-75ec-44c4-b440-b979d45e81bc",
   "metadata": {},
   "outputs": [],
   "source": [
    "events = context.get_array(run_id, 'events')"
   ]
  },
  {
   "cell_type": "code",
   "execution_count": null,
   "id": "9d0bdc72-16b5-4fda-9892-e87b101a247d",
   "metadata": {},
   "outputs": [],
   "source": [
    "# Building the channel map and loading the templates\n",
    "\n",
    "channels = hx.Channels(hx.DEFAULT_CHANNEL_MAP)\n",
    "\n",
    "template_path = '/home/ws/fm7040/helix/helix/plugins/event_rqs/signalformation_templates.npy'\n",
    "templates = np.load(template_path, allow_pickle=True)\n",
    "uv_template = templates[0]\n",
    "qp_template = templates[1]"
   ]
  },
  {
   "cell_type": "markdown",
   "id": "0d7e83ca-aebf-4f9f-b2f8-e999bd8186ef",
   "metadata": {},
   "source": [
    "## Triggered events (triplet signals will often cause triggers at the moment)"
   ]
  },
  {
   "cell_type": "code",
   "execution_count": null,
   "id": "e9521dfb-468b-4a90-858f-d25080817794",
   "metadata": {},
   "outputs": [],
   "source": [
    "# change this to choose another event if the one below is a bad one by chance\n",
    "for i in range(10):\n",
    "\n",
    "    plt.figure(figsize=(10,16))\n",
    "    artificial_baselines = np.arange(len(channels)) * 300  # adding artificial baselines to each channel to separate the channels on the plot\n",
    "    plt.plot(events['channel_data'][i].T + artificial_baselines, lw=0.5, alpha=0.8, color='C0')  # plotting data in each channel\n",
    "\n",
    "    event = fit_results[i]\n",
    "\n",
    "    # plotting two-template fits in the vacuum channels\n",
    "    for i_vac, i_ch in enumerate(channels.indices_of_type(hx.ChannelType.VACUUM)):\n",
    "        # i_vac is the ordinal index of the vacuum channel\n",
    "        # i_ch is the corrending ordinal index in the array of all channels\n",
    "        fit = event['vacuum_channel_uv_amplitude'][i_vac] * np.roll(uv_template, event['vacuum_channel_uv_offset'][i_vac]) + \\\n",
    "              event['vacuum_channel_qp_amplitude'][i_vac] * np.roll(qp_template, event['vacuum_channel_qp_offset'][i_vac])\n",
    "        x = np.arange(len(uv_template)) - hx.DEFAULT_ALLOWED_FIT_SHIFTS[0]  # currently, the FitResults plugin does not fit the entire event. It skips -hx.DEFAULT_ALLOWED_FIT_SHIFTS[0] samples.\n",
    "        plt.plot(x, fit+artificial_baselines[i_ch], lw=1, alpha=0.8, color='C1')\n",
    "\n",
    "    # plotting one-template fits in the submerged channels\n",
    "    for i_sub, i_ch in enumerate(channels.indices_of_type(hx.ChannelType.SUBMERGED)):\n",
    "        fit = event['submerged_channel_uv_amplitude'][i_sub] * np.roll(uv_template, event['submerged_channel_uv_offset'][i_sub])\n",
    "        x = np.arange(len(uv_template)) - hx.DEFAULT_ALLOWED_FIT_SHIFTS[0]\n",
    "        plt.plot(x, fit+artificial_baselines[i_ch], lw=1, color='C3')\n",
    "\n",
    "\n",
    "    plt.xlabel('Time (samples)')\n",
    "    plt.ylabel('Current (ADC units)')\n",
    "    plt.show()"
   ]
  }
 ],
 "metadata": {
  "kernelspec": {
   "display_name": "Python 3 (ipykernel)",
   "language": "python",
   "name": "python3"
  },
  "language_info": {
   "codemirror_mode": {
    "name": "ipython",
    "version": 3
   },
   "file_extension": ".py",
   "mimetype": "text/x-python",
   "name": "python",
   "nbconvert_exporter": "python",
   "pygments_lexer": "ipython3",
   "version": "3.8.10"
  }
 },
 "nbformat": 4,
 "nbformat_minor": 5
}
